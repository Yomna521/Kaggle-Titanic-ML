{
 "cells": [
  {
   "cell_type": "markdown",
   "id": "chubby-protection",
   "metadata": {
    "papermill": {
     "duration": 0.041284,
     "end_time": "2021-06-01T18:15:29.758063",
     "exception": false,
     "start_time": "2021-06-01T18:15:29.716779",
     "status": "completed"
    },
    "tags": []
   },
   "source": [
    "# Titanic ML Competition"
   ]
  },
  {
   "cell_type": "code",
   "execution_count": 1,
   "id": "unable-picking",
   "metadata": {
    "execution": {
     "iopub.execute_input": "2021-06-01T18:15:29.852132Z",
     "iopub.status.busy": "2021-06-01T18:15:29.851328Z",
     "iopub.status.idle": "2021-06-01T18:15:30.789677Z",
     "shell.execute_reply": "2021-06-01T18:15:30.788905Z",
     "shell.execute_reply.started": "2021-06-01T18:14:38.596825Z"
    },
    "papermill": {
     "duration": 0.99219,
     "end_time": "2021-06-01T18:15:30.789858",
     "exception": false,
     "start_time": "2021-06-01T18:15:29.797668",
     "status": "completed"
    },
    "tags": []
   },
   "outputs": [
    {
     "name": "stdout",
     "output_type": "stream",
     "text": [
      "/kaggle/input/titanic/train.csv\n",
      "/kaggle/input/titanic/test.csv\n",
      "/kaggle/input/titanic/gender_submission.csv\n"
     ]
    }
   ],
   "source": [
    "import numpy as np # linear algebra\n",
    "import pandas as pd # data processing, CSV file I/O (e.g. pd.read_csv)\n",
    "import matplotlib.pyplot as plt\n",
    "%matplotlib inline\n",
    "import seaborn as sns\n",
    "# Input data files are available in the read-only \"../input/\" directory\n",
    "# For example, running this (by clicking run or pressing Shift+Enter) will list all files under the input directory\n",
    "\n",
    "import os\n",
    "for dirname, _, filenames in os.walk('/kaggle/input'):\n",
    "    for filename in filenames:\n",
    "        print(os.path.join(dirname, filename))"
   ]
  },
  {
   "cell_type": "markdown",
   "id": "wooden-attribute",
   "metadata": {
    "papermill": {
     "duration": 0.041156,
     "end_time": "2021-06-01T18:15:30.871544",
     "exception": false,
     "start_time": "2021-06-01T18:15:30.830388",
     "status": "completed"
    },
    "tags": []
   },
   "source": [
    "## Exploring Data\n"
   ]
  },
  {
   "cell_type": "code",
   "execution_count": 2,
   "id": "threaded-metabolism",
   "metadata": {
    "execution": {
     "iopub.execute_input": "2021-06-01T18:15:30.957147Z",
     "iopub.status.busy": "2021-06-01T18:15:30.956206Z",
     "iopub.status.idle": "2021-06-01T18:15:31.005468Z",
     "shell.execute_reply": "2021-06-01T18:15:31.006024Z",
     "shell.execute_reply.started": "2021-06-01T18:14:38.613427Z"
    },
    "papermill": {
     "duration": 0.094912,
     "end_time": "2021-06-01T18:15:31.006209",
     "exception": false,
     "start_time": "2021-06-01T18:15:30.911297",
     "status": "completed"
    },
    "tags": []
   },
   "outputs": [
    {
     "data": {
      "text/html": [
       "<div>\n",
       "<style scoped>\n",
       "    .dataframe tbody tr th:only-of-type {\n",
       "        vertical-align: middle;\n",
       "    }\n",
       "\n",
       "    .dataframe tbody tr th {\n",
       "        vertical-align: top;\n",
       "    }\n",
       "\n",
       "    .dataframe thead th {\n",
       "        text-align: right;\n",
       "    }\n",
       "</style>\n",
       "<table border=\"1\" class=\"dataframe\">\n",
       "  <thead>\n",
       "    <tr style=\"text-align: right;\">\n",
       "      <th></th>\n",
       "      <th>PassengerId</th>\n",
       "      <th>Survived</th>\n",
       "      <th>Pclass</th>\n",
       "      <th>Name</th>\n",
       "      <th>Sex</th>\n",
       "      <th>Age</th>\n",
       "      <th>SibSp</th>\n",
       "      <th>Parch</th>\n",
       "      <th>Ticket</th>\n",
       "      <th>Fare</th>\n",
       "      <th>Cabin</th>\n",
       "      <th>Embarked</th>\n",
       "    </tr>\n",
       "  </thead>\n",
       "  <tbody>\n",
       "    <tr>\n",
       "      <th>0</th>\n",
       "      <td>1</td>\n",
       "      <td>0</td>\n",
       "      <td>3</td>\n",
       "      <td>Braund, Mr. Owen Harris</td>\n",
       "      <td>male</td>\n",
       "      <td>22.0</td>\n",
       "      <td>1</td>\n",
       "      <td>0</td>\n",
       "      <td>A/5 21171</td>\n",
       "      <td>7.2500</td>\n",
       "      <td>NaN</td>\n",
       "      <td>S</td>\n",
       "    </tr>\n",
       "    <tr>\n",
       "      <th>1</th>\n",
       "      <td>2</td>\n",
       "      <td>1</td>\n",
       "      <td>1</td>\n",
       "      <td>Cumings, Mrs. John Bradley (Florence Briggs Th...</td>\n",
       "      <td>female</td>\n",
       "      <td>38.0</td>\n",
       "      <td>1</td>\n",
       "      <td>0</td>\n",
       "      <td>PC 17599</td>\n",
       "      <td>71.2833</td>\n",
       "      <td>C85</td>\n",
       "      <td>C</td>\n",
       "    </tr>\n",
       "    <tr>\n",
       "      <th>2</th>\n",
       "      <td>3</td>\n",
       "      <td>1</td>\n",
       "      <td>3</td>\n",
       "      <td>Heikkinen, Miss. Laina</td>\n",
       "      <td>female</td>\n",
       "      <td>26.0</td>\n",
       "      <td>0</td>\n",
       "      <td>0</td>\n",
       "      <td>STON/O2. 3101282</td>\n",
       "      <td>7.9250</td>\n",
       "      <td>NaN</td>\n",
       "      <td>S</td>\n",
       "    </tr>\n",
       "    <tr>\n",
       "      <th>3</th>\n",
       "      <td>4</td>\n",
       "      <td>1</td>\n",
       "      <td>1</td>\n",
       "      <td>Futrelle, Mrs. Jacques Heath (Lily May Peel)</td>\n",
       "      <td>female</td>\n",
       "      <td>35.0</td>\n",
       "      <td>1</td>\n",
       "      <td>0</td>\n",
       "      <td>113803</td>\n",
       "      <td>53.1000</td>\n",
       "      <td>C123</td>\n",
       "      <td>S</td>\n",
       "    </tr>\n",
       "    <tr>\n",
       "      <th>4</th>\n",
       "      <td>5</td>\n",
       "      <td>0</td>\n",
       "      <td>3</td>\n",
       "      <td>Allen, Mr. William Henry</td>\n",
       "      <td>male</td>\n",
       "      <td>35.0</td>\n",
       "      <td>0</td>\n",
       "      <td>0</td>\n",
       "      <td>373450</td>\n",
       "      <td>8.0500</td>\n",
       "      <td>NaN</td>\n",
       "      <td>S</td>\n",
       "    </tr>\n",
       "  </tbody>\n",
       "</table>\n",
       "</div>"
      ],
      "text/plain": [
       "   PassengerId  Survived  Pclass  \\\n",
       "0            1         0       3   \n",
       "1            2         1       1   \n",
       "2            3         1       3   \n",
       "3            4         1       1   \n",
       "4            5         0       3   \n",
       "\n",
       "                                                Name     Sex   Age  SibSp  \\\n",
       "0                            Braund, Mr. Owen Harris    male  22.0      1   \n",
       "1  Cumings, Mrs. John Bradley (Florence Briggs Th...  female  38.0      1   \n",
       "2                             Heikkinen, Miss. Laina  female  26.0      0   \n",
       "3       Futrelle, Mrs. Jacques Heath (Lily May Peel)  female  35.0      1   \n",
       "4                           Allen, Mr. William Henry    male  35.0      0   \n",
       "\n",
       "   Parch            Ticket     Fare Cabin Embarked  \n",
       "0      0         A/5 21171   7.2500   NaN        S  \n",
       "1      0          PC 17599  71.2833   C85        C  \n",
       "2      0  STON/O2. 3101282   7.9250   NaN        S  \n",
       "3      0            113803  53.1000  C123        S  \n",
       "4      0            373450   8.0500   NaN        S  "
      ]
     },
     "execution_count": 2,
     "metadata": {},
     "output_type": "execute_result"
    }
   ],
   "source": [
    "train_data = pd.read_csv(\"/kaggle/input/titanic/train.csv\")\n",
    "train_data.head()"
   ]
  },
  {
   "cell_type": "markdown",
   "id": "realistic-commonwealth",
   "metadata": {
    "papermill": {
     "duration": 0.041895,
     "end_time": "2021-06-01T18:15:31.087983",
     "exception": false,
     "start_time": "2021-06-01T18:15:31.046088",
     "status": "completed"
    },
    "tags": []
   },
   "source": [
    "### Check if there's duplicate enteries"
   ]
  },
  {
   "cell_type": "code",
   "execution_count": 3,
   "id": "widespread-supplement",
   "metadata": {
    "execution": {
     "iopub.execute_input": "2021-06-01T18:15:31.178139Z",
     "iopub.status.busy": "2021-06-01T18:15:31.177423Z",
     "iopub.status.idle": "2021-06-01T18:15:31.188277Z",
     "shell.execute_reply": "2021-06-01T18:15:31.187682Z",
     "shell.execute_reply.started": "2021-06-01T18:14:38.639332Z"
    },
    "papermill": {
     "duration": 0.059434,
     "end_time": "2021-06-01T18:15:31.188422",
     "exception": false,
     "start_time": "2021-06-01T18:15:31.128988",
     "status": "completed"
    },
    "tags": []
   },
   "outputs": [
    {
     "data": {
      "text/plain": [
       "0"
      ]
     },
     "execution_count": 3,
     "metadata": {},
     "output_type": "execute_result"
    }
   ],
   "source": [
    "sum(train_data.duplicated())"
   ]
  },
  {
   "cell_type": "code",
   "execution_count": 4,
   "id": "placed-worcester",
   "metadata": {
    "execution": {
     "iopub.execute_input": "2021-06-01T18:15:31.274429Z",
     "iopub.status.busy": "2021-06-01T18:15:31.273392Z",
     "iopub.status.idle": "2021-06-01T18:15:31.299701Z",
     "shell.execute_reply": "2021-06-01T18:15:31.300185Z",
     "shell.execute_reply.started": "2021-06-01T18:14:38.662209Z"
    },
    "papermill": {
     "duration": 0.071518,
     "end_time": "2021-06-01T18:15:31.300383",
     "exception": false,
     "start_time": "2021-06-01T18:15:31.228865",
     "status": "completed"
    },
    "tags": []
   },
   "outputs": [
    {
     "data": {
      "text/html": [
       "<div>\n",
       "<style scoped>\n",
       "    .dataframe tbody tr th:only-of-type {\n",
       "        vertical-align: middle;\n",
       "    }\n",
       "\n",
       "    .dataframe tbody tr th {\n",
       "        vertical-align: top;\n",
       "    }\n",
       "\n",
       "    .dataframe thead th {\n",
       "        text-align: right;\n",
       "    }\n",
       "</style>\n",
       "<table border=\"1\" class=\"dataframe\">\n",
       "  <thead>\n",
       "    <tr style=\"text-align: right;\">\n",
       "      <th></th>\n",
       "      <th>PassengerId</th>\n",
       "      <th>Pclass</th>\n",
       "      <th>Name</th>\n",
       "      <th>Sex</th>\n",
       "      <th>Age</th>\n",
       "      <th>SibSp</th>\n",
       "      <th>Parch</th>\n",
       "      <th>Ticket</th>\n",
       "      <th>Fare</th>\n",
       "      <th>Cabin</th>\n",
       "      <th>Embarked</th>\n",
       "    </tr>\n",
       "  </thead>\n",
       "  <tbody>\n",
       "    <tr>\n",
       "      <th>0</th>\n",
       "      <td>892</td>\n",
       "      <td>3</td>\n",
       "      <td>Kelly, Mr. James</td>\n",
       "      <td>male</td>\n",
       "      <td>34.5</td>\n",
       "      <td>0</td>\n",
       "      <td>0</td>\n",
       "      <td>330911</td>\n",
       "      <td>7.8292</td>\n",
       "      <td>NaN</td>\n",
       "      <td>Q</td>\n",
       "    </tr>\n",
       "    <tr>\n",
       "      <th>1</th>\n",
       "      <td>893</td>\n",
       "      <td>3</td>\n",
       "      <td>Wilkes, Mrs. James (Ellen Needs)</td>\n",
       "      <td>female</td>\n",
       "      <td>47.0</td>\n",
       "      <td>1</td>\n",
       "      <td>0</td>\n",
       "      <td>363272</td>\n",
       "      <td>7.0000</td>\n",
       "      <td>NaN</td>\n",
       "      <td>S</td>\n",
       "    </tr>\n",
       "    <tr>\n",
       "      <th>2</th>\n",
       "      <td>894</td>\n",
       "      <td>2</td>\n",
       "      <td>Myles, Mr. Thomas Francis</td>\n",
       "      <td>male</td>\n",
       "      <td>62.0</td>\n",
       "      <td>0</td>\n",
       "      <td>0</td>\n",
       "      <td>240276</td>\n",
       "      <td>9.6875</td>\n",
       "      <td>NaN</td>\n",
       "      <td>Q</td>\n",
       "    </tr>\n",
       "    <tr>\n",
       "      <th>3</th>\n",
       "      <td>895</td>\n",
       "      <td>3</td>\n",
       "      <td>Wirz, Mr. Albert</td>\n",
       "      <td>male</td>\n",
       "      <td>27.0</td>\n",
       "      <td>0</td>\n",
       "      <td>0</td>\n",
       "      <td>315154</td>\n",
       "      <td>8.6625</td>\n",
       "      <td>NaN</td>\n",
       "      <td>S</td>\n",
       "    </tr>\n",
       "    <tr>\n",
       "      <th>4</th>\n",
       "      <td>896</td>\n",
       "      <td>3</td>\n",
       "      <td>Hirvonen, Mrs. Alexander (Helga E Lindqvist)</td>\n",
       "      <td>female</td>\n",
       "      <td>22.0</td>\n",
       "      <td>1</td>\n",
       "      <td>1</td>\n",
       "      <td>3101298</td>\n",
       "      <td>12.2875</td>\n",
       "      <td>NaN</td>\n",
       "      <td>S</td>\n",
       "    </tr>\n",
       "  </tbody>\n",
       "</table>\n",
       "</div>"
      ],
      "text/plain": [
       "   PassengerId  Pclass                                          Name     Sex  \\\n",
       "0          892       3                              Kelly, Mr. James    male   \n",
       "1          893       3              Wilkes, Mrs. James (Ellen Needs)  female   \n",
       "2          894       2                     Myles, Mr. Thomas Francis    male   \n",
       "3          895       3                              Wirz, Mr. Albert    male   \n",
       "4          896       3  Hirvonen, Mrs. Alexander (Helga E Lindqvist)  female   \n",
       "\n",
       "    Age  SibSp  Parch   Ticket     Fare Cabin Embarked  \n",
       "0  34.5      0      0   330911   7.8292   NaN        Q  \n",
       "1  47.0      1      0   363272   7.0000   NaN        S  \n",
       "2  62.0      0      0   240276   9.6875   NaN        Q  \n",
       "3  27.0      0      0   315154   8.6625   NaN        S  \n",
       "4  22.0      1      1  3101298  12.2875   NaN        S  "
      ]
     },
     "execution_count": 4,
     "metadata": {},
     "output_type": "execute_result"
    }
   ],
   "source": [
    "test_data = pd.read_csv(\"/kaggle/input/titanic/test.csv\")\n",
    "test_data.head()"
   ]
  },
  {
   "cell_type": "markdown",
   "id": "instant-shape",
   "metadata": {
    "papermill": {
     "duration": 0.040567,
     "end_time": "2021-06-01T18:15:31.381591",
     "exception": false,
     "start_time": "2021-06-01T18:15:31.341024",
     "status": "completed"
    },
    "tags": []
   },
   "source": [
    "## Clean Data"
   ]
  },
  {
   "cell_type": "code",
   "execution_count": 5,
   "id": "going-salvation",
   "metadata": {
    "execution": {
     "iopub.execute_input": "2021-06-01T18:15:31.466683Z",
     "iopub.status.busy": "2021-06-01T18:15:31.465673Z",
     "iopub.status.idle": "2021-06-01T18:15:31.478811Z",
     "shell.execute_reply": "2021-06-01T18:15:31.479297Z",
     "shell.execute_reply.started": "2021-06-01T18:14:38.685573Z"
    },
    "papermill": {
     "duration": 0.057249,
     "end_time": "2021-06-01T18:15:31.479485",
     "exception": false,
     "start_time": "2021-06-01T18:15:31.422236",
     "status": "completed"
    },
    "tags": []
   },
   "outputs": [
    {
     "data": {
      "text/plain": [
       "<bound method NDFrame.head of      PassengerId  Survived  Pclass     Sex   Age Embarked\n",
       "0              1         0       3    male  22.0        S\n",
       "1              2         1       1  female  38.0        C\n",
       "2              3         1       3  female  26.0        S\n",
       "3              4         1       1  female  35.0        S\n",
       "4              5         0       3    male  35.0        S\n",
       "..           ...       ...     ...     ...   ...      ...\n",
       "886          887         0       2    male  27.0        S\n",
       "887          888         1       1  female  19.0        S\n",
       "888          889         0       3  female   NaN        S\n",
       "889          890         1       1    male  26.0        C\n",
       "890          891         0       3    male  32.0        Q\n",
       "\n",
       "[891 rows x 6 columns]>"
      ]
     },
     "execution_count": 5,
     "metadata": {},
     "output_type": "execute_result"
    }
   ],
   "source": [
    "train_data.drop(['SibSp','Parch','Fare','Cabin','Ticket', 'Name'], axis = 1, inplace = True)\n",
    "train_data.head"
   ]
  },
  {
   "cell_type": "code",
   "execution_count": 6,
   "id": "mechanical-composition",
   "metadata": {
    "execution": {
     "iopub.execute_input": "2021-06-01T18:15:31.566449Z",
     "iopub.status.busy": "2021-06-01T18:15:31.565445Z",
     "iopub.status.idle": "2021-06-01T18:15:31.597327Z",
     "shell.execute_reply": "2021-06-01T18:15:31.596710Z",
     "shell.execute_reply.started": "2021-06-01T18:14:38.710908Z"
    },
    "papermill": {
     "duration": 0.076384,
     "end_time": "2021-06-01T18:15:31.597477",
     "exception": false,
     "start_time": "2021-06-01T18:15:31.521093",
     "status": "completed"
    },
    "tags": []
   },
   "outputs": [
    {
     "data": {
      "text/html": [
       "<div>\n",
       "<style scoped>\n",
       "    .dataframe tbody tr th:only-of-type {\n",
       "        vertical-align: middle;\n",
       "    }\n",
       "\n",
       "    .dataframe tbody tr th {\n",
       "        vertical-align: top;\n",
       "    }\n",
       "\n",
       "    .dataframe thead th {\n",
       "        text-align: right;\n",
       "    }\n",
       "</style>\n",
       "<table border=\"1\" class=\"dataframe\">\n",
       "  <thead>\n",
       "    <tr style=\"text-align: right;\">\n",
       "      <th></th>\n",
       "      <th>PassengerId</th>\n",
       "      <th>Survived</th>\n",
       "      <th>Pclass</th>\n",
       "      <th>Age</th>\n",
       "    </tr>\n",
       "  </thead>\n",
       "  <tbody>\n",
       "    <tr>\n",
       "      <th>count</th>\n",
       "      <td>891.000000</td>\n",
       "      <td>891.000000</td>\n",
       "      <td>891.000000</td>\n",
       "      <td>714.000000</td>\n",
       "    </tr>\n",
       "    <tr>\n",
       "      <th>mean</th>\n",
       "      <td>446.000000</td>\n",
       "      <td>0.383838</td>\n",
       "      <td>2.308642</td>\n",
       "      <td>29.699118</td>\n",
       "    </tr>\n",
       "    <tr>\n",
       "      <th>std</th>\n",
       "      <td>257.353842</td>\n",
       "      <td>0.486592</td>\n",
       "      <td>0.836071</td>\n",
       "      <td>14.526497</td>\n",
       "    </tr>\n",
       "    <tr>\n",
       "      <th>min</th>\n",
       "      <td>1.000000</td>\n",
       "      <td>0.000000</td>\n",
       "      <td>1.000000</td>\n",
       "      <td>0.420000</td>\n",
       "    </tr>\n",
       "    <tr>\n",
       "      <th>25%</th>\n",
       "      <td>223.500000</td>\n",
       "      <td>0.000000</td>\n",
       "      <td>2.000000</td>\n",
       "      <td>20.125000</td>\n",
       "    </tr>\n",
       "    <tr>\n",
       "      <th>50%</th>\n",
       "      <td>446.000000</td>\n",
       "      <td>0.000000</td>\n",
       "      <td>3.000000</td>\n",
       "      <td>28.000000</td>\n",
       "    </tr>\n",
       "    <tr>\n",
       "      <th>75%</th>\n",
       "      <td>668.500000</td>\n",
       "      <td>1.000000</td>\n",
       "      <td>3.000000</td>\n",
       "      <td>38.000000</td>\n",
       "    </tr>\n",
       "    <tr>\n",
       "      <th>max</th>\n",
       "      <td>891.000000</td>\n",
       "      <td>1.000000</td>\n",
       "      <td>3.000000</td>\n",
       "      <td>80.000000</td>\n",
       "    </tr>\n",
       "  </tbody>\n",
       "</table>\n",
       "</div>"
      ],
      "text/plain": [
       "       PassengerId    Survived      Pclass         Age\n",
       "count   891.000000  891.000000  891.000000  714.000000\n",
       "mean    446.000000    0.383838    2.308642   29.699118\n",
       "std     257.353842    0.486592    0.836071   14.526497\n",
       "min       1.000000    0.000000    1.000000    0.420000\n",
       "25%     223.500000    0.000000    2.000000   20.125000\n",
       "50%     446.000000    0.000000    3.000000   28.000000\n",
       "75%     668.500000    1.000000    3.000000   38.000000\n",
       "max     891.000000    1.000000    3.000000   80.000000"
      ]
     },
     "execution_count": 6,
     "metadata": {},
     "output_type": "execute_result"
    }
   ],
   "source": [
    "train_data.describe()"
   ]
  },
  {
   "cell_type": "markdown",
   "id": "regulated-ocean",
   "metadata": {
    "papermill": {
     "duration": 0.041784,
     "end_time": "2021-06-01T18:15:31.681842",
     "exception": false,
     "start_time": "2021-06-01T18:15:31.640058",
     "status": "completed"
    },
    "tags": []
   },
   "source": [
    "## Explore patterns"
   ]
  },
  {
   "cell_type": "markdown",
   "id": "extended-secretariat",
   "metadata": {
    "papermill": {
     "duration": 0.042786,
     "end_time": "2021-06-01T18:15:31.766524",
     "exception": false,
     "start_time": "2021-06-01T18:15:31.723738",
     "status": "completed"
    },
    "tags": []
   },
   "source": [
    "### Survival based on gender"
   ]
  },
  {
   "cell_type": "code",
   "execution_count": 7,
   "id": "southeast-hometown",
   "metadata": {
    "execution": {
     "iopub.execute_input": "2021-06-01T18:15:31.860498Z",
     "iopub.status.busy": "2021-06-01T18:15:31.858399Z",
     "iopub.status.idle": "2021-06-01T18:15:32.005201Z",
     "shell.execute_reply": "2021-06-01T18:15:32.005685Z",
     "shell.execute_reply.started": "2021-06-01T18:14:38.737999Z"
    },
    "papermill": {
     "duration": 0.197564,
     "end_time": "2021-06-01T18:15:32.005881",
     "exception": false,
     "start_time": "2021-06-01T18:15:31.808317",
     "status": "completed"
    },
    "tags": []
   },
   "outputs": [
    {
     "data": {
      "image/png": "[encoded data removed]",
      "text/plain": [
       "<Figure size 432x288 with 1 Axes>"
      ]
     },
     "metadata": {
      "needs_background": "light"
     },
     "output_type": "display_data"
    }
   ],
   "source": [
    "sns.countplot(x='Sex', data=train_data);"
   ]
  },
  {
   "cell_type": "markdown",
   "id": "better-letter",
   "metadata": {
    "papermill": {
     "duration": 0.043765,
     "end_time": "2021-06-01T18:15:32.093230",
     "exception": false,
     "start_time": "2021-06-01T18:15:32.049465",
     "status": "completed"
    },
    "tags": []
   },
   "source": [
    "The number of males aboard is almost double the number of females."
   ]
  },
  {
   "cell_type": "code",
   "execution_count": 8,
   "id": "floppy-prerequisite",
   "metadata": {
    "execution": {
     "iopub.execute_input": "2021-06-01T18:15:32.187424Z",
     "iopub.status.busy": "2021-06-01T18:15:32.186422Z",
     "iopub.status.idle": "2021-06-01T18:15:32.191202Z",
     "shell.execute_reply": "2021-06-01T18:15:32.190360Z",
     "shell.execute_reply.started": "2021-06-01T18:14:38.842581Z"
    },
    "papermill": {
     "duration": 0.05486,
     "end_time": "2021-06-01T18:15:32.191404",
     "exception": false,
     "start_time": "2021-06-01T18:15:32.136544",
     "status": "completed"
    },
    "tags": []
   },
   "outputs": [
    {
     "name": "stdout",
     "output_type": "stream",
     "text": [
      "74.2% of women survived\n"
     ]
    }
   ],
   "source": [
    "women = train_data.loc[train_data.Sex == 'female'][\"Survived\"]\n",
    "rate_women = round(sum(women)/len(women)*100 , 2)\n",
    "\n",
    "print(\"{}% of women survived\".format(rate_women))"
   ]
  },
  {
   "cell_type": "code",
   "execution_count": 9,
   "id": "through-feeling",
   "metadata": {
    "execution": {
     "iopub.execute_input": "2021-06-01T18:15:32.287960Z",
     "iopub.status.busy": "2021-06-01T18:15:32.287319Z",
     "iopub.status.idle": "2021-06-01T18:15:32.289841Z",
     "shell.execute_reply": "2021-06-01T18:15:32.290345Z",
     "shell.execute_reply.started": "2021-06-01T18:14:38.852285Z"
    },
    "papermill": {
     "duration": 0.053221,
     "end_time": "2021-06-01T18:15:32.290522",
     "exception": false,
     "start_time": "2021-06-01T18:15:32.237301",
     "status": "completed"
    },
    "tags": []
   },
   "outputs": [
    {
     "name": "stdout",
     "output_type": "stream",
     "text": [
      "18.89% of men survived\n"
     ]
    }
   ],
   "source": [
    "men = train_data.loc[train_data.Sex == 'male'][\"Survived\"]\n",
    "rate_men = round(sum(men)/len(men)*100, 2)\n",
    "\n",
    "print(\"{}% of men survived\".format(rate_men))"
   ]
  },
  {
   "cell_type": "code",
   "execution_count": 10,
   "id": "steady-tribe",
   "metadata": {
    "execution": {
     "iopub.execute_input": "2021-06-01T18:15:32.381984Z",
     "iopub.status.busy": "2021-06-01T18:15:32.380645Z",
     "iopub.status.idle": "2021-06-01T18:15:32.696627Z",
     "shell.execute_reply": "2021-06-01T18:15:32.695792Z",
     "shell.execute_reply.started": "2021-06-01T18:14:38.865350Z"
    },
    "papermill": {
     "duration": 0.363648,
     "end_time": "2021-06-01T18:15:32.696792",
     "exception": false,
     "start_time": "2021-06-01T18:15:32.333144",
     "status": "completed"
    },
    "tags": []
   },
   "outputs": [
    {
     "data": {
      "image/png": "[encoded data removed]",
      "text/plain": [
       "<Figure size 720x360 with 2 Axes>"
      ]
     },
     "metadata": {
      "needs_background": "light"
     },
     "output_type": "display_data"
    }
   ],
   "source": [
    "sns.catplot(x='Survived', col='Sex', kind='count', data=train_data);"
   ]
  },
  {
   "cell_type": "markdown",
   "id": "yellow-interface",
   "metadata": {
    "papermill": {
     "duration": 0.043422,
     "end_time": "2021-06-01T18:15:32.785589",
     "exception": false,
     "start_time": "2021-06-01T18:15:32.742167",
     "status": "completed"
    },
    "tags": []
   },
   "source": [
    "#### Conclusion\n",
    "Women have higher chances of survival"
   ]
  },
  {
   "cell_type": "markdown",
   "id": "frequent-baking",
   "metadata": {
    "papermill": {
     "duration": 0.043299,
     "end_time": "2021-06-01T18:15:32.873574",
     "exception": false,
     "start_time": "2021-06-01T18:15:32.830275",
     "status": "completed"
    },
    "tags": []
   },
   "source": [
    "### Survival based on ticket class"
   ]
  },
  {
   "cell_type": "code",
   "execution_count": 11,
   "id": "tutorial-mountain",
   "metadata": {
    "execution": {
     "iopub.execute_input": "2021-06-01T18:15:32.968427Z",
     "iopub.status.busy": "2021-06-01T18:15:32.967747Z",
     "iopub.status.idle": "2021-06-01T18:15:33.082202Z",
     "shell.execute_reply": "2021-06-01T18:15:33.081541Z",
     "shell.execute_reply.started": "2021-06-01T18:14:39.164416Z"
    },
    "papermill": {
     "duration": 0.164355,
     "end_time": "2021-06-01T18:15:33.082339",
     "exception": false,
     "start_time": "2021-06-01T18:15:32.917984",
     "status": "completed"
    },
    "tags": []
   },
   "outputs": [
    {
     "data": {
      "image/png": "[encoded data removed]",
      "text/plain": [
       "<Figure size 432x288 with 1 Axes>"
      ]
     },
     "metadata": {
      "needs_background": "light"
     },
     "output_type": "display_data"
    }
   ],
   "source": [
    "sns.countplot(x='Pclass', data=train_data);"
   ]
  },
  {
   "cell_type": "code",
   "execution_count": 12,
   "id": "formed-henry",
   "metadata": {
    "execution": {
     "iopub.execute_input": "2021-06-01T18:15:33.178605Z",
     "iopub.status.busy": "2021-06-01T18:15:33.177689Z",
     "iopub.status.idle": "2021-06-01T18:15:33.197987Z",
     "shell.execute_reply": "2021-06-01T18:15:33.198745Z",
     "shell.execute_reply.started": "2021-06-01T18:14:39.260877Z"
    },
    "papermill": {
     "duration": 0.070555,
     "end_time": "2021-06-01T18:15:33.199006",
     "exception": false,
     "start_time": "2021-06-01T18:15:33.128451",
     "status": "completed"
    },
    "tags": []
   },
   "outputs": [
    {
     "name": "stdout",
     "output_type": "stream",
     "text": [
      "62.96% of the first class passengers survived\n"
     ]
    }
   ],
   "source": [
    "first_class = train_data.loc[train_data.Pclass == 1][\"Survived\"]\n",
    "rate_first = round(sum(first_class)/len(first_class)*100 , 2)\n",
    "\n",
    "print(\"{}% of the first class passengers survived\".format(rate_first))"
   ]
  },
  {
   "cell_type": "code",
   "execution_count": 13,
   "id": "expressed-shadow",
   "metadata": {
    "execution": {
     "iopub.execute_input": "2021-06-01T18:15:33.294537Z",
     "iopub.status.busy": "2021-06-01T18:15:33.293812Z",
     "iopub.status.idle": "2021-06-01T18:15:33.301247Z",
     "shell.execute_reply": "2021-06-01T18:15:33.302142Z",
     "shell.execute_reply.started": "2021-06-01T18:14:39.268621Z"
    },
    "papermill": {
     "duration": 0.057159,
     "end_time": "2021-06-01T18:15:33.302390",
     "exception": false,
     "start_time": "2021-06-01T18:15:33.245231",
     "status": "completed"
    },
    "tags": []
   },
   "outputs": [
    {
     "name": "stdout",
     "output_type": "stream",
     "text": [
      "47.28% of the second class passengers survived\n"
     ]
    }
   ],
   "source": [
    "sec_class = train_data.loc[train_data.Pclass == 2][\"Survived\"]\n",
    "rate_sec = round(sum(sec_class)/len(sec_class)*100 , 2)\n",
    "\n",
    "print(\"{}% of the second class passengers survived\".format(rate_sec))"
   ]
  },
  {
   "cell_type": "code",
   "execution_count": 14,
   "id": "visible-athletics",
   "metadata": {
    "execution": {
     "iopub.execute_input": "2021-06-01T18:15:33.398270Z",
     "iopub.status.busy": "2021-06-01T18:15:33.397264Z",
     "iopub.status.idle": "2021-06-01T18:15:33.405994Z",
     "shell.execute_reply": "2021-06-01T18:15:33.405462Z",
     "shell.execute_reply.started": "2021-06-01T18:14:39.283135Z"
    },
    "papermill": {
     "duration": 0.0576,
     "end_time": "2021-06-01T18:15:33.406140",
     "exception": false,
     "start_time": "2021-06-01T18:15:33.348540",
     "status": "completed"
    },
    "tags": []
   },
   "outputs": [
    {
     "name": "stdout",
     "output_type": "stream",
     "text": [
      "24.24% of the third class passengers survived\n"
     ]
    }
   ],
   "source": [
    "third_class = train_data.loc[train_data.Pclass == 3][\"Survived\"]\n",
    "rate_third = round(sum(third_class)/len(third_class)*100 , 2)\n",
    "\n",
    "print(\"{}% of the third class passengers survived\".format(rate_third))"
   ]
  },
  {
   "cell_type": "code",
   "execution_count": 15,
   "id": "welcome-medication",
   "metadata": {
    "execution": {
     "iopub.execute_input": "2021-06-01T18:15:33.509303Z",
     "iopub.status.busy": "2021-06-01T18:15:33.506967Z",
     "iopub.status.idle": "2021-06-01T18:15:33.961319Z",
     "shell.execute_reply": "2021-06-01T18:15:33.960597Z",
     "shell.execute_reply.started": "2021-06-01T18:14:39.299090Z"
    },
    "papermill": {
     "duration": 0.509262,
     "end_time": "2021-06-01T18:15:33.961495",
     "exception": false,
     "start_time": "2021-06-01T18:15:33.452233",
     "status": "completed"
    },
    "tags": []
   },
   "outputs": [
    {
     "data": {
      "image/png": "[encoded data removed]",
      "text/plain": [
       "<Figure size 1080x360 with 3 Axes>"
      ]
     },
     "metadata": {
      "needs_background": "light"
     },
     "output_type": "display_data"
    }
   ],
   "source": [
    "sns.catplot(x='Survived', col='Pclass', kind='count', data=train_data);"
   ]
  },
  {
   "cell_type": "markdown",
   "id": "international-server",
   "metadata": {
    "papermill": {
     "duration": 0.046322,
     "end_time": "2021-06-01T18:15:34.056510",
     "exception": false,
     "start_time": "2021-06-01T18:15:34.010188",
     "status": "completed"
    },
    "tags": []
   },
   "source": [
    "#### Conclusion\n",
    "First class passengers had better chances of survival, followed by second class passenger, then third class passengers"
   ]
  },
  {
   "cell_type": "markdown",
   "id": "geographic-badge",
   "metadata": {
    "papermill": {
     "duration": 0.047983,
     "end_time": "2021-06-01T18:15:34.152366",
     "exception": false,
     "start_time": "2021-06-01T18:15:34.104383",
     "status": "completed"
    },
    "tags": []
   },
   "source": [
    "### Survival based on embarked station"
   ]
  },
  {
   "cell_type": "code",
   "execution_count": 16,
   "id": "photographic-presentation",
   "metadata": {
    "execution": {
     "iopub.execute_input": "2021-06-01T18:15:34.269606Z",
     "iopub.status.busy": "2021-06-01T18:15:34.254160Z",
     "iopub.status.idle": "2021-06-01T18:15:34.381248Z",
     "shell.execute_reply": "2021-06-01T18:15:34.380542Z",
     "shell.execute_reply.started": "2021-06-01T18:14:39.717484Z"
    },
    "papermill": {
     "duration": 0.182893,
     "end_time": "2021-06-01T18:15:34.381406",
     "exception": false,
     "start_time": "2021-06-01T18:15:34.198513",
     "status": "completed"
    },
    "tags": []
   },
   "outputs": [
    {
     "data": {
      "image/png": "[encoded data removed]",
      "text/plain": [
       "<Figure size 432x288 with 1 Axes>"
      ]
     },
     "metadata": {
      "needs_background": "light"
     },
     "output_type": "display_data"
    }
   ],
   "source": [
    "sns.countplot(x='Embarked', data=train_data);"
   ]
  },
  {
   "cell_type": "code",
   "execution_count": 17,
   "id": "empirical-myanmar",
   "metadata": {
    "execution": {
     "iopub.execute_input": "2021-06-01T18:15:34.485422Z",
     "iopub.status.busy": "2021-06-01T18:15:34.484502Z",
     "iopub.status.idle": "2021-06-01T18:15:34.490252Z",
     "shell.execute_reply": "2021-06-01T18:15:34.489555Z",
     "shell.execute_reply.started": "2021-06-01T18:14:39.826185Z"
    },
    "papermill": {
     "duration": 0.061426,
     "end_time": "2021-06-01T18:15:34.490399",
     "exception": false,
     "start_time": "2021-06-01T18:15:34.428973",
     "status": "completed"
    },
    "tags": []
   },
   "outputs": [
    {
     "name": "stdout",
     "output_type": "stream",
     "text": [
      "55.36% of the passengers embarked from Cherbourg survived\n"
     ]
    }
   ],
   "source": [
    "Cherbourg = train_data.loc[train_data.Embarked == 'C'][\"Survived\"]\n",
    "rate_C = round(sum(Cherbourg)/len(Cherbourg)*100 , 2)\n",
    "\n",
    "print(\"{}% of the passengers embarked from Cherbourg survived\".format(rate_C))"
   ]
  },
  {
   "cell_type": "code",
   "execution_count": 18,
   "id": "greatest-invitation",
   "metadata": {
    "execution": {
     "iopub.execute_input": "2021-06-01T18:15:34.593513Z",
     "iopub.status.busy": "2021-06-01T18:15:34.592511Z",
     "iopub.status.idle": "2021-06-01T18:15:34.596001Z",
     "shell.execute_reply": "2021-06-01T18:15:34.596575Z",
     "shell.execute_reply.started": "2021-06-01T18:14:39.835424Z"
    },
    "papermill": {
     "duration": 0.05847,
     "end_time": "2021-06-01T18:15:34.596767",
     "exception": false,
     "start_time": "2021-06-01T18:15:34.538297",
     "status": "completed"
    },
    "tags": []
   },
   "outputs": [
    {
     "name": "stdout",
     "output_type": "stream",
     "text": [
      "38.96% of the passengers embarked from Queenstown survived\n"
     ]
    }
   ],
   "source": [
    "Queenstown = train_data.loc[train_data.Embarked == 'Q'][\"Survived\"]\n",
    "rate_Q = round(sum(Queenstown)/len(Queenstown)*100 , 2)\n",
    "\n",
    "print(\"{}% of the passengers embarked from Queenstown survived\".format(rate_Q))"
   ]
  },
  {
   "cell_type": "code",
   "execution_count": 19,
   "id": "august-terrace",
   "metadata": {
    "execution": {
     "iopub.execute_input": "2021-06-01T18:15:34.701342Z",
     "iopub.status.busy": "2021-06-01T18:15:34.700304Z",
     "iopub.status.idle": "2021-06-01T18:15:34.707086Z",
     "shell.execute_reply": "2021-06-01T18:15:34.706501Z",
     "shell.execute_reply.started": "2021-06-01T18:14:39.848366Z"
    },
    "papermill": {
     "duration": 0.062049,
     "end_time": "2021-06-01T18:15:34.707236",
     "exception": false,
     "start_time": "2021-06-01T18:15:34.645187",
     "status": "completed"
    },
    "tags": []
   },
   "outputs": [
    {
     "name": "stdout",
     "output_type": "stream",
     "text": [
      "33.7% of the passengers embarked from Southampton survived\n"
     ]
    }
   ],
   "source": [
    "Southampton = train_data.loc[train_data.Embarked == 'S'][\"Survived\"]\n",
    "rate_S = round(sum(Southampton)/len(Southampton)*100 , 2)\n",
    "\n",
    "print(\"{}% of the passengers embarked from Southampton survived\".format(rate_S))"
   ]
  },
  {
   "cell_type": "code",
   "execution_count": 20,
   "id": "earned-shopping",
   "metadata": {
    "execution": {
     "iopub.execute_input": "2021-06-01T18:15:34.823460Z",
     "iopub.status.busy": "2021-06-01T18:15:34.822698Z",
     "iopub.status.idle": "2021-06-01T18:15:35.424467Z",
     "shell.execute_reply": "2021-06-01T18:15:35.423241Z",
     "shell.execute_reply.started": "2021-06-01T18:14:39.863578Z"
    },
    "papermill": {
     "duration": 0.664545,
     "end_time": "2021-06-01T18:15:35.424656",
     "exception": false,
     "start_time": "2021-06-01T18:15:34.760111",
     "status": "completed"
    },
    "tags": []
   },
   "outputs": [
    {
     "data": {
      "image/png": "[encoded data removed]",
      "text/plain": [
       "<Figure size 1080x360 with 3 Axes>"
      ]
     },
     "metadata": {
      "needs_background": "light"
     },
     "output_type": "display_data"
    }
   ],
   "source": [
    "sns.catplot(x='Survived', col='Embarked', kind='count', data=train_data);"
   ]
  },
  {
   "cell_type": "markdown",
   "id": "numerical-ontario",
   "metadata": {
    "papermill": {
     "duration": 0.050664,
     "end_time": "2021-06-01T18:15:35.530072",
     "exception": false,
     "start_time": "2021-06-01T18:15:35.479408",
     "status": "completed"
    },
    "tags": []
   },
   "source": [
    "#### Conclusion\n",
    "Passengers embarked from Cherbourg had better survival rates, followed by Queenstown, then Southampton"
   ]
  },
  {
   "cell_type": "markdown",
   "id": "quantitative-teens",
   "metadata": {
    "papermill": {
     "duration": 0.049274,
     "end_time": "2021-06-01T18:15:35.630446",
     "exception": false,
     "start_time": "2021-06-01T18:15:35.581172",
     "status": "completed"
    },
    "tags": []
   },
   "source": [
    "### Survival based on age group\n",
    "Consider 4 age groups:\n",
    "* 0-18: Children\n",
    "* 18-35: Young Adults\n",
    "* 35-50: Middle Age\n",
    "* 50-80: Elders"
   ]
  },
  {
   "cell_type": "markdown",
   "id": "floral-september",
   "metadata": {
    "papermill": {
     "duration": 0.050873,
     "end_time": "2021-06-01T18:15:35.729468",
     "exception": false,
     "start_time": "2021-06-01T18:15:35.678595",
     "status": "completed"
    },
    "tags": []
   },
   "source": [
    "Before analyzing the age, we must drop the NaN values<br>\n",
    "To tackle the NaN values, the data was imputed by the mean"
   ]
  },
  {
   "cell_type": "code",
   "execution_count": 21,
   "id": "egyptian-harassment",
   "metadata": {
    "execution": {
     "iopub.execute_input": "2021-06-01T18:15:35.859330Z",
     "iopub.status.busy": "2021-06-01T18:15:35.858525Z",
     "iopub.status.idle": "2021-06-01T18:15:36.116891Z",
     "shell.execute_reply": "2021-06-01T18:15:36.115620Z",
     "shell.execute_reply.started": "2021-06-01T18:14:40.292110Z"
    },
    "papermill": {
     "duration": 0.336299,
     "end_time": "2021-06-01T18:15:36.117111",
     "exception": false,
     "start_time": "2021-06-01T18:15:35.780812",
     "status": "completed"
    },
    "tags": []
   },
   "outputs": [
    {
     "data": {
      "image/png": "[encoded data removed]",
      "text/plain": [
       "<Figure size 360x360 with 1 Axes>"
      ]
     },
     "metadata": {
      "needs_background": "light"
     },
     "output_type": "display_data"
    }
   ],
   "source": [
    "sns.displot(train_data.Age, kde=False);"
   ]
  },
  {
   "cell_type": "markdown",
   "id": "virtual-example",
   "metadata": {
    "papermill": {
     "duration": 0.051474,
     "end_time": "2021-06-01T18:15:36.220532",
     "exception": false,
     "start_time": "2021-06-01T18:15:36.169058",
     "status": "completed"
    },
    "tags": []
   },
   "source": [
    "From the figure above we can see that the passenger count: Young Adults > Middle Age > Children > Elders"
   ]
  },
  {
   "cell_type": "code",
   "execution_count": 22,
   "id": "institutional-fantasy",
   "metadata": {
    "execution": {
     "iopub.execute_input": "2021-06-01T18:15:36.325007Z",
     "iopub.status.busy": "2021-06-01T18:15:36.324264Z",
     "iopub.status.idle": "2021-06-01T18:15:36.330448Z",
     "shell.execute_reply": "2021-06-01T18:15:36.331498Z",
     "shell.execute_reply.started": "2021-06-01T18:14:40.556416Z"
    },
    "papermill": {
     "duration": 0.062051,
     "end_time": "2021-06-01T18:15:36.331758",
     "exception": false,
     "start_time": "2021-06-01T18:15:36.269707",
     "status": "completed"
    },
    "tags": []
   },
   "outputs": [
    {
     "data": {
      "text/plain": [
       "29.69911764705882"
      ]
     },
     "execution_count": 22,
     "metadata": {},
     "output_type": "execute_result"
    }
   ],
   "source": [
    "mean = train_data['Age'].mean()\n",
    "train_data['Age'].fillna(mean, inplace = True)\n",
    "mean"
   ]
  },
  {
   "cell_type": "code",
   "execution_count": 23,
   "id": "successful-footwear",
   "metadata": {
    "execution": {
     "iopub.execute_input": "2021-06-01T18:15:36.438761Z",
     "iopub.status.busy": "2021-06-01T18:15:36.438016Z",
     "iopub.status.idle": "2021-06-01T18:15:36.804173Z",
     "shell.execute_reply": "2021-06-01T18:15:36.804674Z",
     "shell.execute_reply.started": "2021-06-01T18:14:40.564098Z"
    },
    "papermill": {
     "duration": 0.42205,
     "end_time": "2021-06-01T18:15:36.804875",
     "exception": false,
     "start_time": "2021-06-01T18:15:36.382825",
     "status": "completed"
    },
    "tags": []
   },
   "outputs": [
    {
     "data": {
      "image/png": "[encoded data removed]",
      "text/plain": [
       "<Figure size 360x360 with 1 Axes>"
      ]
     },
     "metadata": {
      "needs_background": "light"
     },
     "output_type": "display_data"
    }
   ],
   "source": [
    "sns.displot(train_data.Age, kde=False);"
   ]
  },
  {
   "cell_type": "markdown",
   "id": "secure-frost",
   "metadata": {
    "papermill": {
     "duration": 0.049972,
     "end_time": "2021-06-01T18:15:36.910020",
     "exception": false,
     "start_time": "2021-06-01T18:15:36.860048",
     "status": "completed"
    },
    "tags": []
   },
   "source": [
    "As expected, the majority now has become the mean age which is around 30 years old."
   ]
  },
  {
   "cell_type": "code",
   "execution_count": 24,
   "id": "biblical-dress",
   "metadata": {
    "execution": {
     "iopub.execute_input": "2021-06-01T18:15:37.020543Z",
     "iopub.status.busy": "2021-06-01T18:15:37.019814Z",
     "iopub.status.idle": "2021-06-01T18:15:37.028903Z",
     "shell.execute_reply": "2021-06-01T18:15:37.029564Z",
     "shell.execute_reply.started": "2021-06-01T18:14:40.882991Z"
    },
    "papermill": {
     "duration": 0.067223,
     "end_time": "2021-06-01T18:15:37.029747",
     "exception": false,
     "start_time": "2021-06-01T18:15:36.962524",
     "status": "completed"
    },
    "tags": []
   },
   "outputs": [
    {
     "name": "stdout",
     "output_type": "stream",
     "text": [
      "53.98% of children survived\n"
     ]
    }
   ],
   "source": [
    "child = train_data.loc[(train_data['Age'] > 0) & (train_data['Age'] < 18)][\"Survived\"]\n",
    "rate_child = round(sum(child)/len(child)*100 , 2)\n",
    "\n",
    "print(\"{}% of children survived\".format(rate_child))"
   ]
  },
  {
   "cell_type": "code",
   "execution_count": 25,
   "id": "monetary-strength",
   "metadata": {
    "execution": {
     "iopub.execute_input": "2021-06-01T18:15:37.152596Z",
     "iopub.status.busy": "2021-06-01T18:15:37.151853Z",
     "iopub.status.idle": "2021-06-01T18:15:37.162338Z",
     "shell.execute_reply": "2021-06-01T18:15:37.163123Z",
     "shell.execute_reply.started": "2021-06-01T18:14:40.892455Z"
    },
    "papermill": {
     "duration": 0.080133,
     "end_time": "2021-06-01T18:15:37.163485",
     "exception": false,
     "start_time": "2021-06-01T18:15:37.083352",
     "status": "completed"
    },
    "tags": []
   },
   "outputs": [
    {
     "name": "stdout",
     "output_type": "stream",
     "text": [
      "34.44% of young adults survived\n"
     ]
    }
   ],
   "source": [
    "adult = train_data.loc[(train_data['Age'] >= 18) & (train_data['Age'] < 35)][\"Survived\"]\n",
    "rate_adult = round(sum(adult)/len(adult)*100 , 2)\n",
    "\n",
    "print(\"{}% of young adults survived\".format(rate_adult))"
   ]
  },
  {
   "cell_type": "code",
   "execution_count": 26,
   "id": "american-meter",
   "metadata": {
    "execution": {
     "iopub.execute_input": "2021-06-01T18:15:37.289044Z",
     "iopub.status.busy": "2021-06-01T18:15:37.287887Z",
     "iopub.status.idle": "2021-06-01T18:15:37.291969Z",
     "shell.execute_reply": "2021-06-01T18:15:37.291338Z",
     "shell.execute_reply.started": "2021-06-01T18:14:40.907913Z"
    },
    "papermill": {
     "duration": 0.069677,
     "end_time": "2021-06-01T18:15:37.292112",
     "exception": false,
     "start_time": "2021-06-01T18:15:37.222435",
     "status": "completed"
    },
    "tags": []
   },
   "outputs": [
    {
     "name": "stdout",
     "output_type": "stream",
     "text": [
      "41.61% of middle aged people survived\n"
     ]
    }
   ],
   "source": [
    "mid = train_data.loc[(train_data['Age'] >= 35) & (train_data['Age'] < 50)][\"Survived\"]\n",
    "rate_mid = round(sum(mid)/len(mid)*100 , 2)\n",
    "\n",
    "print(\"{}% of middle aged people survived\".format(rate_mid))"
   ]
  },
  {
   "cell_type": "code",
   "execution_count": 27,
   "id": "existing-archives",
   "metadata": {
    "execution": {
     "iopub.execute_input": "2021-06-01T18:15:37.410754Z",
     "iopub.status.busy": "2021-06-01T18:15:37.409877Z",
     "iopub.status.idle": "2021-06-01T18:15:37.414492Z",
     "shell.execute_reply": "2021-06-01T18:15:37.415118Z",
     "shell.execute_reply.started": "2021-06-01T18:14:40.920105Z"
    },
    "papermill": {
     "duration": 0.068247,
     "end_time": "2021-06-01T18:15:37.415314",
     "exception": false,
     "start_time": "2021-06-01T18:15:37.347067",
     "status": "completed"
    },
    "tags": []
   },
   "outputs": [
    {
     "name": "stdout",
     "output_type": "stream",
     "text": [
      "36.49% of elders survived\n"
     ]
    }
   ],
   "source": [
    "old = train_data.loc[train_data['Age'] >=50][\"Survived\"]\n",
    "rate_old = round(sum(old)/len(old)*100 , 2)\n",
    "\n",
    "print(\"{}% of elders survived\".format(rate_old))"
   ]
  },
  {
   "cell_type": "code",
   "execution_count": 28,
   "id": "compliant-oliver",
   "metadata": {
    "execution": {
     "iopub.execute_input": "2021-06-01T18:15:37.533078Z",
     "iopub.status.busy": "2021-06-01T18:15:37.532366Z",
     "iopub.status.idle": "2021-06-01T18:15:37.683265Z",
     "shell.execute_reply": "2021-06-01T18:15:37.682502Z",
     "shell.execute_reply.started": "2021-06-01T18:14:40.936457Z"
    },
    "papermill": {
     "duration": 0.214249,
     "end_time": "2021-06-01T18:15:37.683421",
     "exception": false,
     "start_time": "2021-06-01T18:15:37.469172",
     "status": "completed"
    },
    "tags": []
   },
   "outputs": [
    {
     "data": {
      "image/png": "[encoded data removed]",
      "text/plain": [
       "<Figure size 432x288 with 1 Axes>"
      ]
     },
     "metadata": {
      "needs_background": "light"
     },
     "output_type": "display_data"
    }
   ],
   "source": [
    "sns.stripplot(x='Survived', y='Age', data=train_data, alpha=0.5, jitter=True);"
   ]
  },
  {
   "cell_type": "markdown",
   "id": "documentary-graphics",
   "metadata": {
    "papermill": {
     "duration": 0.055961,
     "end_time": "2021-06-01T18:15:37.797074",
     "exception": false,
     "start_time": "2021-06-01T18:15:37.741113",
     "status": "completed"
    },
    "tags": []
   },
   "source": [
    "#### Conclusion\n",
    "Children seem to have had the best luck in surviving, followed by middle agers. Elders, and young adults had the worse survival rates"
   ]
  },
  {
   "cell_type": "markdown",
   "id": "global-detector",
   "metadata": {
    "papermill": {
     "duration": 0.057,
     "end_time": "2021-06-01T18:15:37.912003",
     "exception": false,
     "start_time": "2021-06-01T18:15:37.855003",
     "status": "completed"
    },
    "tags": []
   },
   "source": [
    "### Final Thoughts\n",
    "The best survival chances seems to be:\n",
    "* woman\n",
    "* aged 0-18\n",
    "* first class\n",
    "* embarked from Cherbourg"
   ]
  },
  {
   "cell_type": "markdown",
   "id": "corresponding-vanilla",
   "metadata": {
    "papermill": {
     "duration": 0.072559,
     "end_time": "2021-06-01T18:15:38.054313",
     "exception": false,
     "start_time": "2021-06-01T18:15:37.981754",
     "status": "completed"
    },
    "tags": []
   },
   "source": [
    "## Dealing with the test dataset"
   ]
  },
  {
   "cell_type": "code",
   "execution_count": 29,
   "id": "assured-defense",
   "metadata": {
    "execution": {
     "iopub.execute_input": "2021-06-01T18:15:38.174664Z",
     "iopub.status.busy": "2021-06-01T18:15:38.173947Z",
     "iopub.status.idle": "2021-06-01T18:15:38.193060Z",
     "shell.execute_reply": "2021-06-01T18:15:38.192513Z",
     "shell.execute_reply.started": "2021-06-01T18:14:41.219142Z"
    },
    "papermill": {
     "duration": 0.080967,
     "end_time": "2021-06-01T18:15:38.193211",
     "exception": false,
     "start_time": "2021-06-01T18:15:38.112244",
     "status": "completed"
    },
    "tags": []
   },
   "outputs": [
    {
     "name": "stdout",
     "output_type": "stream",
     "text": [
      "<class 'pandas.core.frame.DataFrame'>\n",
      "RangeIndex: 418 entries, 0 to 417\n",
      "Data columns (total 11 columns):\n",
      " #   Column       Non-Null Count  Dtype  \n",
      "---  ------       --------------  -----  \n",
      " 0   PassengerId  418 non-null    int64  \n",
      " 1   Pclass       418 non-null    int64  \n",
      " 2   Name         418 non-null    object \n",
      " 3   Sex          418 non-null    object \n",
      " 4   Age          332 non-null    float64\n",
      " 5   SibSp        418 non-null    int64  \n",
      " 6   Parch        418 non-null    int64  \n",
      " 7   Ticket       418 non-null    object \n",
      " 8   Fare         417 non-null    float64\n",
      " 9   Cabin        91 non-null     object \n",
      " 10  Embarked     418 non-null    object \n",
      "dtypes: float64(2), int64(4), object(5)\n",
      "memory usage: 36.0+ KB\n"
     ]
    }
   ],
   "source": [
    "test_data.info()"
   ]
  },
  {
   "cell_type": "code",
   "execution_count": 30,
   "id": "auburn-touch",
   "metadata": {
    "execution": {
     "iopub.execute_input": "2021-06-01T18:15:38.314285Z",
     "iopub.status.busy": "2021-06-01T18:15:38.313575Z",
     "iopub.status.idle": "2021-06-01T18:15:38.317948Z",
     "shell.execute_reply": "2021-06-01T18:15:38.318552Z",
     "shell.execute_reply.started": "2021-06-01T18:14:41.234311Z"
    },
    "papermill": {
     "duration": 0.070845,
     "end_time": "2021-06-01T18:15:38.318742",
     "exception": false,
     "start_time": "2021-06-01T18:15:38.247897",
     "status": "completed"
    },
    "tags": []
   },
   "outputs": [],
   "source": [
    "mean = test_data['Age'].mean()\n",
    "test_data['Age'].fillna(mean, inplace = True)"
   ]
  },
  {
   "cell_type": "code",
   "execution_count": 31,
   "id": "adequate-optimization",
   "metadata": {
    "execution": {
     "iopub.execute_input": "2021-06-01T18:15:38.432352Z",
     "iopub.status.busy": "2021-06-01T18:15:38.431700Z",
     "iopub.status.idle": "2021-06-01T18:15:38.447158Z",
     "shell.execute_reply": "2021-06-01T18:15:38.446602Z",
     "shell.execute_reply.started": "2021-06-01T18:14:41.247649Z"
    },
    "papermill": {
     "duration": 0.071946,
     "end_time": "2021-06-01T18:15:38.447319",
     "exception": false,
     "start_time": "2021-06-01T18:15:38.375373",
     "status": "completed"
    },
    "tags": []
   },
   "outputs": [
    {
     "name": "stdout",
     "output_type": "stream",
     "text": [
      "<class 'pandas.core.frame.DataFrame'>\n",
      "RangeIndex: 418 entries, 0 to 417\n",
      "Data columns (total 11 columns):\n",
      " #   Column       Non-Null Count  Dtype  \n",
      "---  ------       --------------  -----  \n",
      " 0   PassengerId  418 non-null    int64  \n",
      " 1   Pclass       418 non-null    int64  \n",
      " 2   Name         418 non-null    object \n",
      " 3   Sex          418 non-null    object \n",
      " 4   Age          418 non-null    float64\n",
      " 5   SibSp        418 non-null    int64  \n",
      " 6   Parch        418 non-null    int64  \n",
      " 7   Ticket       418 non-null    object \n",
      " 8   Fare         417 non-null    float64\n",
      " 9   Cabin        91 non-null     object \n",
      " 10  Embarked     418 non-null    object \n",
      "dtypes: float64(2), int64(4), object(5)\n",
      "memory usage: 36.0+ KB\n"
     ]
    }
   ],
   "source": [
    "test_data.info()"
   ]
  },
  {
   "cell_type": "markdown",
   "id": "waiting-south",
   "metadata": {
    "papermill": {
     "duration": 0.05498,
     "end_time": "2021-06-01T18:15:38.561021",
     "exception": false,
     "start_time": "2021-06-01T18:15:38.506041",
     "status": "completed"
    },
    "tags": []
   },
   "source": [
    "## Model Prediction"
   ]
  },
  {
   "cell_type": "code",
   "execution_count": 32,
   "id": "thrown-polymer",
   "metadata": {
    "execution": {
     "iopub.execute_input": "2021-06-01T18:15:38.679041Z",
     "iopub.status.busy": "2021-06-01T18:15:38.678034Z",
     "iopub.status.idle": "2021-06-01T18:15:39.229632Z",
     "shell.execute_reply": "2021-06-01T18:15:39.230212Z",
     "shell.execute_reply.started": "2021-06-01T18:14:41.270453Z"
    },
    "papermill": {
     "duration": 0.613404,
     "end_time": "2021-06-01T18:15:39.230406",
     "exception": false,
     "start_time": "2021-06-01T18:15:38.617002",
     "status": "completed"
    },
    "tags": []
   },
   "outputs": [],
   "source": [
    "from sklearn.ensemble import RandomForestClassifier\n",
    "from sklearn.neighbors import KNeighborsClassifier"
   ]
  },
  {
   "cell_type": "code",
   "execution_count": 33,
   "id": "lovely-fundamental",
   "metadata": {
    "execution": {
     "iopub.execute_input": "2021-06-01T18:15:39.371006Z",
     "iopub.status.busy": "2021-06-01T18:15:39.364384Z",
     "iopub.status.idle": "2021-06-01T18:15:39.385626Z",
     "shell.execute_reply": "2021-06-01T18:15:39.384762Z",
     "shell.execute_reply.started": "2021-06-01T18:14:41.282502Z"
    },
    "papermill": {
     "duration": 0.095167,
     "end_time": "2021-06-01T18:15:39.385794",
     "exception": false,
     "start_time": "2021-06-01T18:15:39.290627",
     "status": "completed"
    },
    "tags": []
   },
   "outputs": [
    {
     "data": {
      "text/plain": [
       "((891, 7), (891,), (418, 7))"
      ]
     },
     "execution_count": 33,
     "metadata": {},
     "output_type": "execute_result"
    }
   ],
   "source": [
    "features = [\"Age\", \"Sex\", \"Embarked\", \"Pclass\"]\n",
    "\n",
    "X_train = train_data.drop(\"Survived\", axis=1)\n",
    "X_train = pd.get_dummies(X_train[features])\n",
    "\n",
    "Y_train = train_data[\"Survived\"]\n",
    "\n",
    "X_test  = test_data.drop(\"PassengerId\", axis=1).copy()\n",
    "X_test = pd.get_dummies(X_test[features])\n",
    "\n",
    "X_train.shape, Y_train.shape, X_test.shape"
   ]
  },
  {
   "cell_type": "markdown",
   "id": "induced-estonia",
   "metadata": {
    "papermill": {
     "duration": 0.061385,
     "end_time": "2021-06-01T18:15:39.505648",
     "exception": false,
     "start_time": "2021-06-01T18:15:39.444263",
     "status": "completed"
    },
    "tags": []
   },
   "source": [
    "After optaining the X_train,Y_train, and X_test<br>\n",
    "We can start looking at different models to make the predictions<br>\n",
    "I'll be comparing two different algorithms, and I'll evaluate them based on the score of predictions made on the training set.\n",
    "* K-nearest Neighbors\n",
    "* Random Forest "
   ]
  },
  {
   "cell_type": "code",
   "execution_count": 34,
   "id": "latter-federal",
   "metadata": {
    "execution": {
     "iopub.execute_input": "2021-06-01T18:15:39.632471Z",
     "iopub.status.busy": "2021-06-01T18:15:39.631608Z",
     "iopub.status.idle": "2021-06-01T18:15:39.800940Z",
     "shell.execute_reply": "2021-06-01T18:15:39.800367Z",
     "shell.execute_reply.started": "2021-06-01T18:14:41.309417Z"
    },
    "papermill": {
     "duration": 0.237832,
     "end_time": "2021-06-01T18:15:39.801099",
     "exception": false,
     "start_time": "2021-06-01T18:15:39.563267",
     "status": "completed"
    },
    "tags": []
   },
   "outputs": [
    {
     "ename": "NameError",
     "evalue": "name 'knn' is not defined",
     "output_type": "error",
     "traceback": [
      "\u001b[0;31m---------------------------------------------------------------------------\u001b[0m",
      "\u001b[0;31mNameError\u001b[0m                                 Traceback (most recent call last)",
      "\u001b[0;32m<ipython-input-34-0c6e4a4e1d7e>\u001b[0m in \u001b[0;36m<module>\u001b[0;34m\u001b[0m\n\u001b[1;32m      3\u001b[0m \u001b[0mk_neighbors\u001b[0m\u001b[0;34m.\u001b[0m\u001b[0mfit\u001b[0m\u001b[0;34m(\u001b[0m\u001b[0mX_train\u001b[0m\u001b[0;34m,\u001b[0m \u001b[0mY_train\u001b[0m\u001b[0;34m)\u001b[0m\u001b[0;34m\u001b[0m\u001b[0;34m\u001b[0m\u001b[0m\n\u001b[1;32m      4\u001b[0m \u001b[0mk_pred\u001b[0m \u001b[0;34m=\u001b[0m \u001b[0mk_neighbors\u001b[0m\u001b[0;34m.\u001b[0m\u001b[0mpredict\u001b[0m\u001b[0;34m(\u001b[0m\u001b[0mX_test\u001b[0m\u001b[0;34m)\u001b[0m\u001b[0;34m\u001b[0m\u001b[0;34m\u001b[0m\u001b[0m\n\u001b[0;32m----> 5\u001b[0;31m \u001b[0mk_neighbors_score\u001b[0m \u001b[0;34m=\u001b[0m \u001b[0mround\u001b[0m\u001b[0;34m(\u001b[0m\u001b[0mknn\u001b[0m\u001b[0;34m.\u001b[0m\u001b[0mscore\u001b[0m\u001b[0;34m(\u001b[0m\u001b[0mX_train\u001b[0m\u001b[0;34m,\u001b[0m \u001b[0mY_train\u001b[0m\u001b[0;34m)\u001b[0m\u001b[0;34m,\u001b[0m \u001b[0;36m4\u001b[0m\u001b[0;34m)\u001b[0m\u001b[0;34m\u001b[0m\u001b[0;34m\u001b[0m\u001b[0m\n\u001b[0m\u001b[1;32m      6\u001b[0m \u001b[0mk_neighbors_score\u001b[0m\u001b[0;34m\u001b[0m\u001b[0;34m\u001b[0m\u001b[0m\n",
      "\u001b[0;31mNameError\u001b[0m: name 'knn' is not defined"
     ]
    }
   ],
   "source": [
    "#K-nearest neighbors\n",
    "k_neighbors = KNeighborsClassifier(n_neighbors = 3)\n",
    "k_neighbors.fit(X_train, Y_train)\n",
    "k_pred = k_neighbors.predict(X_test)\n",
    "k_neighbors_score = round(knn.score(X_train, Y_train), 4)\n",
    "k_neighbors_score"
   ]
  },
  {
   "cell_type": "markdown",
   "id": "ahead-capitol",
   "metadata": {
    "papermill": {
     "duration": 0.058048,
     "end_time": "2021-06-01T18:15:39.917161",
     "exception": false,
     "start_time": "2021-06-01T18:15:39.859113",
     "status": "completed"
    },
    "tags": []
   },
   "source": [
    "The n was chosen by trail and error, where n = 3 had the highest score."
   ]
  },
  {
   "cell_type": "code",
   "execution_count": 35,
   "id": "written-humanity",
   "metadata": {
    "execution": {
     "iopub.execute_input": "2021-06-01T18:15:40.057835Z",
     "iopub.status.busy": "2021-06-01T18:15:40.042692Z",
     "iopub.status.idle": "2021-06-01T18:15:40.300120Z",
     "shell.execute_reply": "2021-06-01T18:15:40.299566Z",
     "shell.execute_reply.started": "2021-06-01T18:14:41.363504Z"
    },
    "papermill": {
     "duration": 0.327544,
     "end_time": "2021-06-01T18:15:40.300282",
     "exception": false,
     "start_time": "2021-06-01T18:15:39.972738",
     "status": "completed"
    },
    "tags": []
   },
   "outputs": [
    {
     "ename": "NameError",
     "evalue": "name 'random_forest' is not defined",
     "output_type": "error",
     "traceback": [
      "\u001b[0;31m---------------------------------------------------------------------------\u001b[0m",
      "\u001b[0;31mNameError\u001b[0m                                 Traceback (most recent call last)",
      "\u001b[0;32m<ipython-input-35-41828a6ddc1b>\u001b[0m in \u001b[0;36m<module>\u001b[0;34m\u001b[0m\n\u001b[1;32m      5\u001b[0m \u001b[0mrand_pred\u001b[0m \u001b[0;34m=\u001b[0m \u001b[0mrand_forest\u001b[0m\u001b[0;34m.\u001b[0m\u001b[0mpredict\u001b[0m\u001b[0;34m(\u001b[0m\u001b[0mX_test\u001b[0m\u001b[0;34m)\u001b[0m\u001b[0;34m\u001b[0m\u001b[0;34m\u001b[0m\u001b[0m\n\u001b[1;32m      6\u001b[0m \u001b[0mrand_forest\u001b[0m\u001b[0;34m.\u001b[0m\u001b[0mscore\u001b[0m\u001b[0;34m(\u001b[0m\u001b[0mX_train\u001b[0m\u001b[0;34m,\u001b[0m \u001b[0mY_train\u001b[0m\u001b[0;34m)\u001b[0m\u001b[0;34m\u001b[0m\u001b[0;34m\u001b[0m\u001b[0m\n\u001b[0;32m----> 7\u001b[0;31m \u001b[0mrand_forest_score\u001b[0m \u001b[0;34m=\u001b[0m \u001b[0mround\u001b[0m\u001b[0;34m(\u001b[0m\u001b[0mrandom_forest\u001b[0m\u001b[0;34m.\u001b[0m\u001b[0mscore\u001b[0m\u001b[0;34m(\u001b[0m\u001b[0mX_train\u001b[0m\u001b[0;34m,\u001b[0m \u001b[0mY_train\u001b[0m\u001b[0;34m)\u001b[0m\u001b[0;34m,\u001b[0m \u001b[0;36m4\u001b[0m\u001b[0;34m)\u001b[0m\u001b[0;34m\u001b[0m\u001b[0;34m\u001b[0m\u001b[0m\n\u001b[0m\u001b[1;32m      8\u001b[0m \u001b[0mrand_forest_score\u001b[0m\u001b[0;34m\u001b[0m\u001b[0;34m\u001b[0m\u001b[0m\n",
      "\u001b[0;31mNameError\u001b[0m: name 'random_forest' is not defined"
     ]
    }
   ],
   "source": [
    "# Random Forest\n",
    "\n",
    "rand_forest = RandomForestClassifier(n_estimators=100, max_depth=5, random_state=1)\n",
    "rand_forest.fit(X_train, Y_train)\n",
    "rand_pred = rand_forest.predict(X_test)\n",
    "rand_forest.score(X_train, Y_train)\n",
    "rand_forest_score = round(random_forest.score(X_train, Y_train), 4)\n",
    "rand_forest_score"
   ]
  },
  {
   "cell_type": "markdown",
   "id": "protected-program",
   "metadata": {
    "papermill": {
     "duration": 0.058791,
     "end_time": "2021-06-01T18:15:40.416547",
     "exception": false,
     "start_time": "2021-06-01T18:15:40.357756",
     "status": "completed"
    },
    "tags": []
   },
   "source": [
    "After comparing the two scores, random forests has a higher score and thus will be chosen to get the final output"
   ]
  },
  {
   "cell_type": "code",
   "execution_count": 36,
   "id": "overall-wales",
   "metadata": {
    "execution": {
     "iopub.execute_input": "2021-06-01T18:15:40.536187Z",
     "iopub.status.busy": "2021-06-01T18:15:40.535534Z",
     "iopub.status.idle": "2021-06-01T18:15:40.549544Z",
     "shell.execute_reply": "2021-06-01T18:15:40.550041Z",
     "shell.execute_reply.started": "2021-06-01T18:14:41.569353Z"
    },
    "papermill": {
     "duration": 0.076794,
     "end_time": "2021-06-01T18:15:40.550241",
     "exception": false,
     "start_time": "2021-06-01T18:15:40.473447",
     "status": "completed"
    },
    "tags": []
   },
   "outputs": [
    {
     "name": "stdout",
     "output_type": "stream",
     "text": [
      "Your submission was successfully saved!\n"
     ]
    }
   ],
   "source": [
    "\n",
    "output = pd.DataFrame({'PassengerId': test_data.PassengerId, 'Survived': rand_pred})\n",
    "output.to_csv('my_submission.csv', index=False)\n",
    "print(\"Your submission was successfully saved!\")"
   ]
  }
 ],
 "metadata": {
  "kernelspec": {
   "display_name": "Python 3",
   "language": "python",
   "name": "python3"
  },
  "language_info": {
   "codemirror_mode": {
    "name": "ipython",
    "version": 3
   },
   "file_extension": ".py",
   "mimetype": "text/x-python",
   "name": "python",
   "nbconvert_exporter": "python",
   "pygments_lexer": "ipython3",
   "version": "3.7.10"
  },
  "papermill": {
   "default_parameters": {},
   "duration": 22.031489,
   "end_time": "2021-06-01T18:15:42.113319",
   "environment_variables": {},
   "exception": null,
   "input_path": "__notebook__.ipynb",
   "output_path": "__notebook__.ipynb",
   "parameters": {},
   "start_time": "2021-06-01T18:15:20.081830",
   "version": "2.3.3"
  }
 },
 "nbformat": 4,
 "nbformat_minor": 5
}
