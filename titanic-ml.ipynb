{
 "cells": [
  {
   "cell_type": "markdown",
   "id": "about-reconstruction",
   "metadata": {
    "papermill": {
     "duration": 0.023811,
     "end_time": "2021-06-01T10:35:10.162630",
     "exception": false,
     "start_time": "2021-06-01T10:35:10.138819",
     "status": "completed"
    },
    "tags": []
   },
   "source": [
    "# Titanic ML Competition"
   ]
  },
  {
   "cell_type": "code",
   "execution_count": 1,
   "id": "understanding-detector",
   "metadata": {
    "execution": {
     "iopub.execute_input": "2021-06-01T10:35:10.214741Z",
     "iopub.status.busy": "2021-06-01T10:35:10.213742Z",
     "iopub.status.idle": "2021-06-01T10:35:11.050357Z",
     "shell.execute_reply": "2021-06-01T10:35:11.050824Z",
     "shell.execute_reply.started": "2021-06-01T10:31:23.182978Z"
    },
    "papermill": {
     "duration": 0.864454,
     "end_time": "2021-06-01T10:35:11.051095",
     "exception": false,
     "start_time": "2021-06-01T10:35:10.186641",
     "status": "completed"
    },
    "tags": []
   },
   "outputs": [
    {
     "name": "stdout",
     "output_type": "stream",
     "text": [
      "/kaggle/input/titanic/train.csv\n",
      "/kaggle/input/titanic/test.csv\n",
      "/kaggle/input/titanic/gender_submission.csv\n"
     ]
    }
   ],
   "source": [
    "import numpy as np # linear algebra\n",
    "import pandas as pd # data processing, CSV file I/O (e.g. pd.read_csv)\n",
    "import matplotlib.pyplot as plt\n",
    "%matplotlib inline\n",
    "import seaborn as sns\n",
    "# Input data files are available in the read-only \"../input/\" directory\n",
    "# For example, running this (by clicking run or pressing Shift+Enter) will list all files under the input directory\n",
    "\n",
    "import os\n",
    "for dirname, _, filenames in os.walk('/kaggle/input'):\n",
    "    for filename in filenames:\n",
    "        print(os.path.join(dirname, filename))"
   ]
  },
  {
   "cell_type": "markdown",
   "id": "automotive-billion",
   "metadata": {
    "papermill": {
     "duration": 0.023853,
     "end_time": "2021-06-01T10:35:11.100673",
     "exception": false,
     "start_time": "2021-06-01T10:35:11.076820",
     "status": "completed"
    },
    "tags": []
   },
   "source": [
    "## Exploring Data\n"
   ]
  },
  {
   "cell_type": "code",
   "execution_count": 2,
   "id": "horizontal-inventory",
   "metadata": {
    "execution": {
     "iopub.execute_input": "2021-06-01T10:35:11.154713Z",
     "iopub.status.busy": "2021-06-01T10:35:11.154111Z",
     "iopub.status.idle": "2021-06-01T10:35:11.198418Z",
     "shell.execute_reply": "2021-06-01T10:35:11.198881Z",
     "shell.execute_reply.started": "2021-06-01T10:31:23.197654Z"
    },
    "papermill": {
     "duration": 0.072363,
     "end_time": "2021-06-01T10:35:11.199056",
     "exception": false,
     "start_time": "2021-06-01T10:35:11.126693",
     "status": "completed"
    },
    "tags": []
   },
   "outputs": [
    {
     "data": {
      "text/html": [
       "<div>\n",
       "<style scoped>\n",
       "    .dataframe tbody tr th:only-of-type {\n",
       "        vertical-align: middle;\n",
       "    }\n",
       "\n",
       "    .dataframe tbody tr th {\n",
       "        vertical-align: top;\n",
       "    }\n",
       "\n",
       "    .dataframe thead th {\n",
       "        text-align: right;\n",
       "    }\n",
       "</style>\n",
       "<table border=\"1\" class=\"dataframe\">\n",
       "  <thead>\n",
       "    <tr style=\"text-align: right;\">\n",
       "      <th></th>\n",
       "      <th>PassengerId</th>\n",
       "      <th>Survived</th>\n",
       "      <th>Pclass</th>\n",
       "      <th>Name</th>\n",
       "      <th>Sex</th>\n",
       "      <th>Age</th>\n",
       "      <th>SibSp</th>\n",
       "      <th>Parch</th>\n",
       "      <th>Ticket</th>\n",
       "      <th>Fare</th>\n",
       "      <th>Cabin</th>\n",
       "      <th>Embarked</th>\n",
       "    </tr>\n",
       "  </thead>\n",
       "  <tbody>\n",
       "    <tr>\n",
       "      <th>0</th>\n",
       "      <td>1</td>\n",
       "      <td>0</td>\n",
       "      <td>3</td>\n",
       "      <td>Braund, Mr. Owen Harris</td>\n",
       "      <td>male</td>\n",
       "      <td>22.0</td>\n",
       "      <td>1</td>\n",
       "      <td>0</td>\n",
       "      <td>A/5 21171</td>\n",
       "      <td>7.2500</td>\n",
       "      <td>NaN</td>\n",
       "      <td>S</td>\n",
       "    </tr>\n",
       "    <tr>\n",
       "      <th>1</th>\n",
       "      <td>2</td>\n",
       "      <td>1</td>\n",
       "      <td>1</td>\n",
       "      <td>Cumings, Mrs. John Bradley (Florence Briggs Th...</td>\n",
       "      <td>female</td>\n",
       "      <td>38.0</td>\n",
       "      <td>1</td>\n",
       "      <td>0</td>\n",
       "      <td>PC 17599</td>\n",
       "      <td>71.2833</td>\n",
       "      <td>C85</td>\n",
       "      <td>C</td>\n",
       "    </tr>\n",
       "    <tr>\n",
       "      <th>2</th>\n",
       "      <td>3</td>\n",
       "      <td>1</td>\n",
       "      <td>3</td>\n",
       "      <td>Heikkinen, Miss. Laina</td>\n",
       "      <td>female</td>\n",
       "      <td>26.0</td>\n",
       "      <td>0</td>\n",
       "      <td>0</td>\n",
       "      <td>STON/O2. 3101282</td>\n",
       "      <td>7.9250</td>\n",
       "      <td>NaN</td>\n",
       "      <td>S</td>\n",
       "    </tr>\n",
       "    <tr>\n",
       "      <th>3</th>\n",
       "      <td>4</td>\n",
       "      <td>1</td>\n",
       "      <td>1</td>\n",
       "      <td>Futrelle, Mrs. Jacques Heath (Lily May Peel)</td>\n",
       "      <td>female</td>\n",
       "      <td>35.0</td>\n",
       "      <td>1</td>\n",
       "      <td>0</td>\n",
       "      <td>113803</td>\n",
       "      <td>53.1000</td>\n",
       "      <td>C123</td>\n",
       "      <td>S</td>\n",
       "    </tr>\n",
       "    <tr>\n",
       "      <th>4</th>\n",
       "      <td>5</td>\n",
       "      <td>0</td>\n",
       "      <td>3</td>\n",
       "      <td>Allen, Mr. William Henry</td>\n",
       "      <td>male</td>\n",
       "      <td>35.0</td>\n",
       "      <td>0</td>\n",
       "      <td>0</td>\n",
       "      <td>373450</td>\n",
       "      <td>8.0500</td>\n",
       "      <td>NaN</td>\n",
       "      <td>S</td>\n",
       "    </tr>\n",
       "  </tbody>\n",
       "</table>\n",
       "</div>"
      ],
      "text/plain": [
       "   PassengerId  Survived  Pclass  \\\n",
       "0            1         0       3   \n",
       "1            2         1       1   \n",
       "2            3         1       3   \n",
       "3            4         1       1   \n",
       "4            5         0       3   \n",
       "\n",
       "                                                Name     Sex   Age  SibSp  \\\n",
       "0                            Braund, Mr. Owen Harris    male  22.0      1   \n",
       "1  Cumings, Mrs. John Bradley (Florence Briggs Th...  female  38.0      1   \n",
       "2                             Heikkinen, Miss. Laina  female  26.0      0   \n",
       "3       Futrelle, Mrs. Jacques Heath (Lily May Peel)  female  35.0      1   \n",
       "4                           Allen, Mr. William Henry    male  35.0      0   \n",
       "\n",
       "   Parch            Ticket     Fare Cabin Embarked  \n",
       "0      0         A/5 21171   7.2500   NaN        S  \n",
       "1      0          PC 17599  71.2833   C85        C  \n",
       "2      0  STON/O2. 3101282   7.9250   NaN        S  \n",
       "3      0            113803  53.1000  C123        S  \n",
       "4      0            373450   8.0500   NaN        S  "
      ]
     },
     "execution_count": 2,
     "metadata": {},
     "output_type": "execute_result"
    }
   ],
   "source": [
    "train_data = pd.read_csv(\"/kaggle/input/titanic/train.csv\")\n",
    "train_data.head()"
   ]
  },
  {
   "cell_type": "markdown",
   "id": "fifth-teens",
   "metadata": {
    "papermill": {
     "duration": 0.024032,
     "end_time": "2021-06-01T10:35:11.246772",
     "exception": false,
     "start_time": "2021-06-01T10:35:11.222740",
     "status": "completed"
    },
    "tags": []
   },
   "source": [
    "### Check if there's duplicate enteries"
   ]
  },
  {
   "cell_type": "code",
   "execution_count": 3,
   "id": "forbidden-scholarship",
   "metadata": {
    "execution": {
     "iopub.execute_input": "2021-06-01T10:35:11.298108Z",
     "iopub.status.busy": "2021-06-01T10:35:11.297489Z",
     "iopub.status.idle": "2021-06-01T10:35:11.310411Z",
     "shell.execute_reply": "2021-06-01T10:35:11.310832Z",
     "shell.execute_reply.started": "2021-06-01T10:31:23.230593Z"
    },
    "papermill": {
     "duration": 0.040172,
     "end_time": "2021-06-01T10:35:11.311005",
     "exception": false,
     "start_time": "2021-06-01T10:35:11.270833",
     "status": "completed"
    },
    "tags": []
   },
   "outputs": [
    {
     "data": {
      "text/plain": [
       "0"
      ]
     },
     "execution_count": 3,
     "metadata": {},
     "output_type": "execute_result"
    }
   ],
   "source": [
    "sum(train_data.duplicated())"
   ]
  },
  {
   "cell_type": "code",
   "execution_count": 4,
   "id": "substantial-detroit",
   "metadata": {
    "execution": {
     "iopub.execute_input": "2021-06-01T10:35:11.361294Z",
     "iopub.status.busy": "2021-06-01T10:35:11.360765Z",
     "iopub.status.idle": "2021-06-01T10:35:11.383263Z",
     "shell.execute_reply": "2021-06-01T10:35:11.382748Z",
     "shell.execute_reply.started": "2021-06-01T10:31:23.240857Z"
    },
    "papermill": {
     "duration": 0.048604,
     "end_time": "2021-06-01T10:35:11.383417",
     "exception": false,
     "start_time": "2021-06-01T10:35:11.334813",
     "status": "completed"
    },
    "tags": []
   },
   "outputs": [
    {
     "data": {
      "text/html": [
       "<div>\n",
       "<style scoped>\n",
       "    .dataframe tbody tr th:only-of-type {\n",
       "        vertical-align: middle;\n",
       "    }\n",
       "\n",
       "    .dataframe tbody tr th {\n",
       "        vertical-align: top;\n",
       "    }\n",
       "\n",
       "    .dataframe thead th {\n",
       "        text-align: right;\n",
       "    }\n",
       "</style>\n",
       "<table border=\"1\" class=\"dataframe\">\n",
       "  <thead>\n",
       "    <tr style=\"text-align: right;\">\n",
       "      <th></th>\n",
       "      <th>PassengerId</th>\n",
       "      <th>Pclass</th>\n",
       "      <th>Name</th>\n",
       "      <th>Sex</th>\n",
       "      <th>Age</th>\n",
       "      <th>SibSp</th>\n",
       "      <th>Parch</th>\n",
       "      <th>Ticket</th>\n",
       "      <th>Fare</th>\n",
       "      <th>Cabin</th>\n",
       "      <th>Embarked</th>\n",
       "    </tr>\n",
       "  </thead>\n",
       "  <tbody>\n",
       "    <tr>\n",
       "      <th>0</th>\n",
       "      <td>892</td>\n",
       "      <td>3</td>\n",
       "      <td>Kelly, Mr. James</td>\n",
       "      <td>male</td>\n",
       "      <td>34.5</td>\n",
       "      <td>0</td>\n",
       "      <td>0</td>\n",
       "      <td>330911</td>\n",
       "      <td>7.8292</td>\n",
       "      <td>NaN</td>\n",
       "      <td>Q</td>\n",
       "    </tr>\n",
       "    <tr>\n",
       "      <th>1</th>\n",
       "      <td>893</td>\n",
       "      <td>3</td>\n",
       "      <td>Wilkes, Mrs. James (Ellen Needs)</td>\n",
       "      <td>female</td>\n",
       "      <td>47.0</td>\n",
       "      <td>1</td>\n",
       "      <td>0</td>\n",
       "      <td>363272</td>\n",
       "      <td>7.0000</td>\n",
       "      <td>NaN</td>\n",
       "      <td>S</td>\n",
       "    </tr>\n",
       "    <tr>\n",
       "      <th>2</th>\n",
       "      <td>894</td>\n",
       "      <td>2</td>\n",
       "      <td>Myles, Mr. Thomas Francis</td>\n",
       "      <td>male</td>\n",
       "      <td>62.0</td>\n",
       "      <td>0</td>\n",
       "      <td>0</td>\n",
       "      <td>240276</td>\n",
       "      <td>9.6875</td>\n",
       "      <td>NaN</td>\n",
       "      <td>Q</td>\n",
       "    </tr>\n",
       "    <tr>\n",
       "      <th>3</th>\n",
       "      <td>895</td>\n",
       "      <td>3</td>\n",
       "      <td>Wirz, Mr. Albert</td>\n",
       "      <td>male</td>\n",
       "      <td>27.0</td>\n",
       "      <td>0</td>\n",
       "      <td>0</td>\n",
       "      <td>315154</td>\n",
       "      <td>8.6625</td>\n",
       "      <td>NaN</td>\n",
       "      <td>S</td>\n",
       "    </tr>\n",
       "    <tr>\n",
       "      <th>4</th>\n",
       "      <td>896</td>\n",
       "      <td>3</td>\n",
       "      <td>Hirvonen, Mrs. Alexander (Helga E Lindqvist)</td>\n",
       "      <td>female</td>\n",
       "      <td>22.0</td>\n",
       "      <td>1</td>\n",
       "      <td>1</td>\n",
       "      <td>3101298</td>\n",
       "      <td>12.2875</td>\n",
       "      <td>NaN</td>\n",
       "      <td>S</td>\n",
       "    </tr>\n",
       "  </tbody>\n",
       "</table>\n",
       "</div>"
      ],
      "text/plain": [
       "   PassengerId  Pclass                                          Name     Sex  \\\n",
       "0          892       3                              Kelly, Mr. James    male   \n",
       "1          893       3              Wilkes, Mrs. James (Ellen Needs)  female   \n",
       "2          894       2                     Myles, Mr. Thomas Francis    male   \n",
       "3          895       3                              Wirz, Mr. Albert    male   \n",
       "4          896       3  Hirvonen, Mrs. Alexander (Helga E Lindqvist)  female   \n",
       "\n",
       "    Age  SibSp  Parch   Ticket     Fare Cabin Embarked  \n",
       "0  34.5      0      0   330911   7.8292   NaN        Q  \n",
       "1  47.0      1      0   363272   7.0000   NaN        S  \n",
       "2  62.0      0      0   240276   9.6875   NaN        Q  \n",
       "3  27.0      0      0   315154   8.6625   NaN        S  \n",
       "4  22.0      1      1  3101298  12.2875   NaN        S  "
      ]
     },
     "execution_count": 4,
     "metadata": {},
     "output_type": "execute_result"
    }
   ],
   "source": [
    "test_data = pd.read_csv(\"/kaggle/input/titanic/test.csv\")\n",
    "test_data.head()"
   ]
  },
  {
   "cell_type": "markdown",
   "id": "incorrect-fancy",
   "metadata": {
    "papermill": {
     "duration": 0.02389,
     "end_time": "2021-06-01T10:35:11.431604",
     "exception": false,
     "start_time": "2021-06-01T10:35:11.407714",
     "status": "completed"
    },
    "tags": []
   },
   "source": [
    "## Clean Data"
   ]
  },
  {
   "cell_type": "code",
   "execution_count": 5,
   "id": "considerable-peter",
   "metadata": {
    "execution": {
     "iopub.execute_input": "2021-06-01T10:35:11.482942Z",
     "iopub.status.busy": "2021-06-01T10:35:11.482310Z",
     "iopub.status.idle": "2021-06-01T10:35:11.495631Z",
     "shell.execute_reply": "2021-06-01T10:35:11.494997Z",
     "shell.execute_reply.started": "2021-06-01T10:31:23.26905Z"
    },
    "papermill": {
     "duration": 0.040185,
     "end_time": "2021-06-01T10:35:11.495777",
     "exception": false,
     "start_time": "2021-06-01T10:35:11.455592",
     "status": "completed"
    },
    "tags": []
   },
   "outputs": [
    {
     "data": {
      "text/plain": [
       "<bound method NDFrame.head of      PassengerId  Survived  Pclass     Sex   Age Embarked\n",
       "0              1         0       3    male  22.0        S\n",
       "1              2         1       1  female  38.0        C\n",
       "2              3         1       3  female  26.0        S\n",
       "3              4         1       1  female  35.0        S\n",
       "4              5         0       3    male  35.0        S\n",
       "..           ...       ...     ...     ...   ...      ...\n",
       "886          887         0       2    male  27.0        S\n",
       "887          888         1       1  female  19.0        S\n",
       "888          889         0       3  female   NaN        S\n",
       "889          890         1       1    male  26.0        C\n",
       "890          891         0       3    male  32.0        Q\n",
       "\n",
       "[891 rows x 6 columns]>"
      ]
     },
     "execution_count": 5,
     "metadata": {},
     "output_type": "execute_result"
    }
   ],
   "source": [
    "train_data.drop(['SibSp','Parch','Fare','Cabin','Ticket', 'Name'], axis = 1, inplace = True)\n",
    "train_data.head"
   ]
  },
  {
   "cell_type": "code",
   "execution_count": 6,
   "id": "raising-portugal",
   "metadata": {
    "execution": {
     "iopub.execute_input": "2021-06-01T10:35:11.558367Z",
     "iopub.status.busy": "2021-06-01T10:35:11.557818Z",
     "iopub.status.idle": "2021-06-01T10:35:11.577759Z",
     "shell.execute_reply": "2021-06-01T10:35:11.577201Z",
     "shell.execute_reply.started": "2021-06-01T10:31:23.282903Z"
    },
    "papermill": {
     "duration": 0.057271,
     "end_time": "2021-06-01T10:35:11.577901",
     "exception": false,
     "start_time": "2021-06-01T10:35:11.520630",
     "status": "completed"
    },
    "tags": []
   },
   "outputs": [
    {
     "data": {
      "text/html": [
       "<div>\n",
       "<style scoped>\n",
       "    .dataframe tbody tr th:only-of-type {\n",
       "        vertical-align: middle;\n",
       "    }\n",
       "\n",
       "    .dataframe tbody tr th {\n",
       "        vertical-align: top;\n",
       "    }\n",
       "\n",
       "    .dataframe thead th {\n",
       "        text-align: right;\n",
       "    }\n",
       "</style>\n",
       "<table border=\"1\" class=\"dataframe\">\n",
       "  <thead>\n",
       "    <tr style=\"text-align: right;\">\n",
       "      <th></th>\n",
       "      <th>PassengerId</th>\n",
       "      <th>Survived</th>\n",
       "      <th>Pclass</th>\n",
       "      <th>Age</th>\n",
       "    </tr>\n",
       "  </thead>\n",
       "  <tbody>\n",
       "    <tr>\n",
       "      <th>count</th>\n",
       "      <td>891.000000</td>\n",
       "      <td>891.000000</td>\n",
       "      <td>891.000000</td>\n",
       "      <td>714.000000</td>\n",
       "    </tr>\n",
       "    <tr>\n",
       "      <th>mean</th>\n",
       "      <td>446.000000</td>\n",
       "      <td>0.383838</td>\n",
       "      <td>2.308642</td>\n",
       "      <td>29.699118</td>\n",
       "    </tr>\n",
       "    <tr>\n",
       "      <th>std</th>\n",
       "      <td>257.353842</td>\n",
       "      <td>0.486592</td>\n",
       "      <td>0.836071</td>\n",
       "      <td>14.526497</td>\n",
       "    </tr>\n",
       "    <tr>\n",
       "      <th>min</th>\n",
       "      <td>1.000000</td>\n",
       "      <td>0.000000</td>\n",
       "      <td>1.000000</td>\n",
       "      <td>0.420000</td>\n",
       "    </tr>\n",
       "    <tr>\n",
       "      <th>25%</th>\n",
       "      <td>223.500000</td>\n",
       "      <td>0.000000</td>\n",
       "      <td>2.000000</td>\n",
       "      <td>20.125000</td>\n",
       "    </tr>\n",
       "    <tr>\n",
       "      <th>50%</th>\n",
       "      <td>446.000000</td>\n",
       "      <td>0.000000</td>\n",
       "      <td>3.000000</td>\n",
       "      <td>28.000000</td>\n",
       "    </tr>\n",
       "    <tr>\n",
       "      <th>75%</th>\n",
       "      <td>668.500000</td>\n",
       "      <td>1.000000</td>\n",
       "      <td>3.000000</td>\n",
       "      <td>38.000000</td>\n",
       "    </tr>\n",
       "    <tr>\n",
       "      <th>max</th>\n",
       "      <td>891.000000</td>\n",
       "      <td>1.000000</td>\n",
       "      <td>3.000000</td>\n",
       "      <td>80.000000</td>\n",
       "    </tr>\n",
       "  </tbody>\n",
       "</table>\n",
       "</div>"
      ],
      "text/plain": [
       "       PassengerId    Survived      Pclass         Age\n",
       "count   891.000000  891.000000  891.000000  714.000000\n",
       "mean    446.000000    0.383838    2.308642   29.699118\n",
       "std     257.353842    0.486592    0.836071   14.526497\n",
       "min       1.000000    0.000000    1.000000    0.420000\n",
       "25%     223.500000    0.000000    2.000000   20.125000\n",
       "50%     446.000000    0.000000    3.000000   28.000000\n",
       "75%     668.500000    1.000000    3.000000   38.000000\n",
       "max     891.000000    1.000000    3.000000   80.000000"
      ]
     },
     "execution_count": 6,
     "metadata": {},
     "output_type": "execute_result"
    }
   ],
   "source": [
    "train_data.describe()"
   ]
  },
  {
   "cell_type": "markdown",
   "id": "naval-cartoon",
   "metadata": {
    "papermill": {
     "duration": 0.024223,
     "end_time": "2021-06-01T10:35:11.627342",
     "exception": false,
     "start_time": "2021-06-01T10:35:11.603119",
     "status": "completed"
    },
    "tags": []
   },
   "source": [
    "## Explore patterns"
   ]
  },
  {
   "cell_type": "markdown",
   "id": "exciting-better",
   "metadata": {
    "papermill": {
     "duration": 0.025059,
     "end_time": "2021-06-01T10:35:11.677264",
     "exception": false,
     "start_time": "2021-06-01T10:35:11.652205",
     "status": "completed"
    },
    "tags": []
   },
   "source": [
    "### Survival based on gender"
   ]
  },
  {
   "cell_type": "code",
   "execution_count": 7,
   "id": "lasting-flooring",
   "metadata": {
    "execution": {
     "iopub.execute_input": "2021-06-01T10:35:11.734808Z",
     "iopub.status.busy": "2021-06-01T10:35:11.733150Z",
     "iopub.status.idle": "2021-06-01T10:35:11.860418Z",
     "shell.execute_reply": "2021-06-01T10:35:11.859914Z",
     "shell.execute_reply.started": "2021-06-01T10:31:23.318034Z"
    },
    "papermill": {
     "duration": 0.158496,
     "end_time": "2021-06-01T10:35:11.860575",
     "exception": false,
     "start_time": "2021-06-01T10:35:11.702079",
     "status": "completed"
    },
    "tags": []
   },
   "outputs": [
    {
     "data": {
      "image/png": "[encoded data removed]",
      "text/plain": [
       "<Figure size 432x288 with 1 Axes>"
      ]
     },
     "metadata": {
      "needs_background": "light"
     },
     "output_type": "display_data"
    }
   ],
   "source": [
    "sns.countplot(x='Sex', data=train_data);"
   ]
  },
  {
   "cell_type": "markdown",
   "id": "organizational-familiar",
   "metadata": {
    "papermill": {
     "duration": 0.025579,
     "end_time": "2021-06-01T10:35:11.911446",
     "exception": false,
     "start_time": "2021-06-01T10:35:11.885867",
     "status": "completed"
    },
    "tags": []
   },
   "source": [
    "The number of males aboard is almost double the number of females."
   ]
  },
  {
   "cell_type": "code",
   "execution_count": 8,
   "id": "arranged-enforcement",
   "metadata": {
    "execution": {
     "iopub.execute_input": "2021-06-01T10:35:11.969280Z",
     "iopub.status.busy": "2021-06-01T10:35:11.968587Z",
     "iopub.status.idle": "2021-06-01T10:35:11.971859Z",
     "shell.execute_reply": "2021-06-01T10:35:11.972270Z",
     "shell.execute_reply.started": "2021-06-01T10:31:23.436324Z"
    },
    "papermill": {
     "duration": 0.035661,
     "end_time": "2021-06-01T10:35:11.972452",
     "exception": false,
     "start_time": "2021-06-01T10:35:11.936791",
     "status": "completed"
    },
    "tags": []
   },
   "outputs": [
    {
     "name": "stdout",
     "output_type": "stream",
     "text": [
      "74.2% of women survived\n"
     ]
    }
   ],
   "source": [
    "women = train_data.loc[train_data.Sex == 'female'][\"Survived\"]\n",
    "rate_women = round(sum(women)/len(women)*100 , 2)\n",
    "\n",
    "print(\"{}% of women survived\".format(rate_women))"
   ]
  },
  {
   "cell_type": "code",
   "execution_count": 9,
   "id": "insured-recorder",
   "metadata": {
    "execution": {
     "iopub.execute_input": "2021-06-01T10:35:12.031863Z",
     "iopub.status.busy": "2021-06-01T10:35:12.031154Z",
     "iopub.status.idle": "2021-06-01T10:35:12.034551Z",
     "shell.execute_reply": "2021-06-01T10:35:12.035114Z",
     "shell.execute_reply.started": "2021-06-01T10:31:23.445443Z"
    },
    "papermill": {
     "duration": 0.03714,
     "end_time": "2021-06-01T10:35:12.035357",
     "exception": false,
     "start_time": "2021-06-01T10:35:11.998217",
     "status": "completed"
    },
    "tags": []
   },
   "outputs": [
    {
     "name": "stdout",
     "output_type": "stream",
     "text": [
      "18.89% of men survived\n"
     ]
    }
   ],
   "source": [
    "men = train_data.loc[train_data.Sex == 'male'][\"Survived\"]\n",
    "rate_men = round(sum(men)/len(men)*100, 2)\n",
    "\n",
    "print(\"{}% of men survived\".format(rate_men))"
   ]
  },
  {
   "cell_type": "code",
   "execution_count": 10,
   "id": "cardiac-chapel",
   "metadata": {
    "execution": {
     "iopub.execute_input": "2021-06-01T10:35:12.094917Z",
     "iopub.status.busy": "2021-06-01T10:35:12.094249Z",
     "iopub.status.idle": "2021-06-01T10:35:12.342508Z",
     "shell.execute_reply": "2021-06-01T10:35:12.342976Z",
     "shell.execute_reply.started": "2021-06-01T10:31:23.460409Z"
    },
    "papermill": {
     "duration": 0.2808,
     "end_time": "2021-06-01T10:35:12.343161",
     "exception": false,
     "start_time": "2021-06-01T10:35:12.062361",
     "status": "completed"
    },
    "tags": []
   },
   "outputs": [
    {
     "data": {
      "image/png": "[encoded data removed]",
      "text/plain": [
       "<Figure size 720x360 with 2 Axes>"
      ]
     },
     "metadata": {
      "needs_background": "light"
     },
     "output_type": "display_data"
    }
   ],
   "source": [
    "sns.catplot(x='Survived', col='Sex', kind='count', data=train_data);"
   ]
  },
  {
   "cell_type": "markdown",
   "id": "abroad-sellers",
   "metadata": {
    "papermill": {
     "duration": 0.028331,
     "end_time": "2021-06-01T10:35:12.398715",
     "exception": false,
     "start_time": "2021-06-01T10:35:12.370384",
     "status": "completed"
    },
    "tags": []
   },
   "source": [
    "#### Conclusion\n",
    "Women have higher chances of survival"
   ]
  },
  {
   "cell_type": "markdown",
   "id": "marine-product",
   "metadata": {
    "papermill": {
     "duration": 0.026762,
     "end_time": "2021-06-01T10:35:12.452955",
     "exception": false,
     "start_time": "2021-06-01T10:35:12.426193",
     "status": "completed"
    },
    "tags": []
   },
   "source": [
    "### Survival based on ticket class"
   ]
  },
  {
   "cell_type": "code",
   "execution_count": 11,
   "id": "forward-daughter",
   "metadata": {
    "execution": {
     "iopub.execute_input": "2021-06-01T10:35:12.513456Z",
     "iopub.status.busy": "2021-06-01T10:35:12.512521Z",
     "iopub.status.idle": "2021-06-01T10:35:12.618638Z",
     "shell.execute_reply": "2021-06-01T10:35:12.618117Z",
     "shell.execute_reply.started": "2021-06-01T10:31:23.954912Z"
    },
    "papermill": {
     "duration": 0.138766,
     "end_time": "2021-06-01T10:35:12.618794",
     "exception": false,
     "start_time": "2021-06-01T10:35:12.480028",
     "status": "completed"
    },
    "tags": []
   },
   "outputs": [
    {
     "data": {
      "image/png": "[encoded data removed]",
      "text/plain": [
       "<Figure size 432x288 with 1 Axes>"
      ]
     },
     "metadata": {
      "needs_background": "light"
     },
     "output_type": "display_data"
    }
   ],
   "source": [
    "sns.countplot(x='Pclass', data=train_data);"
   ]
  },
  {
   "cell_type": "code",
   "execution_count": 12,
   "id": "major-sociology",
   "metadata": {
    "execution": {
     "iopub.execute_input": "2021-06-01T10:35:12.678426Z",
     "iopub.status.busy": "2021-06-01T10:35:12.677503Z",
     "iopub.status.idle": "2021-06-01T10:35:12.698434Z",
     "shell.execute_reply": "2021-06-01T10:35:12.697871Z",
     "shell.execute_reply.started": "2021-06-01T10:31:24.068866Z"
    },
    "papermill": {
     "duration": 0.05252,
     "end_time": "2021-06-01T10:35:12.698585",
     "exception": false,
     "start_time": "2021-06-01T10:35:12.646065",
     "status": "completed"
    },
    "tags": []
   },
   "outputs": [
    {
     "name": "stdout",
     "output_type": "stream",
     "text": [
      "62.96% of the first class passengers survived\n"
     ]
    }
   ],
   "source": [
    "first_class = train_data.loc[train_data.Pclass == 1][\"Survived\"]\n",
    "rate_first = round(sum(first_class)/len(first_class)*100 , 2)\n",
    "\n",
    "print(\"{}% of the first class passengers survived\".format(rate_first))"
   ]
  },
  {
   "cell_type": "code",
   "execution_count": 13,
   "id": "included-diversity",
   "metadata": {
    "execution": {
     "iopub.execute_input": "2021-06-01T10:35:12.759549Z",
     "iopub.status.busy": "2021-06-01T10:35:12.758845Z",
     "iopub.status.idle": "2021-06-01T10:35:12.762708Z",
     "shell.execute_reply": "2021-06-01T10:35:12.761904Z",
     "shell.execute_reply.started": "2021-06-01T10:31:24.07799Z"
    },
    "papermill": {
     "duration": 0.037038,
     "end_time": "2021-06-01T10:35:12.762899",
     "exception": false,
     "start_time": "2021-06-01T10:35:12.725861",
     "status": "completed"
    },
    "tags": []
   },
   "outputs": [
    {
     "name": "stdout",
     "output_type": "stream",
     "text": [
      "47.28% of the second class passengers survived\n"
     ]
    }
   ],
   "source": [
    "sec_class = train_data.loc[train_data.Pclass == 2][\"Survived\"]\n",
    "rate_sec = round(sum(sec_class)/len(sec_class)*100 , 2)\n",
    "\n",
    "print(\"{}% of the second class passengers survived\".format(rate_sec))"
   ]
  },
  {
   "cell_type": "code",
   "execution_count": 14,
   "id": "alleged-cannon",
   "metadata": {
    "execution": {
     "iopub.execute_input": "2021-06-01T10:35:12.825709Z",
     "iopub.status.busy": "2021-06-01T10:35:12.825049Z",
     "iopub.status.idle": "2021-06-01T10:35:12.828677Z",
     "shell.execute_reply": "2021-06-01T10:35:12.828260Z",
     "shell.execute_reply.started": "2021-06-01T10:31:24.090384Z"
    },
    "papermill": {
     "duration": 0.037218,
     "end_time": "2021-06-01T10:35:12.828804",
     "exception": false,
     "start_time": "2021-06-01T10:35:12.791586",
     "status": "completed"
    },
    "tags": []
   },
   "outputs": [
    {
     "name": "stdout",
     "output_type": "stream",
     "text": [
      "24.24% of the third class passengers survived\n"
     ]
    }
   ],
   "source": [
    "third_class = train_data.loc[train_data.Pclass == 3][\"Survived\"]\n",
    "rate_third = round(sum(third_class)/len(third_class)*100 , 2)\n",
    "\n",
    "print(\"{}% of the third class passengers survived\".format(rate_third))"
   ]
  },
  {
   "cell_type": "code",
   "execution_count": 15,
   "id": "chicken-satellite",
   "metadata": {
    "execution": {
     "iopub.execute_input": "2021-06-01T10:35:12.906880Z",
     "iopub.status.busy": "2021-06-01T10:35:12.889223Z",
     "iopub.status.idle": "2021-06-01T10:35:13.271677Z",
     "shell.execute_reply": "2021-06-01T10:35:13.272110Z",
     "shell.execute_reply.started": "2021-06-01T10:31:24.104203Z"
    },
    "papermill": {
     "duration": 0.416329,
     "end_time": "2021-06-01T10:35:13.272299",
     "exception": false,
     "start_time": "2021-06-01T10:35:12.855970",
     "status": "completed"
    },
    "tags": []
   },
   "outputs": [
    {
     "data": {
      "image/png": "[encoded data removed]",
      "text/plain": [
       "<Figure size 1080x360 with 3 Axes>"
      ]
     },
     "metadata": {
      "needs_background": "light"
     },
     "output_type": "display_data"
    }
   ],
   "source": [
    "sns.catplot(x='Survived', col='Pclass', kind='count', data=train_data);"
   ]
  },
  {
   "cell_type": "markdown",
   "id": "grave-bosnia",
   "metadata": {
    "papermill": {
     "duration": 0.027638,
     "end_time": "2021-06-01T10:35:13.328315",
     "exception": false,
     "start_time": "2021-06-01T10:35:13.300677",
     "status": "completed"
    },
    "tags": []
   },
   "source": [
    "#### Conclusion\n",
    "First class passengers had better chances of survival, followed by second class passenger, then third class passengers"
   ]
  },
  {
   "cell_type": "markdown",
   "id": "harmful-supplement",
   "metadata": {
    "papermill": {
     "duration": 0.027693,
     "end_time": "2021-06-01T10:35:13.383972",
     "exception": false,
     "start_time": "2021-06-01T10:35:13.356279",
     "status": "completed"
    },
    "tags": []
   },
   "source": [
    "### Survival based on embarked station"
   ]
  },
  {
   "cell_type": "code",
   "execution_count": 16,
   "id": "korean-maker",
   "metadata": {
    "execution": {
     "iopub.execute_input": "2021-06-01T10:35:13.442859Z",
     "iopub.status.busy": "2021-06-01T10:35:13.442298Z",
     "iopub.status.idle": "2021-06-01T10:35:13.552815Z",
     "shell.execute_reply": "2021-06-01T10:35:13.552129Z",
     "shell.execute_reply.started": "2021-06-01T10:31:24.586907Z"
    },
    "papermill": {
     "duration": 0.14087,
     "end_time": "2021-06-01T10:35:13.553005",
     "exception": false,
     "start_time": "2021-06-01T10:35:13.412135",
     "status": "completed"
    },
    "tags": []
   },
   "outputs": [
    {
     "data": {
      "image/png": "[encoded data removed]",
      "text/plain": [
       "<Figure size 432x288 with 1 Axes>"
      ]
     },
     "metadata": {
      "needs_background": "light"
     },
     "output_type": "display_data"
    }
   ],
   "source": [
    "sns.countplot(x='Embarked', data=train_data);"
   ]
  },
  {
   "cell_type": "code",
   "execution_count": 17,
   "id": "brazilian-paris",
   "metadata": {
    "execution": {
     "iopub.execute_input": "2021-06-01T10:35:13.642238Z",
     "iopub.status.busy": "2021-06-01T10:35:13.641234Z",
     "iopub.status.idle": "2021-06-01T10:35:13.648519Z",
     "shell.execute_reply": "2021-06-01T10:35:13.647415Z",
     "shell.execute_reply.started": "2021-06-01T10:31:24.707732Z"
    },
    "papermill": {
     "duration": 0.060659,
     "end_time": "2021-06-01T10:35:13.648804",
     "exception": false,
     "start_time": "2021-06-01T10:35:13.588145",
     "status": "completed"
    },
    "tags": []
   },
   "outputs": [
    {
     "name": "stdout",
     "output_type": "stream",
     "text": [
      "55.36% of the passengers embarked from Cherbourg survived\n"
     ]
    }
   ],
   "source": [
    "Cherbourg = train_data.loc[train_data.Embarked == 'C'][\"Survived\"]\n",
    "rate_C = round(sum(Cherbourg)/len(Cherbourg)*100 , 2)\n",
    "\n",
    "print(\"{}% of the passengers embarked from Cherbourg survived\".format(rate_C))"
   ]
  },
  {
   "cell_type": "code",
   "execution_count": 18,
   "id": "silver-riding",
   "metadata": {
    "execution": {
     "iopub.execute_input": "2021-06-01T10:35:13.717520Z",
     "iopub.status.busy": "2021-06-01T10:35:13.716887Z",
     "iopub.status.idle": "2021-06-01T10:35:13.724430Z",
     "shell.execute_reply": "2021-06-01T10:35:13.723933Z",
     "shell.execute_reply.started": "2021-06-01T10:31:24.71599Z"
    },
    "papermill": {
     "duration": 0.039264,
     "end_time": "2021-06-01T10:35:13.724564",
     "exception": false,
     "start_time": "2021-06-01T10:35:13.685300",
     "status": "completed"
    },
    "tags": []
   },
   "outputs": [
    {
     "name": "stdout",
     "output_type": "stream",
     "text": [
      "38.96% of the passengers embarked from Queenstown survived\n"
     ]
    }
   ],
   "source": [
    "Queenstown = train_data.loc[train_data.Embarked == 'Q'][\"Survived\"]\n",
    "rate_Q = round(sum(Queenstown)/len(Queenstown)*100 , 2)\n",
    "\n",
    "print(\"{}% of the passengers embarked from Queenstown survived\".format(rate_Q))"
   ]
  },
  {
   "cell_type": "code",
   "execution_count": 19,
   "id": "genuine-hands",
   "metadata": {
    "execution": {
     "iopub.execute_input": "2021-06-01T10:35:13.790820Z",
     "iopub.status.busy": "2021-06-01T10:35:13.790139Z",
     "iopub.status.idle": "2021-06-01T10:35:13.792727Z",
     "shell.execute_reply": "2021-06-01T10:35:13.793149Z",
     "shell.execute_reply.started": "2021-06-01T10:31:24.73013Z"
    },
    "papermill": {
     "duration": 0.039838,
     "end_time": "2021-06-01T10:35:13.793321",
     "exception": false,
     "start_time": "2021-06-01T10:35:13.753483",
     "status": "completed"
    },
    "tags": []
   },
   "outputs": [
    {
     "name": "stdout",
     "output_type": "stream",
     "text": [
      "33.7% of the passengers embarked from Southampton survived\n"
     ]
    }
   ],
   "source": [
    "Southampton = train_data.loc[train_data.Embarked == 'S'][\"Survived\"]\n",
    "rate_S = round(sum(Southampton)/len(Southampton)*100 , 2)\n",
    "\n",
    "print(\"{}% of the passengers embarked from Southampton survived\".format(rate_S))"
   ]
  },
  {
   "cell_type": "code",
   "execution_count": 20,
   "id": "gorgeous-civilian",
   "metadata": {
    "execution": {
     "iopub.execute_input": "2021-06-01T10:35:13.860495Z",
     "iopub.status.busy": "2021-06-01T10:35:13.859743Z",
     "iopub.status.idle": "2021-06-01T10:35:14.370002Z",
     "shell.execute_reply": "2021-06-01T10:35:14.369468Z",
     "shell.execute_reply.started": "2021-06-01T10:31:24.743684Z"
    },
    "papermill": {
     "duration": 0.546598,
     "end_time": "2021-06-01T10:35:14.370165",
     "exception": false,
     "start_time": "2021-06-01T10:35:13.823567",
     "status": "completed"
    },
    "tags": []
   },
   "outputs": [
    {
     "data": {
      "image/png": "[encoded data removed]",
      "text/plain": [
       "<Figure size 1080x360 with 3 Axes>"
      ]
     },
     "metadata": {
      "needs_background": "light"
     },
     "output_type": "display_data"
    }
   ],
   "source": [
    "sns.catplot(x='Survived', col='Embarked', kind='count', data=train_data);"
   ]
  },
  {
   "cell_type": "markdown",
   "id": "handed-savings",
   "metadata": {
    "papermill": {
     "duration": 0.03115,
     "end_time": "2021-06-01T10:35:14.432787",
     "exception": false,
     "start_time": "2021-06-01T10:35:14.401637",
     "status": "completed"
    },
    "tags": []
   },
   "source": [
    "#### Conclusion\n",
    "Passengers embarked from Cherbourg had better survival rates, followed by Queenstown, then Southampton"
   ]
  },
  {
   "cell_type": "markdown",
   "id": "sustainable-reaction",
   "metadata": {
    "papermill": {
     "duration": 0.031551,
     "end_time": "2021-06-01T10:35:14.495696",
     "exception": false,
     "start_time": "2021-06-01T10:35:14.464145",
     "status": "completed"
    },
    "tags": []
   },
   "source": [
    "### Survival based on age group\n",
    "Consider 4 age groups:\n",
    "* 0-18: Children\n",
    "* 18-35: Young Adults\n",
    "* 35-50: Middle Age\n",
    "* 50-80: Elders"
   ]
  },
  {
   "cell_type": "markdown",
   "id": "middle-jacksonville",
   "metadata": {
    "papermill": {
     "duration": 0.030017,
     "end_time": "2021-06-01T10:35:14.556478",
     "exception": false,
     "start_time": "2021-06-01T10:35:14.526461",
     "status": "completed"
    },
    "tags": []
   },
   "source": [
    "Before analyzing the age, we must drop the NaN values<br>\n",
    "To keep the results as accurate as possible, no imputing was used."
   ]
  },
  {
   "cell_type": "code",
   "execution_count": 21,
   "id": "decent-frame",
   "metadata": {
    "execution": {
     "iopub.execute_input": "2021-06-01T10:35:14.629377Z",
     "iopub.status.busy": "2021-06-01T10:35:14.628277Z",
     "iopub.status.idle": "2021-06-01T10:35:14.634561Z",
     "shell.execute_reply": "2021-06-01T10:35:14.634106Z",
     "shell.execute_reply.started": "2021-06-01T10:31:25.237254Z"
    },
    "papermill": {
     "duration": 0.044515,
     "end_time": "2021-06-01T10:35:14.634710",
     "exception": false,
     "start_time": "2021-06-01T10:35:14.590195",
     "status": "completed"
    },
    "tags": []
   },
   "outputs": [
    {
     "data": {
      "text/plain": [
       "(712, 6)"
      ]
     },
     "execution_count": 21,
     "metadata": {},
     "output_type": "execute_result"
    }
   ],
   "source": [
    "train_data.dropna(axis=0, inplace=True)\n",
    "train_data.shape"
   ]
  },
  {
   "cell_type": "code",
   "execution_count": 22,
   "id": "normal-placement",
   "metadata": {
    "execution": {
     "iopub.execute_input": "2021-06-01T10:35:14.729307Z",
     "iopub.status.busy": "2021-06-01T10:35:14.728324Z",
     "iopub.status.idle": "2021-06-01T10:35:14.945491Z",
     "shell.execute_reply": "2021-06-01T10:35:14.945019Z",
     "shell.execute_reply.started": "2021-06-01T10:31:25.251287Z"
    },
    "papermill": {
     "duration": 0.280561,
     "end_time": "2021-06-01T10:35:14.945631",
     "exception": false,
     "start_time": "2021-06-01T10:35:14.665070",
     "status": "completed"
    },
    "tags": []
   },
   "outputs": [
    {
     "data": {
      "image/png": "[encoded data removed]",
      "text/plain": [
       "<Figure size 360x360 with 1 Axes>"
      ]
     },
     "metadata": {
      "needs_background": "light"
     },
     "output_type": "display_data"
    }
   ],
   "source": [
    "sns.displot(train_data.Age, kde=False);"
   ]
  },
  {
   "cell_type": "markdown",
   "id": "paperback-highway",
   "metadata": {
    "papermill": {
     "duration": 0.031581,
     "end_time": "2021-06-01T10:35:15.009248",
     "exception": false,
     "start_time": "2021-06-01T10:35:14.977667",
     "status": "completed"
    },
    "tags": []
   },
   "source": [
    "From the figure above we can see that the passenger count: Young Adults > Middle Age > Children > Elders"
   ]
  },
  {
   "cell_type": "code",
   "execution_count": 23,
   "id": "chubby-berry",
   "metadata": {
    "execution": {
     "iopub.execute_input": "2021-06-01T10:35:15.082383Z",
     "iopub.status.busy": "2021-06-01T10:35:15.081624Z",
     "iopub.status.idle": "2021-06-01T10:35:15.085851Z",
     "shell.execute_reply": "2021-06-01T10:35:15.085107Z",
     "shell.execute_reply.started": "2021-06-01T10:31:25.549608Z"
    },
    "papermill": {
     "duration": 0.044248,
     "end_time": "2021-06-01T10:35:15.086030",
     "exception": false,
     "start_time": "2021-06-01T10:35:15.041782",
     "status": "completed"
    },
    "tags": []
   },
   "outputs": [
    {
     "name": "stdout",
     "output_type": "stream",
     "text": [
      "53.98% of children survived\n"
     ]
    }
   ],
   "source": [
    "child = train_data.loc[(train_data['Age'] > 0) & (train_data['Age'] < 18)][\"Survived\"]\n",
    "rate_child = round(sum(child)/len(child)*100 , 2)\n",
    "\n",
    "print(\"{}% of children survived\".format(rate_child))"
   ]
  },
  {
   "cell_type": "code",
   "execution_count": 24,
   "id": "iraqi-vision",
   "metadata": {
    "execution": {
     "iopub.execute_input": "2021-06-01T10:35:15.155026Z",
     "iopub.status.busy": "2021-06-01T10:35:15.154474Z",
     "iopub.status.idle": "2021-06-01T10:35:15.161791Z",
     "shell.execute_reply": "2021-06-01T10:35:15.161341Z",
     "shell.execute_reply.started": "2021-06-01T10:31:25.558339Z"
    },
    "papermill": {
     "duration": 0.042299,
     "end_time": "2021-06-01T10:35:15.161923",
     "exception": false,
     "start_time": "2021-06-01T10:35:15.119624",
     "status": "completed"
    },
    "tags": []
   },
   "outputs": [
    {
     "name": "stdout",
     "output_type": "stream",
     "text": [
      "36.89% of young adults survived\n"
     ]
    }
   ],
   "source": [
    "adult = train_data.loc[(train_data['Age'] >= 18) & (train_data['Age'] < 35)][\"Survived\"]\n",
    "rate_adult = round(sum(adult)/len(adult)*100 , 2)\n",
    "\n",
    "print(\"{}% of young adults survived\".format(rate_adult))"
   ]
  },
  {
   "cell_type": "code",
   "execution_count": 25,
   "id": "subject-accent",
   "metadata": {
    "execution": {
     "iopub.execute_input": "2021-06-01T10:35:15.234802Z",
     "iopub.status.busy": "2021-06-01T10:35:15.233989Z",
     "iopub.status.idle": "2021-06-01T10:35:15.237492Z",
     "shell.execute_reply": "2021-06-01T10:35:15.237861Z",
     "shell.execute_reply.started": "2021-06-01T10:31:25.572792Z"
    },
    "papermill": {
     "duration": 0.044172,
     "end_time": "2021-06-01T10:35:15.238022",
     "exception": false,
     "start_time": "2021-06-01T10:35:15.193850",
     "status": "completed"
    },
    "tags": []
   },
   "outputs": [
    {
     "name": "stdout",
     "output_type": "stream",
     "text": [
      "41.25% of middle aged people survived\n"
     ]
    }
   ],
   "source": [
    "mid = train_data.loc[(train_data['Age'] >= 35) & (train_data['Age'] < 50)][\"Survived\"]\n",
    "rate_mid = round(sum(mid)/len(mid)*100 , 2)\n",
    "\n",
    "print(\"{}% of middle aged people survived\".format(rate_mid))"
   ]
  },
  {
   "cell_type": "code",
   "execution_count": 26,
   "id": "approximate-amateur",
   "metadata": {
    "execution": {
     "iopub.execute_input": "2021-06-01T10:35:15.306687Z",
     "iopub.status.busy": "2021-06-01T10:35:15.305738Z",
     "iopub.status.idle": "2021-06-01T10:35:15.310128Z",
     "shell.execute_reply": "2021-06-01T10:35:15.310666Z",
     "shell.execute_reply.started": "2021-06-01T10:31:25.58736Z"
    },
    "papermill": {
     "duration": 0.04157,
     "end_time": "2021-06-01T10:35:15.310854",
     "exception": false,
     "start_time": "2021-06-01T10:35:15.269284",
     "status": "completed"
    },
    "tags": []
   },
   "outputs": [
    {
     "name": "stdout",
     "output_type": "stream",
     "text": [
      "35.62% of elders survived\n"
     ]
    }
   ],
   "source": [
    "old = train_data.loc[train_data['Age'] >=50][\"Survived\"]\n",
    "rate_old = round(sum(old)/len(old)*100 , 2)\n",
    "\n",
    "print(\"{}% of elders survived\".format(rate_old))"
   ]
  },
  {
   "cell_type": "code",
   "execution_count": 27,
   "id": "external-hopkins",
   "metadata": {
    "execution": {
     "iopub.execute_input": "2021-06-01T10:35:15.377876Z",
     "iopub.status.busy": "2021-06-01T10:35:15.377181Z",
     "iopub.status.idle": "2021-06-01T10:35:15.493110Z",
     "shell.execute_reply": "2021-06-01T10:35:15.493597Z",
     "shell.execute_reply.started": "2021-06-01T10:31:25.602829Z"
    },
    "papermill": {
     "duration": 0.151197,
     "end_time": "2021-06-01T10:35:15.493812",
     "exception": false,
     "start_time": "2021-06-01T10:35:15.342615",
     "status": "completed"
    },
    "tags": []
   },
   "outputs": [
    {
     "data": {
      "image/png": "[encoded data removed]",
      "text/plain": [
       "<Figure size 432x288 with 1 Axes>"
      ]
     },
     "metadata": {
      "needs_background": "light"
     },
     "output_type": "display_data"
    }
   ],
   "source": [
    "sns.stripplot(x='Survived', y='Age', data=train_data, alpha=0.5, jitter=True);"
   ]
  },
  {
   "cell_type": "markdown",
   "id": "opposed-matthew",
   "metadata": {
    "papermill": {
     "duration": 0.032082,
     "end_time": "2021-06-01T10:35:15.559329",
     "exception": false,
     "start_time": "2021-06-01T10:35:15.527247",
     "status": "completed"
    },
    "tags": []
   },
   "source": [
    "#### Conclusion\n",
    "Children seem to have had the best luck in surviving, followed by middle agers. Young adults, and elders had the worse survival rates"
   ]
  },
  {
   "cell_type": "markdown",
   "id": "useful-greeting",
   "metadata": {
    "papermill": {
     "duration": 0.034611,
     "end_time": "2021-06-01T10:35:15.626695",
     "exception": false,
     "start_time": "2021-06-01T10:35:15.592084",
     "status": "completed"
    },
    "tags": []
   },
   "source": [
    "### Final Thoughts\n",
    "The best survival chances seems to be:\n",
    "* woman\n",
    "* aged 0-18\n",
    "* first class\n",
    "* embarked from Cherbourg"
   ]
  },
  {
   "cell_type": "markdown",
   "id": "professional-oakland",
   "metadata": {
    "papermill": {
     "duration": 0.032957,
     "end_time": "2021-06-01T10:35:15.692170",
     "exception": false,
     "start_time": "2021-06-01T10:35:15.659213",
     "status": "completed"
    },
    "tags": []
   },
   "source": [
    "## Dealing with the test dataset"
   ]
  },
  {
   "cell_type": "code",
   "execution_count": 28,
   "id": "patient-brush",
   "metadata": {
    "execution": {
     "iopub.execute_input": "2021-06-01T10:35:15.762050Z",
     "iopub.status.busy": "2021-06-01T10:35:15.761474Z",
     "iopub.status.idle": "2021-06-01T10:35:15.777794Z",
     "shell.execute_reply": "2021-06-01T10:35:15.777133Z",
     "shell.execute_reply.started": "2021-06-01T10:31:25.738975Z"
    },
    "papermill": {
     "duration": 0.052247,
     "end_time": "2021-06-01T10:35:15.777947",
     "exception": false,
     "start_time": "2021-06-01T10:35:15.725700",
     "status": "completed"
    },
    "tags": []
   },
   "outputs": [
    {
     "name": "stdout",
     "output_type": "stream",
     "text": [
      "<class 'pandas.core.frame.DataFrame'>\n",
      "RangeIndex: 418 entries, 0 to 417\n",
      "Data columns (total 11 columns):\n",
      " #   Column       Non-Null Count  Dtype  \n",
      "---  ------       --------------  -----  \n",
      " 0   PassengerId  418 non-null    int64  \n",
      " 1   Pclass       418 non-null    int64  \n",
      " 2   Name         418 non-null    object \n",
      " 3   Sex          418 non-null    object \n",
      " 4   Age          332 non-null    float64\n",
      " 5   SibSp        418 non-null    int64  \n",
      " 6   Parch        418 non-null    int64  \n",
      " 7   Ticket       418 non-null    object \n",
      " 8   Fare         417 non-null    float64\n",
      " 9   Cabin        91 non-null     object \n",
      " 10  Embarked     418 non-null    object \n",
      "dtypes: float64(2), int64(4), object(5)\n",
      "memory usage: 36.0+ KB\n"
     ]
    }
   ],
   "source": [
    "test_data.info()"
   ]
  },
  {
   "cell_type": "code",
   "execution_count": 29,
   "id": "alive-provincial",
   "metadata": {
    "execution": {
     "iopub.execute_input": "2021-06-01T10:35:15.850021Z",
     "iopub.status.busy": "2021-06-01T10:35:15.849380Z",
     "iopub.status.idle": "2021-06-01T10:35:15.852198Z",
     "shell.execute_reply": "2021-06-01T10:35:15.851681Z",
     "shell.execute_reply.started": "2021-06-01T10:31:25.754286Z"
    },
    "papermill": {
     "duration": 0.041131,
     "end_time": "2021-06-01T10:35:15.852439",
     "exception": false,
     "start_time": "2021-06-01T10:35:15.811308",
     "status": "completed"
    },
    "tags": []
   },
   "outputs": [],
   "source": [
    "mean = test_data['Age'].mean()\n",
    "test_data['Age'].fillna(mean, inplace = True)"
   ]
  },
  {
   "cell_type": "code",
   "execution_count": 30,
   "id": "defensive-parts",
   "metadata": {
    "execution": {
     "iopub.execute_input": "2021-06-01T10:35:15.935432Z",
     "iopub.status.busy": "2021-06-01T10:35:15.934632Z",
     "iopub.status.idle": "2021-06-01T10:35:15.938859Z",
     "shell.execute_reply": "2021-06-01T10:35:15.938077Z",
     "shell.execute_reply.started": "2021-06-01T10:31:25.766521Z"
    },
    "papermill": {
     "duration": 0.052297,
     "end_time": "2021-06-01T10:35:15.939037",
     "exception": false,
     "start_time": "2021-06-01T10:35:15.886740",
     "status": "completed"
    },
    "tags": []
   },
   "outputs": [
    {
     "name": "stdout",
     "output_type": "stream",
     "text": [
      "<class 'pandas.core.frame.DataFrame'>\n",
      "RangeIndex: 418 entries, 0 to 417\n",
      "Data columns (total 11 columns):\n",
      " #   Column       Non-Null Count  Dtype  \n",
      "---  ------       --------------  -----  \n",
      " 0   PassengerId  418 non-null    int64  \n",
      " 1   Pclass       418 non-null    int64  \n",
      " 2   Name         418 non-null    object \n",
      " 3   Sex          418 non-null    object \n",
      " 4   Age          418 non-null    float64\n",
      " 5   SibSp        418 non-null    int64  \n",
      " 6   Parch        418 non-null    int64  \n",
      " 7   Ticket       418 non-null    object \n",
      " 8   Fare         417 non-null    float64\n",
      " 9   Cabin        91 non-null     object \n",
      " 10  Embarked     418 non-null    object \n",
      "dtypes: float64(2), int64(4), object(5)\n",
      "memory usage: 36.0+ KB\n"
     ]
    }
   ],
   "source": [
    "test_data.info()"
   ]
  },
  {
   "cell_type": "markdown",
   "id": "presidential-rover",
   "metadata": {
    "papermill": {
     "duration": 0.037194,
     "end_time": "2021-06-01T10:35:16.011866",
     "exception": false,
     "start_time": "2021-06-01T10:35:15.974672",
     "status": "completed"
    },
    "tags": []
   },
   "source": [
    "## Model Prediction"
   ]
  },
  {
   "cell_type": "code",
   "execution_count": 31,
   "id": "promotional-probe",
   "metadata": {
    "execution": {
     "iopub.execute_input": "2021-06-01T10:35:16.087302Z",
     "iopub.status.busy": "2021-06-01T10:35:16.086448Z",
     "iopub.status.idle": "2021-06-01T10:35:16.690175Z",
     "shell.execute_reply": "2021-06-01T10:35:16.690813Z",
     "shell.execute_reply.started": "2021-06-01T10:32:53.520620Z"
    },
    "papermill": {
     "duration": 0.645136,
     "end_time": "2021-06-01T10:35:16.691004",
     "exception": false,
     "start_time": "2021-06-01T10:35:16.045868",
     "status": "completed"
    },
    "tags": []
   },
   "outputs": [
    {
     "name": "stdout",
     "output_type": "stream",
     "text": [
      "Your submission was successfully saved!\n"
     ]
    }
   ],
   "source": [
    "from sklearn.ensemble import RandomForestClassifier\n",
    "y = train_data[\"Survived\"]\n",
    "\n",
    "features = [\"Age\", \"Sex\", \"Embarked\", \"Pclass\"]\n",
    "X = pd.get_dummies(train_data[features])\n",
    "X_test = pd.get_dummies(test_data[features])\n",
    "\n",
    "model = RandomForestClassifier(n_estimators=100, max_depth=5, random_state=1)\n",
    "model.fit(X, y)\n",
    "predictions = model.predict(X_test)\n",
    "\n",
    "output = pd.DataFrame({'PassengerId': test_data.PassengerId, 'Survived': predictions})\n",
    "output.to_csv('my_submission.csv', index=False)\n",
    "print(\"Your submission was successfully saved!\")"
   ]
  }
 ],
 "metadata": {
  "kernelspec": {
   "display_name": "Python 3",
   "language": "python",
   "name": "python3"
  },
  "language_info": {
   "codemirror_mode": {
    "name": "ipython",
    "version": 3
   },
   "file_extension": ".py",
   "mimetype": "text/x-python",
   "name": "python",
   "nbconvert_exporter": "python",
   "pygments_lexer": "ipython3",
   "version": "3.7.10"
  },
  "papermill": {
   "default_parameters": {},
   "duration": 14.750488,
   "end_time": "2021-06-01T10:35:18.079658",
   "environment_variables": {},
   "exception": null,
   "input_path": "__notebook__.ipynb",
   "output_path": "__notebook__.ipynb",
   "parameters": {},
   "start_time": "2021-06-01T10:35:03.329170",
   "version": "2.3.3"
  }
 },
 "nbformat": 4,
 "nbformat_minor": 5
}
