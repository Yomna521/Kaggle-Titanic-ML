{
 "cells": [
  {
   "cell_type": "markdown",
   "id": "second-asbestos",
   "metadata": {
    "papermill": {
     "duration": 0.058876,
     "end_time": "2021-06-02T08:51:34.048910",
     "exception": false,
     "start_time": "2021-06-02T08:51:33.990034",
     "status": "completed"
    },
    "tags": []
   },
   "source": [
    "# Titanic ML Competition"
   ]
  },
  {
   "cell_type": "code",
   "execution_count": 1,
   "id": "oriented-dover",
   "metadata": {
    "execution": {
     "iopub.execute_input": "2021-06-02T08:51:34.156019Z",
     "iopub.status.busy": "2021-06-02T08:51:34.153959Z",
     "iopub.status.idle": "2021-06-02T08:51:35.057173Z",
     "shell.execute_reply": "2021-06-02T08:51:35.056550Z",
     "shell.execute_reply.started": "2021-06-02T08:49:57.239296Z"
    },
    "papermill": {
     "duration": 0.966017,
     "end_time": "2021-06-02T08:51:35.057369",
     "exception": false,
     "start_time": "2021-06-02T08:51:34.091352",
     "status": "completed"
    },
    "tags": []
   },
   "outputs": [
    {
     "name": "stdout",
     "output_type": "stream",
     "text": [
      "/kaggle/input/titanic/train.csv\n",
      "/kaggle/input/titanic/test.csv\n",
      "/kaggle/input/titanic/gender_submission.csv\n"
     ]
    }
   ],
   "source": [
    "import numpy as np # linear algebra\n",
    "import pandas as pd # data processing, CSV file I/O (e.g. pd.read_csv)\n",
    "import matplotlib.pyplot as plt\n",
    "%matplotlib inline\n",
    "import seaborn as sns\n",
    "# Input data files are available in the read-only \"../input/\" directory\n",
    "# For example, running this (by clicking run or pressing Shift+Enter) will list all files under the input directory\n",
    "\n",
    "import os\n",
    "for dirname, _, filenames in os.walk('/kaggle/input'):\n",
    "    for filename in filenames:\n",
    "        print(os.path.join(dirname, filename))"
   ]
  },
  {
   "cell_type": "markdown",
   "id": "sought-batman",
   "metadata": {
    "papermill": {
     "duration": 0.03913,
     "end_time": "2021-06-02T08:51:35.136662",
     "exception": false,
     "start_time": "2021-06-02T08:51:35.097532",
     "status": "completed"
    },
    "tags": []
   },
   "source": [
    "## Exploring Data\n"
   ]
  },
  {
   "cell_type": "code",
   "execution_count": 2,
   "id": "random-projector",
   "metadata": {
    "execution": {
     "iopub.execute_input": "2021-06-02T08:51:35.222164Z",
     "iopub.status.busy": "2021-06-02T08:51:35.221480Z",
     "iopub.status.idle": "2021-06-02T08:51:35.267363Z",
     "shell.execute_reply": "2021-06-02T08:51:35.267918Z",
     "shell.execute_reply.started": "2021-06-02T08:49:57.253009Z"
    },
    "papermill": {
     "duration": 0.091743,
     "end_time": "2021-06-02T08:51:35.268105",
     "exception": false,
     "start_time": "2021-06-02T08:51:35.176362",
     "status": "completed"
    },
    "tags": []
   },
   "outputs": [
    {
     "data": {
      "text/html": [
       "<div>\n",
       "<style scoped>\n",
       "    .dataframe tbody tr th:only-of-type {\n",
       "        vertical-align: middle;\n",
       "    }\n",
       "\n",
       "    .dataframe tbody tr th {\n",
       "        vertical-align: top;\n",
       "    }\n",
       "\n",
       "    .dataframe thead th {\n",
       "        text-align: right;\n",
       "    }\n",
       "</style>\n",
       "<table border=\"1\" class=\"dataframe\">\n",
       "  <thead>\n",
       "    <tr style=\"text-align: right;\">\n",
       "      <th></th>\n",
       "      <th>PassengerId</th>\n",
       "      <th>Survived</th>\n",
       "      <th>Pclass</th>\n",
       "      <th>Name</th>\n",
       "      <th>Sex</th>\n",
       "      <th>Age</th>\n",
       "      <th>SibSp</th>\n",
       "      <th>Parch</th>\n",
       "      <th>Ticket</th>\n",
       "      <th>Fare</th>\n",
       "      <th>Cabin</th>\n",
       "      <th>Embarked</th>\n",
       "    </tr>\n",
       "  </thead>\n",
       "  <tbody>\n",
       "    <tr>\n",
       "      <th>0</th>\n",
       "      <td>1</td>\n",
       "      <td>0</td>\n",
       "      <td>3</td>\n",
       "      <td>Braund, Mr. Owen Harris</td>\n",
       "      <td>male</td>\n",
       "      <td>22.0</td>\n",
       "      <td>1</td>\n",
       "      <td>0</td>\n",
       "      <td>A/5 21171</td>\n",
       "      <td>7.2500</td>\n",
       "      <td>NaN</td>\n",
       "      <td>S</td>\n",
       "    </tr>\n",
       "    <tr>\n",
       "      <th>1</th>\n",
       "      <td>2</td>\n",
       "      <td>1</td>\n",
       "      <td>1</td>\n",
       "      <td>Cumings, Mrs. John Bradley (Florence Briggs Th...</td>\n",
       "      <td>female</td>\n",
       "      <td>38.0</td>\n",
       "      <td>1</td>\n",
       "      <td>0</td>\n",
       "      <td>PC 17599</td>\n",
       "      <td>71.2833</td>\n",
       "      <td>C85</td>\n",
       "      <td>C</td>\n",
       "    </tr>\n",
       "    <tr>\n",
       "      <th>2</th>\n",
       "      <td>3</td>\n",
       "      <td>1</td>\n",
       "      <td>3</td>\n",
       "      <td>Heikkinen, Miss. Laina</td>\n",
       "      <td>female</td>\n",
       "      <td>26.0</td>\n",
       "      <td>0</td>\n",
       "      <td>0</td>\n",
       "      <td>STON/O2. 3101282</td>\n",
       "      <td>7.9250</td>\n",
       "      <td>NaN</td>\n",
       "      <td>S</td>\n",
       "    </tr>\n",
       "    <tr>\n",
       "      <th>3</th>\n",
       "      <td>4</td>\n",
       "      <td>1</td>\n",
       "      <td>1</td>\n",
       "      <td>Futrelle, Mrs. Jacques Heath (Lily May Peel)</td>\n",
       "      <td>female</td>\n",
       "      <td>35.0</td>\n",
       "      <td>1</td>\n",
       "      <td>0</td>\n",
       "      <td>113803</td>\n",
       "      <td>53.1000</td>\n",
       "      <td>C123</td>\n",
       "      <td>S</td>\n",
       "    </tr>\n",
       "    <tr>\n",
       "      <th>4</th>\n",
       "      <td>5</td>\n",
       "      <td>0</td>\n",
       "      <td>3</td>\n",
       "      <td>Allen, Mr. William Henry</td>\n",
       "      <td>male</td>\n",
       "      <td>35.0</td>\n",
       "      <td>0</td>\n",
       "      <td>0</td>\n",
       "      <td>373450</td>\n",
       "      <td>8.0500</td>\n",
       "      <td>NaN</td>\n",
       "      <td>S</td>\n",
       "    </tr>\n",
       "  </tbody>\n",
       "</table>\n",
       "</div>"
      ],
      "text/plain": [
       "   PassengerId  Survived  Pclass  \\\n",
       "0            1         0       3   \n",
       "1            2         1       1   \n",
       "2            3         1       3   \n",
       "3            4         1       1   \n",
       "4            5         0       3   \n",
       "\n",
       "                                                Name     Sex   Age  SibSp  \\\n",
       "0                            Braund, Mr. Owen Harris    male  22.0      1   \n",
       "1  Cumings, Mrs. John Bradley (Florence Briggs Th...  female  38.0      1   \n",
       "2                             Heikkinen, Miss. Laina  female  26.0      0   \n",
       "3       Futrelle, Mrs. Jacques Heath (Lily May Peel)  female  35.0      1   \n",
       "4                           Allen, Mr. William Henry    male  35.0      0   \n",
       "\n",
       "   Parch            Ticket     Fare Cabin Embarked  \n",
       "0      0         A/5 21171   7.2500   NaN        S  \n",
       "1      0          PC 17599  71.2833   C85        C  \n",
       "2      0  STON/O2. 3101282   7.9250   NaN        S  \n",
       "3      0            113803  53.1000  C123        S  \n",
       "4      0            373450   8.0500   NaN        S  "
      ]
     },
     "execution_count": 2,
     "metadata": {},
     "output_type": "execute_result"
    }
   ],
   "source": [
    "train_data = pd.read_csv(\"/kaggle/input/titanic/train.csv\")\n",
    "train_data.head()"
   ]
  },
  {
   "cell_type": "markdown",
   "id": "agreed-ethiopia",
   "metadata": {
    "papermill": {
     "duration": 0.040399,
     "end_time": "2021-06-02T08:51:35.348632",
     "exception": false,
     "start_time": "2021-06-02T08:51:35.308233",
     "status": "completed"
    },
    "tags": []
   },
   "source": [
    "### Check if there's duplicate enteries"
   ]
  },
  {
   "cell_type": "code",
   "execution_count": 3,
   "id": "excited-howard",
   "metadata": {
    "execution": {
     "iopub.execute_input": "2021-06-02T08:51:35.431836Z",
     "iopub.status.busy": "2021-06-02T08:51:35.431149Z",
     "iopub.status.idle": "2021-06-02T08:51:35.444354Z",
     "shell.execute_reply": "2021-06-02T08:51:35.444913Z",
     "shell.execute_reply.started": "2021-06-02T08:49:57.289624Z"
    },
    "papermill": {
     "duration": 0.056419,
     "end_time": "2021-06-02T08:51:35.445080",
     "exception": false,
     "start_time": "2021-06-02T08:51:35.388661",
     "status": "completed"
    },
    "tags": []
   },
   "outputs": [
    {
     "data": {
      "text/plain": [
       "0"
      ]
     },
     "execution_count": 3,
     "metadata": {},
     "output_type": "execute_result"
    }
   ],
   "source": [
    "sum(train_data.duplicated())"
   ]
  },
  {
   "cell_type": "code",
   "execution_count": 4,
   "id": "private-reggae",
   "metadata": {
    "execution": {
     "iopub.execute_input": "2021-06-02T08:51:35.528701Z",
     "iopub.status.busy": "2021-06-02T08:51:35.528027Z",
     "iopub.status.idle": "2021-06-02T08:51:35.553358Z",
     "shell.execute_reply": "2021-06-02T08:51:35.553918Z",
     "shell.execute_reply.started": "2021-06-02T08:49:57.301677Z"
    },
    "papermill": {
     "duration": 0.068986,
     "end_time": "2021-06-02T08:51:35.554094",
     "exception": false,
     "start_time": "2021-06-02T08:51:35.485108",
     "status": "completed"
    },
    "tags": []
   },
   "outputs": [
    {
     "data": {
      "text/html": [
       "<div>\n",
       "<style scoped>\n",
       "    .dataframe tbody tr th:only-of-type {\n",
       "        vertical-align: middle;\n",
       "    }\n",
       "\n",
       "    .dataframe tbody tr th {\n",
       "        vertical-align: top;\n",
       "    }\n",
       "\n",
       "    .dataframe thead th {\n",
       "        text-align: right;\n",
       "    }\n",
       "</style>\n",
       "<table border=\"1\" class=\"dataframe\">\n",
       "  <thead>\n",
       "    <tr style=\"text-align: right;\">\n",
       "      <th></th>\n",
       "      <th>PassengerId</th>\n",
       "      <th>Pclass</th>\n",
       "      <th>Name</th>\n",
       "      <th>Sex</th>\n",
       "      <th>Age</th>\n",
       "      <th>SibSp</th>\n",
       "      <th>Parch</th>\n",
       "      <th>Ticket</th>\n",
       "      <th>Fare</th>\n",
       "      <th>Cabin</th>\n",
       "      <th>Embarked</th>\n",
       "    </tr>\n",
       "  </thead>\n",
       "  <tbody>\n",
       "    <tr>\n",
       "      <th>0</th>\n",
       "      <td>892</td>\n",
       "      <td>3</td>\n",
       "      <td>Kelly, Mr. James</td>\n",
       "      <td>male</td>\n",
       "      <td>34.5</td>\n",
       "      <td>0</td>\n",
       "      <td>0</td>\n",
       "      <td>330911</td>\n",
       "      <td>7.8292</td>\n",
       "      <td>NaN</td>\n",
       "      <td>Q</td>\n",
       "    </tr>\n",
       "    <tr>\n",
       "      <th>1</th>\n",
       "      <td>893</td>\n",
       "      <td>3</td>\n",
       "      <td>Wilkes, Mrs. James (Ellen Needs)</td>\n",
       "      <td>female</td>\n",
       "      <td>47.0</td>\n",
       "      <td>1</td>\n",
       "      <td>0</td>\n",
       "      <td>363272</td>\n",
       "      <td>7.0000</td>\n",
       "      <td>NaN</td>\n",
       "      <td>S</td>\n",
       "    </tr>\n",
       "    <tr>\n",
       "      <th>2</th>\n",
       "      <td>894</td>\n",
       "      <td>2</td>\n",
       "      <td>Myles, Mr. Thomas Francis</td>\n",
       "      <td>male</td>\n",
       "      <td>62.0</td>\n",
       "      <td>0</td>\n",
       "      <td>0</td>\n",
       "      <td>240276</td>\n",
       "      <td>9.6875</td>\n",
       "      <td>NaN</td>\n",
       "      <td>Q</td>\n",
       "    </tr>\n",
       "    <tr>\n",
       "      <th>3</th>\n",
       "      <td>895</td>\n",
       "      <td>3</td>\n",
       "      <td>Wirz, Mr. Albert</td>\n",
       "      <td>male</td>\n",
       "      <td>27.0</td>\n",
       "      <td>0</td>\n",
       "      <td>0</td>\n",
       "      <td>315154</td>\n",
       "      <td>8.6625</td>\n",
       "      <td>NaN</td>\n",
       "      <td>S</td>\n",
       "    </tr>\n",
       "    <tr>\n",
       "      <th>4</th>\n",
       "      <td>896</td>\n",
       "      <td>3</td>\n",
       "      <td>Hirvonen, Mrs. Alexander (Helga E Lindqvist)</td>\n",
       "      <td>female</td>\n",
       "      <td>22.0</td>\n",
       "      <td>1</td>\n",
       "      <td>1</td>\n",
       "      <td>3101298</td>\n",
       "      <td>12.2875</td>\n",
       "      <td>NaN</td>\n",
       "      <td>S</td>\n",
       "    </tr>\n",
       "  </tbody>\n",
       "</table>\n",
       "</div>"
      ],
      "text/plain": [
       "   PassengerId  Pclass                                          Name     Sex  \\\n",
       "0          892       3                              Kelly, Mr. James    male   \n",
       "1          893       3              Wilkes, Mrs. James (Ellen Needs)  female   \n",
       "2          894       2                     Myles, Mr. Thomas Francis    male   \n",
       "3          895       3                              Wirz, Mr. Albert    male   \n",
       "4          896       3  Hirvonen, Mrs. Alexander (Helga E Lindqvist)  female   \n",
       "\n",
       "    Age  SibSp  Parch   Ticket     Fare Cabin Embarked  \n",
       "0  34.5      0      0   330911   7.8292   NaN        Q  \n",
       "1  47.0      1      0   363272   7.0000   NaN        S  \n",
       "2  62.0      0      0   240276   9.6875   NaN        Q  \n",
       "3  27.0      0      0   315154   8.6625   NaN        S  \n",
       "4  22.0      1      1  3101298  12.2875   NaN        S  "
      ]
     },
     "execution_count": 4,
     "metadata": {},
     "output_type": "execute_result"
    }
   ],
   "source": [
    "test_data = pd.read_csv(\"/kaggle/input/titanic/test.csv\")\n",
    "test_data.head()"
   ]
  },
  {
   "cell_type": "markdown",
   "id": "legitimate-contrast",
   "metadata": {
    "papermill": {
     "duration": 0.040649,
     "end_time": "2021-06-02T08:51:35.635718",
     "exception": false,
     "start_time": "2021-06-02T08:51:35.595069",
     "status": "completed"
    },
    "tags": []
   },
   "source": [
    "## Clean Data"
   ]
  },
  {
   "cell_type": "code",
   "execution_count": 5,
   "id": "charming-vacuum",
   "metadata": {
    "execution": {
     "iopub.execute_input": "2021-06-02T08:51:35.720853Z",
     "iopub.status.busy": "2021-06-02T08:51:35.720156Z",
     "iopub.status.idle": "2021-06-02T08:51:35.733450Z",
     "shell.execute_reply": "2021-06-02T08:51:35.732893Z",
     "shell.execute_reply.started": "2021-06-02T08:49:57.328300Z"
    },
    "papermill": {
     "duration": 0.056942,
     "end_time": "2021-06-02T08:51:35.733600",
     "exception": false,
     "start_time": "2021-06-02T08:51:35.676658",
     "status": "completed"
    },
    "tags": []
   },
   "outputs": [
    {
     "data": {
      "text/plain": [
       "<bound method NDFrame.head of      PassengerId  Survived  Pclass     Sex   Age Embarked\n",
       "0              1         0       3    male  22.0        S\n",
       "1              2         1       1  female  38.0        C\n",
       "2              3         1       3  female  26.0        S\n",
       "3              4         1       1  female  35.0        S\n",
       "4              5         0       3    male  35.0        S\n",
       "..           ...       ...     ...     ...   ...      ...\n",
       "886          887         0       2    male  27.0        S\n",
       "887          888         1       1  female  19.0        S\n",
       "888          889         0       3  female   NaN        S\n",
       "889          890         1       1    male  26.0        C\n",
       "890          891         0       3    male  32.0        Q\n",
       "\n",
       "[891 rows x 6 columns]>"
      ]
     },
     "execution_count": 5,
     "metadata": {},
     "output_type": "execute_result"
    }
   ],
   "source": [
    "train_data.drop(['SibSp','Parch','Fare','Cabin','Ticket', 'Name'], axis = 1, inplace = True)\n",
    "train_data.head"
   ]
  },
  {
   "cell_type": "code",
   "execution_count": 6,
   "id": "white-commander",
   "metadata": {
    "execution": {
     "iopub.execute_input": "2021-06-02T08:51:35.827602Z",
     "iopub.status.busy": "2021-06-02T08:51:35.826881Z",
     "iopub.status.idle": "2021-06-02T08:51:35.848477Z",
     "shell.execute_reply": "2021-06-02T08:51:35.847944Z",
     "shell.execute_reply.started": "2021-06-02T08:49:57.343504Z"
    },
    "papermill": {
     "duration": 0.072055,
     "end_time": "2021-06-02T08:51:35.848627",
     "exception": false,
     "start_time": "2021-06-02T08:51:35.776572",
     "status": "completed"
    },
    "tags": []
   },
   "outputs": [
    {
     "data": {
      "text/html": [
       "<div>\n",
       "<style scoped>\n",
       "    .dataframe tbody tr th:only-of-type {\n",
       "        vertical-align: middle;\n",
       "    }\n",
       "\n",
       "    .dataframe tbody tr th {\n",
       "        vertical-align: top;\n",
       "    }\n",
       "\n",
       "    .dataframe thead th {\n",
       "        text-align: right;\n",
       "    }\n",
       "</style>\n",
       "<table border=\"1\" class=\"dataframe\">\n",
       "  <thead>\n",
       "    <tr style=\"text-align: right;\">\n",
       "      <th></th>\n",
       "      <th>PassengerId</th>\n",
       "      <th>Survived</th>\n",
       "      <th>Pclass</th>\n",
       "      <th>Age</th>\n",
       "    </tr>\n",
       "  </thead>\n",
       "  <tbody>\n",
       "    <tr>\n",
       "      <th>count</th>\n",
       "      <td>891.000000</td>\n",
       "      <td>891.000000</td>\n",
       "      <td>891.000000</td>\n",
       "      <td>714.000000</td>\n",
       "    </tr>\n",
       "    <tr>\n",
       "      <th>mean</th>\n",
       "      <td>446.000000</td>\n",
       "      <td>0.383838</td>\n",
       "      <td>2.308642</td>\n",
       "      <td>29.699118</td>\n",
       "    </tr>\n",
       "    <tr>\n",
       "      <th>std</th>\n",
       "      <td>257.353842</td>\n",
       "      <td>0.486592</td>\n",
       "      <td>0.836071</td>\n",
       "      <td>14.526497</td>\n",
       "    </tr>\n",
       "    <tr>\n",
       "      <th>min</th>\n",
       "      <td>1.000000</td>\n",
       "      <td>0.000000</td>\n",
       "      <td>1.000000</td>\n",
       "      <td>0.420000</td>\n",
       "    </tr>\n",
       "    <tr>\n",
       "      <th>25%</th>\n",
       "      <td>223.500000</td>\n",
       "      <td>0.000000</td>\n",
       "      <td>2.000000</td>\n",
       "      <td>20.125000</td>\n",
       "    </tr>\n",
       "    <tr>\n",
       "      <th>50%</th>\n",
       "      <td>446.000000</td>\n",
       "      <td>0.000000</td>\n",
       "      <td>3.000000</td>\n",
       "      <td>28.000000</td>\n",
       "    </tr>\n",
       "    <tr>\n",
       "      <th>75%</th>\n",
       "      <td>668.500000</td>\n",
       "      <td>1.000000</td>\n",
       "      <td>3.000000</td>\n",
       "      <td>38.000000</td>\n",
       "    </tr>\n",
       "    <tr>\n",
       "      <th>max</th>\n",
       "      <td>891.000000</td>\n",
       "      <td>1.000000</td>\n",
       "      <td>3.000000</td>\n",
       "      <td>80.000000</td>\n",
       "    </tr>\n",
       "  </tbody>\n",
       "</table>\n",
       "</div>"
      ],
      "text/plain": [
       "       PassengerId    Survived      Pclass         Age\n",
       "count   891.000000  891.000000  891.000000  714.000000\n",
       "mean    446.000000    0.383838    2.308642   29.699118\n",
       "std     257.353842    0.486592    0.836071   14.526497\n",
       "min       1.000000    0.000000    1.000000    0.420000\n",
       "25%     223.500000    0.000000    2.000000   20.125000\n",
       "50%     446.000000    0.000000    3.000000   28.000000\n",
       "75%     668.500000    1.000000    3.000000   38.000000\n",
       "max     891.000000    1.000000    3.000000   80.000000"
      ]
     },
     "execution_count": 6,
     "metadata": {},
     "output_type": "execute_result"
    }
   ],
   "source": [
    "train_data.describe()"
   ]
  },
  {
   "cell_type": "markdown",
   "id": "selected-swedish",
   "metadata": {
    "papermill": {
     "duration": 0.042919,
     "end_time": "2021-06-02T08:51:35.934400",
     "exception": false,
     "start_time": "2021-06-02T08:51:35.891481",
     "status": "completed"
    },
    "tags": []
   },
   "source": [
    "## Explore patterns"
   ]
  },
  {
   "cell_type": "markdown",
   "id": "solved-disney",
   "metadata": {
    "papermill": {
     "duration": 0.04181,
     "end_time": "2021-06-02T08:51:36.018708",
     "exception": false,
     "start_time": "2021-06-02T08:51:35.976898",
     "status": "completed"
    },
    "tags": []
   },
   "source": [
    "### Survival based on gender"
   ]
  },
  {
   "cell_type": "code",
   "execution_count": 7,
   "id": "split-municipality",
   "metadata": {
    "execution": {
     "iopub.execute_input": "2021-06-02T08:51:36.111977Z",
     "iopub.status.busy": "2021-06-02T08:51:36.111195Z",
     "iopub.status.idle": "2021-06-02T08:51:36.251916Z",
     "shell.execute_reply": "2021-06-02T08:51:36.251332Z",
     "shell.execute_reply.started": "2021-06-02T08:49:57.378009Z"
    },
    "papermill": {
     "duration": 0.191401,
     "end_time": "2021-06-02T08:51:36.252058",
     "exception": false,
     "start_time": "2021-06-02T08:51:36.060657",
     "status": "completed"
    },
    "tags": []
   },
   "outputs": [
    {
     "data": {
      "image/png": "[encoded data removed]",
      "text/plain": [
       "<Figure size 432x288 with 1 Axes>"
      ]
     },
     "metadata": {
      "needs_background": "light"
     },
     "output_type": "display_data"
    }
   ],
   "source": [
    "sns.countplot(x='Sex', data=train_data);"
   ]
  },
  {
   "cell_type": "markdown",
   "id": "affecting-memorial",
   "metadata": {
    "papermill": {
     "duration": 0.042116,
     "end_time": "2021-06-02T08:51:36.336796",
     "exception": false,
     "start_time": "2021-06-02T08:51:36.294680",
     "status": "completed"
    },
    "tags": []
   },
   "source": [
    "The number of males aboard is almost double the number of females."
   ]
  },
  {
   "cell_type": "code",
   "execution_count": 8,
   "id": "normal-screw",
   "metadata": {
    "execution": {
     "iopub.execute_input": "2021-06-02T08:51:36.429619Z",
     "iopub.status.busy": "2021-06-02T08:51:36.428914Z",
     "iopub.status.idle": "2021-06-02T08:51:36.431631Z",
     "shell.execute_reply": "2021-06-02T08:51:36.432230Z",
     "shell.execute_reply.started": "2021-06-02T08:49:57.493885Z"
    },
    "papermill": {
     "duration": 0.053309,
     "end_time": "2021-06-02T08:51:36.432447",
     "exception": false,
     "start_time": "2021-06-02T08:51:36.379138",
     "status": "completed"
    },
    "tags": []
   },
   "outputs": [
    {
     "name": "stdout",
     "output_type": "stream",
     "text": [
      "74.2% of women survived\n"
     ]
    }
   ],
   "source": [
    "women = train_data.loc[train_data.Sex == 'female'][\"Survived\"]\n",
    "rate_women = round(sum(women)/len(women)*100 , 2)\n",
    "\n",
    "print(\"{}% of women survived\".format(rate_women))"
   ]
  },
  {
   "cell_type": "code",
   "execution_count": 9,
   "id": "regular-charge",
   "metadata": {
    "execution": {
     "iopub.execute_input": "2021-06-02T08:51:36.521196Z",
     "iopub.status.busy": "2021-06-02T08:51:36.520543Z",
     "iopub.status.idle": "2021-06-02T08:51:36.528439Z",
     "shell.execute_reply": "2021-06-02T08:51:36.527835Z",
     "shell.execute_reply.started": "2021-06-02T08:49:57.504242Z"
    },
    "papermill": {
     "duration": 0.053331,
     "end_time": "2021-06-02T08:51:36.528579",
     "exception": false,
     "start_time": "2021-06-02T08:51:36.475248",
     "status": "completed"
    },
    "tags": []
   },
   "outputs": [
    {
     "name": "stdout",
     "output_type": "stream",
     "text": [
      "18.89% of men survived\n"
     ]
    }
   ],
   "source": [
    "men = train_data.loc[train_data.Sex == 'male'][\"Survived\"]\n",
    "rate_men = round(sum(men)/len(men)*100, 2)\n",
    "\n",
    "print(\"{}% of men survived\".format(rate_men))"
   ]
  },
  {
   "cell_type": "code",
   "execution_count": 10,
   "id": "interested-seminar",
   "metadata": {
    "execution": {
     "iopub.execute_input": "2021-06-02T08:51:36.620108Z",
     "iopub.status.busy": "2021-06-02T08:51:36.619380Z",
     "iopub.status.idle": "2021-06-02T08:51:36.959707Z",
     "shell.execute_reply": "2021-06-02T08:51:36.958697Z",
     "shell.execute_reply.started": "2021-06-02T08:49:57.519349Z"
    },
    "papermill": {
     "duration": 0.388383,
     "end_time": "2021-06-02T08:51:36.959860",
     "exception": false,
     "start_time": "2021-06-02T08:51:36.571477",
     "status": "completed"
    },
    "tags": []
   },
   "outputs": [
    {
     "data": {
      "image/png": "[encoded data removed]",
      "text/plain": [
       "<Figure size 720x360 with 2 Axes>"
      ]
     },
     "metadata": {
      "needs_background": "light"
     },
     "output_type": "display_data"
    }
   ],
   "source": [
    "sns.catplot(x='Survived', col='Sex', kind='count', data=train_data);"
   ]
  },
  {
   "cell_type": "markdown",
   "id": "affected-greek",
   "metadata": {
    "papermill": {
     "duration": 0.043601,
     "end_time": "2021-06-02T08:51:37.048154",
     "exception": false,
     "start_time": "2021-06-02T08:51:37.004553",
     "status": "completed"
    },
    "tags": []
   },
   "source": [
    "#### Conclusion\n",
    "Women have higher chances of survival"
   ]
  },
  {
   "cell_type": "markdown",
   "id": "recorded-shoot",
   "metadata": {
    "papermill": {
     "duration": 0.044629,
     "end_time": "2021-06-02T08:51:37.136802",
     "exception": false,
     "start_time": "2021-06-02T08:51:37.092173",
     "status": "completed"
    },
    "tags": []
   },
   "source": [
    "### Survival based on ticket class"
   ]
  },
  {
   "cell_type": "code",
   "execution_count": 11,
   "id": "stainless-founder",
   "metadata": {
    "execution": {
     "iopub.execute_input": "2021-06-02T08:51:37.230641Z",
     "iopub.status.busy": "2021-06-02T08:51:37.229791Z",
     "iopub.status.idle": "2021-06-02T08:51:37.342268Z",
     "shell.execute_reply": "2021-06-02T08:51:37.341593Z",
     "shell.execute_reply.started": "2021-06-02T08:49:57.858904Z"
    },
    "papermill": {
     "duration": 0.161691,
     "end_time": "2021-06-02T08:51:37.342432",
     "exception": false,
     "start_time": "2021-06-02T08:51:37.180741",
     "status": "completed"
    },
    "tags": []
   },
   "outputs": [
    {
     "data": {
      "image/png": "[encoded data removed]",
      "text/plain": [
       "<Figure size 432x288 with 1 Axes>"
      ]
     },
     "metadata": {
      "needs_background": "light"
     },
     "output_type": "display_data"
    }
   ],
   "source": [
    "sns.countplot(x='Pclass', data=train_data);"
   ]
  },
  {
   "cell_type": "code",
   "execution_count": 12,
   "id": "arabic-wealth",
   "metadata": {
    "execution": {
     "iopub.execute_input": "2021-06-02T08:51:37.437688Z",
     "iopub.status.busy": "2021-06-02T08:51:37.436983Z",
     "iopub.status.idle": "2021-06-02T08:51:37.458553Z",
     "shell.execute_reply": "2021-06-02T08:51:37.457749Z",
     "shell.execute_reply.started": "2021-06-02T08:49:57.974782Z"
    },
    "papermill": {
     "duration": 0.071938,
     "end_time": "2021-06-02T08:51:37.458757",
     "exception": false,
     "start_time": "2021-06-02T08:51:37.386819",
     "status": "completed"
    },
    "tags": []
   },
   "outputs": [
    {
     "name": "stdout",
     "output_type": "stream",
     "text": [
      "62.96% of the first class passengers survived\n"
     ]
    }
   ],
   "source": [
    "first_class = train_data.loc[train_data.Pclass == 1][\"Survived\"]\n",
    "rate_first = round(sum(first_class)/len(first_class)*100 , 2)\n",
    "\n",
    "print(\"{}% of the first class passengers survived\".format(rate_first))"
   ]
  },
  {
   "cell_type": "code",
   "execution_count": 13,
   "id": "crude-rough",
   "metadata": {
    "execution": {
     "iopub.execute_input": "2021-06-02T08:51:37.552050Z",
     "iopub.status.busy": "2021-06-02T08:51:37.551365Z",
     "iopub.status.idle": "2021-06-02T08:51:37.559428Z",
     "shell.execute_reply": "2021-06-02T08:51:37.558887Z",
     "shell.execute_reply.started": "2021-06-02T08:49:57.983006Z"
    },
    "papermill": {
     "duration": 0.055093,
     "end_time": "2021-06-02T08:51:37.559583",
     "exception": false,
     "start_time": "2021-06-02T08:51:37.504490",
     "status": "completed"
    },
    "tags": []
   },
   "outputs": [
    {
     "name": "stdout",
     "output_type": "stream",
     "text": [
      "47.28% of the second class passengers survived\n"
     ]
    }
   ],
   "source": [
    "sec_class = train_data.loc[train_data.Pclass == 2][\"Survived\"]\n",
    "rate_sec = round(sum(sec_class)/len(sec_class)*100 , 2)\n",
    "\n",
    "print(\"{}% of the second class passengers survived\".format(rate_sec))"
   ]
  },
  {
   "cell_type": "code",
   "execution_count": 14,
   "id": "danish-beach",
   "metadata": {
    "execution": {
     "iopub.execute_input": "2021-06-02T08:51:37.657132Z",
     "iopub.status.busy": "2021-06-02T08:51:37.656457Z",
     "iopub.status.idle": "2021-06-02T08:51:37.660231Z",
     "shell.execute_reply": "2021-06-02T08:51:37.659614Z",
     "shell.execute_reply.started": "2021-06-02T08:49:58.000307Z"
    },
    "papermill": {
     "duration": 0.055655,
     "end_time": "2021-06-02T08:51:37.660393",
     "exception": false,
     "start_time": "2021-06-02T08:51:37.604738",
     "status": "completed"
    },
    "tags": []
   },
   "outputs": [
    {
     "name": "stdout",
     "output_type": "stream",
     "text": [
      "24.24% of the third class passengers survived\n"
     ]
    }
   ],
   "source": [
    "third_class = train_data.loc[train_data.Pclass == 3][\"Survived\"]\n",
    "rate_third = round(sum(third_class)/len(third_class)*100 , 2)\n",
    "\n",
    "print(\"{}% of the third class passengers survived\".format(rate_third))"
   ]
  },
  {
   "cell_type": "code",
   "execution_count": 15,
   "id": "anticipated-platinum",
   "metadata": {
    "execution": {
     "iopub.execute_input": "2021-06-02T08:51:37.755464Z",
     "iopub.status.busy": "2021-06-02T08:51:37.754485Z",
     "iopub.status.idle": "2021-06-02T08:51:38.240541Z",
     "shell.execute_reply": "2021-06-02T08:51:38.241058Z",
     "shell.execute_reply.started": "2021-06-02T08:49:58.016048Z"
    },
    "papermill": {
     "duration": 0.535582,
     "end_time": "2021-06-02T08:51:38.241225",
     "exception": false,
     "start_time": "2021-06-02T08:51:37.705643",
     "status": "completed"
    },
    "tags": []
   },
   "outputs": [
    {
     "data": {
      "image/png": "[encoded data removed]",
      "text/plain": [
       "<Figure size 1080x360 with 3 Axes>"
      ]
     },
     "metadata": {
      "needs_background": "light"
     },
     "output_type": "display_data"
    }
   ],
   "source": [
    "sns.catplot(x='Survived', col='Pclass', kind='count', data=train_data);"
   ]
  },
  {
   "cell_type": "markdown",
   "id": "classified-hawaii",
   "metadata": {
    "papermill": {
     "duration": 0.046796,
     "end_time": "2021-06-02T08:51:38.335662",
     "exception": false,
     "start_time": "2021-06-02T08:51:38.288866",
     "status": "completed"
    },
    "tags": []
   },
   "source": [
    "#### Conclusion\n",
    "First class passengers had better chances of survival, followed by second class passenger, then third class passengers"
   ]
  },
  {
   "cell_type": "markdown",
   "id": "international-amazon",
   "metadata": {
    "papermill": {
     "duration": 0.045665,
     "end_time": "2021-06-02T08:51:38.427932",
     "exception": false,
     "start_time": "2021-06-02T08:51:38.382267",
     "status": "completed"
    },
    "tags": []
   },
   "source": [
    "### Survival based on embarked station"
   ]
  },
  {
   "cell_type": "code",
   "execution_count": 16,
   "id": "played-third",
   "metadata": {
    "execution": {
     "iopub.execute_input": "2021-06-02T08:51:38.524821Z",
     "iopub.status.busy": "2021-06-02T08:51:38.523791Z",
     "iopub.status.idle": "2021-06-02T08:51:38.641456Z",
     "shell.execute_reply": "2021-06-02T08:51:38.641964Z",
     "shell.execute_reply.started": "2021-06-02T08:49:58.519854Z"
    },
    "papermill": {
     "duration": 0.167705,
     "end_time": "2021-06-02T08:51:38.642133",
     "exception": false,
     "start_time": "2021-06-02T08:51:38.474428",
     "status": "completed"
    },
    "tags": []
   },
   "outputs": [
    {
     "data": {
      "image/png": "[encoded data removed]",
      "text/plain": [
       "<Figure size 432x288 with 1 Axes>"
      ]
     },
     "metadata": {
      "needs_background": "light"
     },
     "output_type": "display_data"
    }
   ],
   "source": [
    "sns.countplot(x='Embarked', data=train_data);"
   ]
  },
  {
   "cell_type": "code",
   "execution_count": 17,
   "id": "expanded-superintendent",
   "metadata": {
    "execution": {
     "iopub.execute_input": "2021-06-02T08:51:38.740122Z",
     "iopub.status.busy": "2021-06-02T08:51:38.739123Z",
     "iopub.status.idle": "2021-06-02T08:51:38.747532Z",
     "shell.execute_reply": "2021-06-02T08:51:38.748196Z",
     "shell.execute_reply.started": "2021-06-02T08:49:58.640070Z"
    },
    "papermill": {
     "duration": 0.059266,
     "end_time": "2021-06-02T08:51:38.748446",
     "exception": false,
     "start_time": "2021-06-02T08:51:38.689180",
     "status": "completed"
    },
    "tags": []
   },
   "outputs": [
    {
     "name": "stdout",
     "output_type": "stream",
     "text": [
      "55.36% of the passengers embarked from Cherbourg survived\n"
     ]
    }
   ],
   "source": [
    "Cherbourg = train_data.loc[train_data.Embarked == 'C'][\"Survived\"]\n",
    "rate_C = round(sum(Cherbourg)/len(Cherbourg)*100 , 2)\n",
    "\n",
    "print(\"{}% of the passengers embarked from Cherbourg survived\".format(rate_C))"
   ]
  },
  {
   "cell_type": "code",
   "execution_count": 18,
   "id": "monthly-nevada",
   "metadata": {
    "execution": {
     "iopub.execute_input": "2021-06-02T08:51:38.852507Z",
     "iopub.status.busy": "2021-06-02T08:51:38.851506Z",
     "iopub.status.idle": "2021-06-02T08:51:38.854880Z",
     "shell.execute_reply": "2021-06-02T08:51:38.855590Z",
     "shell.execute_reply.started": "2021-06-02T08:49:58.649122Z"
    },
    "papermill": {
     "duration": 0.059109,
     "end_time": "2021-06-02T08:51:38.855827",
     "exception": false,
     "start_time": "2021-06-02T08:51:38.796718",
     "status": "completed"
    },
    "tags": []
   },
   "outputs": [
    {
     "name": "stdout",
     "output_type": "stream",
     "text": [
      "38.96% of the passengers embarked from Queenstown survived\n"
     ]
    }
   ],
   "source": [
    "Queenstown = train_data.loc[train_data.Embarked == 'Q'][\"Survived\"]\n",
    "rate_Q = round(sum(Queenstown)/len(Queenstown)*100 , 2)\n",
    "\n",
    "print(\"{}% of the passengers embarked from Queenstown survived\".format(rate_Q))"
   ]
  },
  {
   "cell_type": "code",
   "execution_count": 19,
   "id": "balanced-witness",
   "metadata": {
    "execution": {
     "iopub.execute_input": "2021-06-02T08:51:38.959577Z",
     "iopub.status.busy": "2021-06-02T08:51:38.958898Z",
     "iopub.status.idle": "2021-06-02T08:51:38.963490Z",
     "shell.execute_reply": "2021-06-02T08:51:38.962649Z",
     "shell.execute_reply.started": "2021-06-02T08:49:58.665083Z"
    },
    "papermill": {
     "duration": 0.058662,
     "end_time": "2021-06-02T08:51:38.963686",
     "exception": false,
     "start_time": "2021-06-02T08:51:38.905024",
     "status": "completed"
    },
    "tags": []
   },
   "outputs": [
    {
     "name": "stdout",
     "output_type": "stream",
     "text": [
      "33.7% of the passengers embarked from Southampton survived\n"
     ]
    }
   ],
   "source": [
    "Southampton = train_data.loc[train_data.Embarked == 'S'][\"Survived\"]\n",
    "rate_S = round(sum(Southampton)/len(Southampton)*100 , 2)\n",
    "\n",
    "print(\"{}% of the passengers embarked from Southampton survived\".format(rate_S))"
   ]
  },
  {
   "cell_type": "code",
   "execution_count": 20,
   "id": "express-flash",
   "metadata": {
    "execution": {
     "iopub.execute_input": "2021-06-02T08:51:39.066960Z",
     "iopub.status.busy": "2021-06-02T08:51:39.065443Z",
     "iopub.status.idle": "2021-06-02T08:51:39.671961Z",
     "shell.execute_reply": "2021-06-02T08:51:39.671394Z",
     "shell.execute_reply.started": "2021-06-02T08:49:58.680297Z"
    },
    "papermill": {
     "duration": 0.659824,
     "end_time": "2021-06-02T08:51:39.672098",
     "exception": false,
     "start_time": "2021-06-02T08:51:39.012274",
     "status": "completed"
    },
    "tags": []
   },
   "outputs": [
    {
     "data": {
      "image/png": "[encoded data removed]",
      "text/plain": [
       "<Figure size 1080x360 with 3 Axes>"
      ]
     },
     "metadata": {
      "needs_background": "light"
     },
     "output_type": "display_data"
    }
   ],
   "source": [
    "sns.catplot(x='Survived', col='Embarked', kind='count', data=train_data);"
   ]
  },
  {
   "cell_type": "markdown",
   "id": "mineral-steel",
   "metadata": {
    "papermill": {
     "duration": 0.048822,
     "end_time": "2021-06-02T08:51:39.769367",
     "exception": false,
     "start_time": "2021-06-02T08:51:39.720545",
     "status": "completed"
    },
    "tags": []
   },
   "source": [
    "#### Conclusion\n",
    "Passengers embarked from Cherbourg had better survival rates, followed by Queenstown, then Southampton"
   ]
  },
  {
   "cell_type": "markdown",
   "id": "attempted-spoke",
   "metadata": {
    "papermill": {
     "duration": 0.048742,
     "end_time": "2021-06-02T08:51:39.866297",
     "exception": false,
     "start_time": "2021-06-02T08:51:39.817555",
     "status": "completed"
    },
    "tags": []
   },
   "source": [
    "### Survival based on age group\n",
    "Consider 4 age groups:\n",
    "* 0-18: Children\n",
    "* 18-35: Young Adults\n",
    "* 35-50: Middle Age\n",
    "* 50-80: Elders"
   ]
  },
  {
   "cell_type": "code",
   "execution_count": 21,
   "id": "efficient-leader",
   "metadata": {
    "execution": {
     "iopub.execute_input": "2021-06-02T08:51:40.102117Z",
     "iopub.status.busy": "2021-06-02T08:51:40.101050Z",
     "iopub.status.idle": "2021-06-02T08:51:40.366519Z",
     "shell.execute_reply": "2021-06-02T08:51:40.365801Z",
     "shell.execute_reply.started": "2021-06-02T08:49:59.344208Z"
    },
    "papermill": {
     "duration": 0.356405,
     "end_time": "2021-06-02T08:51:40.366677",
     "exception": false,
     "start_time": "2021-06-02T08:51:40.010272",
     "status": "completed"
    },
    "tags": []
   },
   "outputs": [
    {
     "data": {
      "image/png": "[encoded data removed]",
      "text/plain": [
       "<Figure size 360x360 with 1 Axes>"
      ]
     },
     "metadata": {
      "needs_background": "light"
     },
     "output_type": "display_data"
    }
   ],
   "source": [
    "sns.displot(train_data.Age, kde=False);"
   ]
  },
  {
   "cell_type": "markdown",
   "id": "rough-checkout",
   "metadata": {
    "papermill": {
     "duration": 0.048293,
     "end_time": "2021-06-02T08:51:40.464545",
     "exception": false,
     "start_time": "2021-06-02T08:51:40.416252",
     "status": "completed"
    },
    "tags": []
   },
   "source": [
    "From the figure above we can see that the passenger count: Young Adults > Middle Age > Children > Elders"
   ]
  },
  {
   "cell_type": "markdown",
   "id": "corporate-visit",
   "metadata": {
    "papermill": {
     "duration": 0.048559,
     "end_time": "2021-06-02T08:51:40.561752",
     "exception": false,
     "start_time": "2021-06-02T08:51:40.513193",
     "status": "completed"
    },
    "tags": []
   },
   "source": [
    "Next step is to catagorize the age column into the different age groups and NaNs<br>"
   ]
  },
  {
   "cell_type": "code",
   "execution_count": 22,
   "id": "muslim-honolulu",
   "metadata": {
    "execution": {
     "iopub.execute_input": "2021-06-02T08:51:40.675970Z",
     "iopub.status.busy": "2021-06-02T08:51:40.666515Z",
     "iopub.status.idle": "2021-06-02T08:51:40.680460Z",
     "shell.execute_reply": "2021-06-02T08:51:40.679909Z",
     "shell.execute_reply.started": "2021-06-02T08:49:59.654089Z"
    },
    "papermill": {
     "duration": 0.070117,
     "end_time": "2021-06-02T08:51:40.680612",
     "exception": false,
     "start_time": "2021-06-02T08:51:40.610495",
     "status": "completed"
    },
    "tags": []
   },
   "outputs": [
    {
     "name": "stdout",
     "output_type": "stream",
     "text": [
      "     PassengerId  Survived  Pclass     Sex          Age Embarked\n",
      "0              1         0       3    male  Young Adult        S\n",
      "1              2         1       1  female  Middle Ager        C\n",
      "2              3         1       3  female  Young Adult        S\n",
      "3              4         1       1  female  Middle Ager        S\n",
      "4              5         0       3    male  Middle Ager        S\n",
      "..           ...       ...     ...     ...          ...      ...\n",
      "886          887         0       2    male  Young Adult        S\n",
      "887          888         1       1  female  Young Adult        S\n",
      "888          889         0       3  female          NaN        S\n",
      "889          890         1       1    male  Young Adult        C\n",
      "890          891         0       3    male  Young Adult        Q\n",
      "\n",
      "[891 rows x 6 columns]\n"
     ]
    }
   ],
   "source": [
    "train_data['Age'].replace(np.NAN, -1, inplace=True)\n",
    "bins = [-1,0,18,35,50,80]\n",
    "labels = ['NaN','Child','Young Adult','Middle Ager','Elder']\n",
    "train_data['Age'] = pd.cut(train_data['Age'], bins=bins, labels=labels, right=False)\n",
    "print (train_data)"
   ]
  },
  {
   "cell_type": "code",
   "execution_count": 23,
   "id": "dried-accent",
   "metadata": {
    "execution": {
     "iopub.execute_input": "2021-06-02T08:51:40.806642Z",
     "iopub.status.busy": "2021-06-02T08:51:40.790672Z",
     "iopub.status.idle": "2021-06-02T08:51:40.927056Z",
     "shell.execute_reply": "2021-06-02T08:51:40.926439Z",
     "shell.execute_reply.started": "2021-06-02T08:49:59.672318Z"
    },
    "papermill": {
     "duration": 0.197192,
     "end_time": "2021-06-02T08:51:40.927206",
     "exception": false,
     "start_time": "2021-06-02T08:51:40.730014",
     "status": "completed"
    },
    "tags": []
   },
   "outputs": [
    {
     "data": {
      "image/png": "[encoded data removed]",
      "text/plain": [
       "<Figure size 432x288 with 1 Axes>"
      ]
     },
     "metadata": {
      "needs_background": "light"
     },
     "output_type": "display_data"
    }
   ],
   "source": [
    "sns.countplot(x='Age', data=train_data);"
   ]
  },
  {
   "cell_type": "code",
   "execution_count": 24,
   "id": "conceptual-penny",
   "metadata": {
    "execution": {
     "iopub.execute_input": "2021-06-02T08:51:41.039212Z",
     "iopub.status.busy": "2021-06-02T08:51:41.038427Z",
     "iopub.status.idle": "2021-06-02T08:51:41.042199Z",
     "shell.execute_reply": "2021-06-02T08:51:41.042742Z",
     "shell.execute_reply.started": "2021-06-02T08:49:59.810533Z"
    },
    "papermill": {
     "duration": 0.064549,
     "end_time": "2021-06-02T08:51:41.042916",
     "exception": false,
     "start_time": "2021-06-02T08:51:40.978367",
     "status": "completed"
    },
    "tags": []
   },
   "outputs": [
    {
     "name": "stdout",
     "output_type": "stream",
     "text": [
      "53.98% of children survived\n"
     ]
    }
   ],
   "source": [
    "child = train_data.loc[train_data['Age'] == 'Child'][\"Survived\"]\n",
    "rate_child = round(sum(child)/len(child)*100 , 2)\n",
    "\n",
    "print(\"{}% of children survived\".format(rate_child))"
   ]
  },
  {
   "cell_type": "code",
   "execution_count": 25,
   "id": "noted-witness",
   "metadata": {
    "execution": {
     "iopub.execute_input": "2021-06-02T08:51:41.153508Z",
     "iopub.status.busy": "2021-06-02T08:51:41.152656Z",
     "iopub.status.idle": "2021-06-02T08:51:41.156757Z",
     "shell.execute_reply": "2021-06-02T08:51:41.156230Z",
     "shell.execute_reply.started": "2021-06-02T08:49:59.819248Z"
    },
    "papermill": {
     "duration": 0.062409,
     "end_time": "2021-06-02T08:51:41.156916",
     "exception": false,
     "start_time": "2021-06-02T08:51:41.094507",
     "status": "completed"
    },
    "tags": []
   },
   "outputs": [
    {
     "name": "stdout",
     "output_type": "stream",
     "text": [
      "36.89% of young adults survived\n"
     ]
    }
   ],
   "source": [
    "adult = train_data.loc[train_data['Age'] =='Young Adult'][\"Survived\"]\n",
    "rate_adult = round(sum(adult)/len(adult)*100 , 2)\n",
    "\n",
    "print(\"{}% of young adults survived\".format(rate_adult))"
   ]
  },
  {
   "cell_type": "code",
   "execution_count": 26,
   "id": "outstanding-today",
   "metadata": {
    "execution": {
     "iopub.execute_input": "2021-06-02T08:51:41.267262Z",
     "iopub.status.busy": "2021-06-02T08:51:41.266497Z",
     "iopub.status.idle": "2021-06-02T08:51:41.270659Z",
     "shell.execute_reply": "2021-06-02T08:51:41.270013Z",
     "shell.execute_reply.started": "2021-06-02T08:49:59.834903Z"
    },
    "papermill": {
     "duration": 0.062027,
     "end_time": "2021-06-02T08:51:41.270798",
     "exception": false,
     "start_time": "2021-06-02T08:51:41.208771",
     "status": "completed"
    },
    "tags": []
   },
   "outputs": [
    {
     "name": "stdout",
     "output_type": "stream",
     "text": [
      "41.61% of middle aged people survived\n"
     ]
    }
   ],
   "source": [
    "mid = train_data.loc[train_data['Age'] == 'Middle Ager'][\"Survived\"]\n",
    "rate_mid = round(sum(mid)/len(mid)*100 , 2)\n",
    "\n",
    "print(\"{}% of middle aged people survived\".format(rate_mid))"
   ]
  },
  {
   "cell_type": "code",
   "execution_count": 27,
   "id": "entitled-prospect",
   "metadata": {
    "execution": {
     "iopub.execute_input": "2021-06-02T08:51:41.381439Z",
     "iopub.status.busy": "2021-06-02T08:51:41.380506Z",
     "iopub.status.idle": "2021-06-02T08:51:41.385304Z",
     "shell.execute_reply": "2021-06-02T08:51:41.386266Z",
     "shell.execute_reply.started": "2021-06-02T08:49:59.849446Z"
    },
    "papermill": {
     "duration": 0.065006,
     "end_time": "2021-06-02T08:51:41.386612",
     "exception": false,
     "start_time": "2021-06-02T08:51:41.321606",
     "status": "completed"
    },
    "tags": []
   },
   "outputs": [
    {
     "name": "stdout",
     "output_type": "stream",
     "text": [
      "35.62% of elders survived\n"
     ]
    }
   ],
   "source": [
    "old = train_data.loc[train_data['Age'] == 'Elder'][\"Survived\"]\n",
    "rate_old = round(sum(old)/len(old)*100 , 2)\n",
    "\n",
    "print(\"{}% of elders survived\".format(rate_old))"
   ]
  },
  {
   "cell_type": "code",
   "execution_count": 28,
   "id": "superior-columbus",
   "metadata": {
    "execution": {
     "iopub.execute_input": "2021-06-02T08:51:41.498577Z",
     "iopub.status.busy": "2021-06-02T08:51:41.497823Z",
     "iopub.status.idle": "2021-06-02T08:51:41.501861Z",
     "shell.execute_reply": "2021-06-02T08:51:41.501257Z",
     "shell.execute_reply.started": "2021-06-02T08:49:59.865920Z"
    },
    "papermill": {
     "duration": 0.062523,
     "end_time": "2021-06-02T08:51:41.502004",
     "exception": false,
     "start_time": "2021-06-02T08:51:41.439481",
     "status": "completed"
    },
    "tags": []
   },
   "outputs": [
    {
     "name": "stdout",
     "output_type": "stream",
     "text": [
      "29.38% of NaN survived\n"
     ]
    }
   ],
   "source": [
    "nan = train_data.loc[train_data['Age'] == 'NaN'][\"Survived\"]\n",
    "rate_nan = round(sum(nan)/len(nan)*100 , 2)\n",
    "\n",
    "print(\"{}% of NaN survived\".format(rate_nan))"
   ]
  },
  {
   "cell_type": "code",
   "execution_count": 29,
   "id": "modular-saturday",
   "metadata": {
    "execution": {
     "iopub.execute_input": "2021-06-02T08:51:41.613081Z",
     "iopub.status.busy": "2021-06-02T08:51:41.612330Z",
     "iopub.status.idle": "2021-06-02T08:51:42.320659Z",
     "shell.execute_reply": "2021-06-02T08:51:42.321133Z",
     "shell.execute_reply.started": "2021-06-02T08:49:59.880391Z"
    },
    "papermill": {
     "duration": 0.767112,
     "end_time": "2021-06-02T08:51:42.321343",
     "exception": false,
     "start_time": "2021-06-02T08:51:41.554231",
     "status": "completed"
    },
    "tags": []
   },
   "outputs": [
    {
     "data": {
      "image/png": "[encoded data removed]",
      "text/plain": [
       "<Figure size 1800x360 with 5 Axes>"
      ]
     },
     "metadata": {
      "needs_background": "light"
     },
     "output_type": "display_data"
    }
   ],
   "source": [
    "sns.catplot(x='Survived', col='Age', kind='count', data=train_data);"
   ]
  },
  {
   "cell_type": "markdown",
   "id": "married-factory",
   "metadata": {
    "papermill": {
     "duration": 0.052304,
     "end_time": "2021-06-02T08:51:42.426023",
     "exception": false,
     "start_time": "2021-06-02T08:51:42.373719",
     "status": "completed"
    },
    "tags": []
   },
   "source": [
    "#### Conclusion\n",
    "Children seem to have had the best luck in surviving, followed by middle agers. Elders, and young adults had the lower survival rates. Passengers with NaN values for age seem to have had the worst survival rates."
   ]
  },
  {
   "cell_type": "markdown",
   "id": "logical-balance",
   "metadata": {
    "papermill": {
     "duration": 0.051725,
     "end_time": "2021-06-02T08:51:42.529913",
     "exception": false,
     "start_time": "2021-06-02T08:51:42.478188",
     "status": "completed"
    },
    "tags": []
   },
   "source": [
    "### Final Thoughts\n",
    "The best survival chances seems to be:\n",
    "* woman\n",
    "* aged 0-18\n",
    "* first class\n",
    "* embarked from Cherbourg"
   ]
  },
  {
   "cell_type": "markdown",
   "id": "polished-passage",
   "metadata": {
    "papermill": {
     "duration": 0.053386,
     "end_time": "2021-06-02T08:51:42.636366",
     "exception": false,
     "start_time": "2021-06-02T08:51:42.582980",
     "status": "completed"
    },
    "tags": []
   },
   "source": [
    "## Dealing with the test dataset"
   ]
  },
  {
   "cell_type": "code",
   "execution_count": 30,
   "id": "accurate-dylan",
   "metadata": {
    "execution": {
     "iopub.execute_input": "2021-06-02T08:51:42.758061Z",
     "iopub.status.busy": "2021-06-02T08:51:42.757222Z",
     "iopub.status.idle": "2021-06-02T08:51:42.761216Z",
     "shell.execute_reply": "2021-06-02T08:51:42.760589Z",
     "shell.execute_reply.started": "2021-06-02T08:50:00.593988Z"
    },
    "papermill": {
     "duration": 0.072579,
     "end_time": "2021-06-02T08:51:42.761378",
     "exception": false,
     "start_time": "2021-06-02T08:51:42.688799",
     "status": "completed"
    },
    "tags": []
   },
   "outputs": [
    {
     "name": "stdout",
     "output_type": "stream",
     "text": [
      "<class 'pandas.core.frame.DataFrame'>\n",
      "RangeIndex: 418 entries, 0 to 417\n",
      "Data columns (total 11 columns):\n",
      " #   Column       Non-Null Count  Dtype  \n",
      "---  ------       --------------  -----  \n",
      " 0   PassengerId  418 non-null    int64  \n",
      " 1   Pclass       418 non-null    int64  \n",
      " 2   Name         418 non-null    object \n",
      " 3   Sex          418 non-null    object \n",
      " 4   Age          332 non-null    float64\n",
      " 5   SibSp        418 non-null    int64  \n",
      " 6   Parch        418 non-null    int64  \n",
      " 7   Ticket       418 non-null    object \n",
      " 8   Fare         417 non-null    float64\n",
      " 9   Cabin        91 non-null     object \n",
      " 10  Embarked     418 non-null    object \n",
      "dtypes: float64(2), int64(4), object(5)\n",
      "memory usage: 36.0+ KB\n"
     ]
    }
   ],
   "source": [
    "test_data.info()"
   ]
  },
  {
   "cell_type": "code",
   "execution_count": 31,
   "id": "confirmed-sheet",
   "metadata": {
    "execution": {
     "iopub.execute_input": "2021-06-02T08:51:42.879091Z",
     "iopub.status.busy": "2021-06-02T08:51:42.878391Z",
     "iopub.status.idle": "2021-06-02T08:51:42.881611Z",
     "shell.execute_reply": "2021-06-02T08:51:42.881060Z",
     "shell.execute_reply.started": "2021-06-02T08:50:00.610659Z"
    },
    "papermill": {
     "duration": 0.066268,
     "end_time": "2021-06-02T08:51:42.881762",
     "exception": false,
     "start_time": "2021-06-02T08:51:42.815494",
     "status": "completed"
    },
    "tags": []
   },
   "outputs": [],
   "source": [
    "test_data['Age'].replace(np.NAN, -1, inplace=True)\n",
    "bins = [-1,0,18,35,50,80]\n",
    "labels = ['NaN','Child','Young Adult','Middle Ager','Elder']\n",
    "test_data['Age'] = pd.cut(test_data['Age'], bins=bins, labels=labels, right=False)"
   ]
  },
  {
   "cell_type": "code",
   "execution_count": 32,
   "id": "complicated-tribune",
   "metadata": {
    "execution": {
     "iopub.execute_input": "2021-06-02T08:51:43.005344Z",
     "iopub.status.busy": "2021-06-02T08:51:43.003147Z",
     "iopub.status.idle": "2021-06-02T08:51:43.009767Z",
     "shell.execute_reply": "2021-06-02T08:51:43.009207Z",
     "shell.execute_reply.started": "2021-06-02T08:50:00.626287Z"
    },
    "papermill": {
     "duration": 0.075429,
     "end_time": "2021-06-02T08:51:43.009927",
     "exception": false,
     "start_time": "2021-06-02T08:51:42.934498",
     "status": "completed"
    },
    "tags": []
   },
   "outputs": [
    {
     "name": "stdout",
     "output_type": "stream",
     "text": [
      "<class 'pandas.core.frame.DataFrame'>\n",
      "RangeIndex: 418 entries, 0 to 417\n",
      "Data columns (total 11 columns):\n",
      " #   Column       Non-Null Count  Dtype   \n",
      "---  ------       --------------  -----   \n",
      " 0   PassengerId  418 non-null    int64   \n",
      " 1   Pclass       418 non-null    int64   \n",
      " 2   Name         418 non-null    object  \n",
      " 3   Sex          418 non-null    object  \n",
      " 4   Age          418 non-null    category\n",
      " 5   SibSp        418 non-null    int64   \n",
      " 6   Parch        418 non-null    int64   \n",
      " 7   Ticket       418 non-null    object  \n",
      " 8   Fare         417 non-null    float64 \n",
      " 9   Cabin        91 non-null     object  \n",
      " 10  Embarked     418 non-null    object  \n",
      "dtypes: category(1), float64(1), int64(4), object(5)\n",
      "memory usage: 33.4+ KB\n"
     ]
    }
   ],
   "source": [
    "test_data.info()"
   ]
  },
  {
   "cell_type": "markdown",
   "id": "soviet-digest",
   "metadata": {
    "papermill": {
     "duration": 0.05397,
     "end_time": "2021-06-02T08:51:43.117660",
     "exception": false,
     "start_time": "2021-06-02T08:51:43.063690",
     "status": "completed"
    },
    "tags": []
   },
   "source": [
    "## Model Prediction"
   ]
  },
  {
   "cell_type": "code",
   "execution_count": 33,
   "id": "saved-hotel",
   "metadata": {
    "execution": {
     "iopub.execute_input": "2021-06-02T08:51:43.229800Z",
     "iopub.status.busy": "2021-06-02T08:51:43.229090Z",
     "iopub.status.idle": "2021-06-02T08:51:43.669720Z",
     "shell.execute_reply": "2021-06-02T08:51:43.669050Z",
     "shell.execute_reply.started": "2021-06-02T08:50:00.654428Z"
    },
    "papermill": {
     "duration": 0.498305,
     "end_time": "2021-06-02T08:51:43.669884",
     "exception": false,
     "start_time": "2021-06-02T08:51:43.171579",
     "status": "completed"
    },
    "tags": []
   },
   "outputs": [],
   "source": [
    "from sklearn.ensemble import RandomForestClassifier\n",
    "from sklearn.neighbors import KNeighborsClassifier"
   ]
  },
  {
   "cell_type": "code",
   "execution_count": 34,
   "id": "vietnamese-baking",
   "metadata": {
    "execution": {
     "iopub.execute_input": "2021-06-02T08:51:43.784974Z",
     "iopub.status.busy": "2021-06-02T08:51:43.783678Z",
     "iopub.status.idle": "2021-06-02T08:51:43.807388Z",
     "shell.execute_reply": "2021-06-02T08:51:43.806777Z",
     "shell.execute_reply.started": "2021-06-02T08:50:00.659770Z"
    },
    "papermill": {
     "duration": 0.084499,
     "end_time": "2021-06-02T08:51:43.807549",
     "exception": false,
     "start_time": "2021-06-02T08:51:43.723050",
     "status": "completed"
    },
    "tags": []
   },
   "outputs": [
    {
     "data": {
      "text/plain": [
       "((891, 11), (891,), (418, 11))"
      ]
     },
     "execution_count": 34,
     "metadata": {},
     "output_type": "execute_result"
    }
   ],
   "source": [
    "features = [\"Age\", \"Sex\", \"Embarked\", \"Pclass\"]\n",
    "\n",
    "X_train = train_data.drop(\"Survived\", axis=1)\n",
    "X_train = pd.get_dummies(X_train[features])\n",
    "\n",
    "Y_train = train_data[\"Survived\"]\n",
    "\n",
    "X_test  = test_data.drop(\"PassengerId\", axis=1).copy()\n",
    "X_test = pd.get_dummies(X_test[features])\n",
    "\n",
    "X_train.shape, Y_train.shape, X_test.shape"
   ]
  },
  {
   "cell_type": "markdown",
   "id": "portable-herald",
   "metadata": {
    "papermill": {
     "duration": 0.053643,
     "end_time": "2021-06-02T08:51:43.915350",
     "exception": false,
     "start_time": "2021-06-02T08:51:43.861707",
     "status": "completed"
    },
    "tags": []
   },
   "source": [
    "After optaining the X_train,Y_train, and X_test<br>\n",
    "We can start looking at different models to make the predictions<br>\n",
    "I'll be comparing two different algorithms, and I'll evaluate them based on the score of predictions made on the training set.\n",
    "* K-nearest Neighbors\n",
    "* Random Forest "
   ]
  },
  {
   "cell_type": "code",
   "execution_count": 35,
   "id": "impaired-strengthening",
   "metadata": {
    "execution": {
     "iopub.execute_input": "2021-06-02T08:51:44.035093Z",
     "iopub.status.busy": "2021-06-02T08:51:44.029997Z",
     "iopub.status.idle": "2021-06-02T08:51:44.107097Z",
     "shell.execute_reply": "2021-06-02T08:51:44.106403Z",
     "shell.execute_reply.started": "2021-06-02T08:50:00.698284Z"
    },
    "papermill": {
     "duration": 0.138405,
     "end_time": "2021-06-02T08:51:44.107242",
     "exception": false,
     "start_time": "2021-06-02T08:51:43.968837",
     "status": "completed"
    },
    "tags": []
   },
   "outputs": [
    {
     "data": {
      "text/plain": [
       "0.7845"
      ]
     },
     "execution_count": 35,
     "metadata": {},
     "output_type": "execute_result"
    }
   ],
   "source": [
    "#K-nearest neighbors\n",
    "k_neighbors = KNeighborsClassifier(n_neighbors = 3)\n",
    "k_neighbors.fit(X_train, Y_train)\n",
    "k_pred = k_neighbors.predict(X_test)\n",
    "k_neighbors_score = round(k_neighbors.score(X_train, Y_train), 4)\n",
    "k_neighbors_score"
   ]
  },
  {
   "cell_type": "markdown",
   "id": "polished-volleyball",
   "metadata": {
    "papermill": {
     "duration": 0.054758,
     "end_time": "2021-06-02T08:51:44.219546",
     "exception": false,
     "start_time": "2021-06-02T08:51:44.164788",
     "status": "completed"
    },
    "tags": []
   },
   "source": [
    "The n was chosen by trail and error, where n = 3 had the highest score."
   ]
  },
  {
   "cell_type": "code",
   "execution_count": 36,
   "id": "prescription-colleague",
   "metadata": {
    "execution": {
     "iopub.execute_input": "2021-06-02T08:51:44.343545Z",
     "iopub.status.busy": "2021-06-02T08:51:44.338090Z",
     "iopub.status.idle": "2021-06-02T08:51:44.590191Z",
     "shell.execute_reply": "2021-06-02T08:51:44.589658Z",
     "shell.execute_reply.started": "2021-06-02T08:50:00.777474Z"
    },
    "papermill": {
     "duration": 0.317005,
     "end_time": "2021-06-02T08:51:44.590458",
     "exception": false,
     "start_time": "2021-06-02T08:51:44.273453",
     "status": "completed"
    },
    "tags": []
   },
   "outputs": [
    {
     "data": {
      "text/plain": [
       "0.8283"
      ]
     },
     "execution_count": 36,
     "metadata": {},
     "output_type": "execute_result"
    }
   ],
   "source": [
    "# Random Forest\n",
    "\n",
    "rand_forest = RandomForestClassifier(n_estimators=100, max_depth=5, random_state=1)\n",
    "rand_forest.fit(X_train, Y_train)\n",
    "rand_pred = rand_forest.predict(X_test)\n",
    "rand_forest.score(X_train, Y_train)\n",
    "rand_forest_score = round(rand_forest.score(X_train, Y_train), 4)\n",
    "rand_forest_score"
   ]
  },
  {
   "cell_type": "markdown",
   "id": "consistent-remark",
   "metadata": {
    "papermill": {
     "duration": 0.055814,
     "end_time": "2021-06-02T08:51:44.701907",
     "exception": false,
     "start_time": "2021-06-02T08:51:44.646093",
     "status": "completed"
    },
    "tags": []
   },
   "source": [
    "After comparing the two scores, random forests has a higher score and thus will be chosen to get the final output"
   ]
  },
  {
   "cell_type": "code",
   "execution_count": 37,
   "id": "cheap-bosnia",
   "metadata": {
    "execution": {
     "iopub.execute_input": "2021-06-02T08:51:44.822046Z",
     "iopub.status.busy": "2021-06-02T08:51:44.821356Z",
     "iopub.status.idle": "2021-06-02T08:51:44.830133Z",
     "shell.execute_reply": "2021-06-02T08:51:44.829578Z",
     "shell.execute_reply.started": "2021-06-02T08:50:01.038135Z"
    },
    "papermill": {
     "duration": 0.071503,
     "end_time": "2021-06-02T08:51:44.830312",
     "exception": false,
     "start_time": "2021-06-02T08:51:44.758809",
     "status": "completed"
    },
    "tags": []
   },
   "outputs": [
    {
     "name": "stdout",
     "output_type": "stream",
     "text": [
      "Your submission was successfully saved!\n"
     ]
    }
   ],
   "source": [
    "\n",
    "output = pd.DataFrame({'PassengerId': test_data.PassengerId, 'Survived': rand_pred})\n",
    "output.to_csv('my_submission.csv', index=False)\n",
    "print(\"Your submission was successfully saved!\")"
   ]
  }
 ],
 "metadata": {
  "kernelspec": {
   "display_name": "Python 3",
   "language": "python",
   "name": "python3"
  },
  "language_info": {
   "codemirror_mode": {
    "name": "ipython",
    "version": 3
   },
   "file_extension": ".py",
   "mimetype": "text/x-python",
   "name": "python",
   "nbconvert_exporter": "python",
   "pygments_lexer": "ipython3",
   "version": "3.7.10"
  },
  "papermill": {
   "default_parameters": {},
   "duration": 19.923601,
   "end_time": "2021-06-02T08:51:45.700045",
   "environment_variables": {},
   "exception": null,
   "input_path": "__notebook__.ipynb",
   "output_path": "__notebook__.ipynb",
   "parameters": {},
   "start_time": "2021-06-02T08:51:25.776444",
   "version": "2.3.3"
  }
 },
 "nbformat": 4,
 "nbformat_minor": 5
}
