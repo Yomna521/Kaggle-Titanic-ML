{
 "cells": [
  {
   "cell_type": "markdown",
   "id": "broad-tablet",
   "metadata": {
    "papermill": {
     "duration": 0.03427,
     "end_time": "2021-06-01T09:43:53.362899",
     "exception": false,
     "start_time": "2021-06-01T09:43:53.328629",
     "status": "completed"
    },
    "tags": []
   },
   "source": [
    "# Titanic ML Competition"
   ]
  },
  {
   "cell_type": "code",
   "execution_count": 1,
   "id": "serial-statistics",
   "metadata": {
    "execution": {
     "iopub.execute_input": "2021-06-01T09:43:53.446383Z",
     "iopub.status.busy": "2021-06-01T09:43:53.443146Z",
     "iopub.status.idle": "2021-06-01T09:43:54.315217Z",
     "shell.execute_reply": "2021-06-01T09:43:54.314457Z",
     "shell.execute_reply.started": "2021-06-01T09:43:25.074364Z"
    },
    "papermill": {
     "duration": 0.919534,
     "end_time": "2021-06-01T09:43:54.315422",
     "exception": false,
     "start_time": "2021-06-01T09:43:53.395888",
     "status": "completed"
    },
    "tags": []
   },
   "outputs": [
    {
     "name": "stdout",
     "output_type": "stream",
     "text": [
      "/kaggle/input/titanic/train.csv\n",
      "/kaggle/input/titanic/test.csv\n",
      "/kaggle/input/titanic/gender_submission.csv\n"
     ]
    }
   ],
   "source": [
    "import numpy as np # linear algebra\n",
    "import pandas as pd # data processing, CSV file I/O (e.g. pd.read_csv)\n",
    "import matplotlib.pyplot as plt\n",
    "%matplotlib inline\n",
    "import seaborn as sns\n",
    "# Input data files are available in the read-only \"../input/\" directory\n",
    "# For example, running this (by clicking run or pressing Shift+Enter) will list all files under the input directory\n",
    "\n",
    "import os\n",
    "for dirname, _, filenames in os.walk('/kaggle/input'):\n",
    "    for filename in filenames:\n",
    "        print(os.path.join(dirname, filename))"
   ]
  },
  {
   "cell_type": "markdown",
   "id": "least-arnold",
   "metadata": {
    "papermill": {
     "duration": 0.034103,
     "end_time": "2021-06-01T09:43:54.385809",
     "exception": false,
     "start_time": "2021-06-01T09:43:54.351706",
     "status": "completed"
    },
    "tags": []
   },
   "source": [
    "## Exploring Data\n"
   ]
  },
  {
   "cell_type": "code",
   "execution_count": 2,
   "id": "silver-lawyer",
   "metadata": {
    "execution": {
     "iopub.execute_input": "2021-06-01T09:43:54.462338Z",
     "iopub.status.busy": "2021-06-01T09:43:54.461413Z",
     "iopub.status.idle": "2021-06-01T09:43:54.507618Z",
     "shell.execute_reply": "2021-06-01T09:43:54.508160Z",
     "shell.execute_reply.started": "2021-06-01T09:43:25.104629Z"
    },
    "papermill": {
     "duration": 0.087782,
     "end_time": "2021-06-01T09:43:54.508363",
     "exception": false,
     "start_time": "2021-06-01T09:43:54.420581",
     "status": "completed"
    },
    "tags": []
   },
   "outputs": [
    {
     "data": {
      "text/html": [
       "<div>\n",
       "<style scoped>\n",
       "    .dataframe tbody tr th:only-of-type {\n",
       "        vertical-align: middle;\n",
       "    }\n",
       "\n",
       "    .dataframe tbody tr th {\n",
       "        vertical-align: top;\n",
       "    }\n",
       "\n",
       "    .dataframe thead th {\n",
       "        text-align: right;\n",
       "    }\n",
       "</style>\n",
       "<table border=\"1\" class=\"dataframe\">\n",
       "  <thead>\n",
       "    <tr style=\"text-align: right;\">\n",
       "      <th></th>\n",
       "      <th>PassengerId</th>\n",
       "      <th>Survived</th>\n",
       "      <th>Pclass</th>\n",
       "      <th>Name</th>\n",
       "      <th>Sex</th>\n",
       "      <th>Age</th>\n",
       "      <th>SibSp</th>\n",
       "      <th>Parch</th>\n",
       "      <th>Ticket</th>\n",
       "      <th>Fare</th>\n",
       "      <th>Cabin</th>\n",
       "      <th>Embarked</th>\n",
       "    </tr>\n",
       "  </thead>\n",
       "  <tbody>\n",
       "    <tr>\n",
       "      <th>0</th>\n",
       "      <td>1</td>\n",
       "      <td>0</td>\n",
       "      <td>3</td>\n",
       "      <td>Braund, Mr. Owen Harris</td>\n",
       "      <td>male</td>\n",
       "      <td>22.0</td>\n",
       "      <td>1</td>\n",
       "      <td>0</td>\n",
       "      <td>A/5 21171</td>\n",
       "      <td>7.2500</td>\n",
       "      <td>NaN</td>\n",
       "      <td>S</td>\n",
       "    </tr>\n",
       "    <tr>\n",
       "      <th>1</th>\n",
       "      <td>2</td>\n",
       "      <td>1</td>\n",
       "      <td>1</td>\n",
       "      <td>Cumings, Mrs. John Bradley (Florence Briggs Th...</td>\n",
       "      <td>female</td>\n",
       "      <td>38.0</td>\n",
       "      <td>1</td>\n",
       "      <td>0</td>\n",
       "      <td>PC 17599</td>\n",
       "      <td>71.2833</td>\n",
       "      <td>C85</td>\n",
       "      <td>C</td>\n",
       "    </tr>\n",
       "    <tr>\n",
       "      <th>2</th>\n",
       "      <td>3</td>\n",
       "      <td>1</td>\n",
       "      <td>3</td>\n",
       "      <td>Heikkinen, Miss. Laina</td>\n",
       "      <td>female</td>\n",
       "      <td>26.0</td>\n",
       "      <td>0</td>\n",
       "      <td>0</td>\n",
       "      <td>STON/O2. 3101282</td>\n",
       "      <td>7.9250</td>\n",
       "      <td>NaN</td>\n",
       "      <td>S</td>\n",
       "    </tr>\n",
       "    <tr>\n",
       "      <th>3</th>\n",
       "      <td>4</td>\n",
       "      <td>1</td>\n",
       "      <td>1</td>\n",
       "      <td>Futrelle, Mrs. Jacques Heath (Lily May Peel)</td>\n",
       "      <td>female</td>\n",
       "      <td>35.0</td>\n",
       "      <td>1</td>\n",
       "      <td>0</td>\n",
       "      <td>113803</td>\n",
       "      <td>53.1000</td>\n",
       "      <td>C123</td>\n",
       "      <td>S</td>\n",
       "    </tr>\n",
       "    <tr>\n",
       "      <th>4</th>\n",
       "      <td>5</td>\n",
       "      <td>0</td>\n",
       "      <td>3</td>\n",
       "      <td>Allen, Mr. William Henry</td>\n",
       "      <td>male</td>\n",
       "      <td>35.0</td>\n",
       "      <td>0</td>\n",
       "      <td>0</td>\n",
       "      <td>373450</td>\n",
       "      <td>8.0500</td>\n",
       "      <td>NaN</td>\n",
       "      <td>S</td>\n",
       "    </tr>\n",
       "  </tbody>\n",
       "</table>\n",
       "</div>"
      ],
      "text/plain": [
       "   PassengerId  Survived  Pclass  \\\n",
       "0            1         0       3   \n",
       "1            2         1       1   \n",
       "2            3         1       3   \n",
       "3            4         1       1   \n",
       "4            5         0       3   \n",
       "\n",
       "                                                Name     Sex   Age  SibSp  \\\n",
       "0                            Braund, Mr. Owen Harris    male  22.0      1   \n",
       "1  Cumings, Mrs. John Bradley (Florence Briggs Th...  female  38.0      1   \n",
       "2                             Heikkinen, Miss. Laina  female  26.0      0   \n",
       "3       Futrelle, Mrs. Jacques Heath (Lily May Peel)  female  35.0      1   \n",
       "4                           Allen, Mr. William Henry    male  35.0      0   \n",
       "\n",
       "   Parch            Ticket     Fare Cabin Embarked  \n",
       "0      0         A/5 21171   7.2500   NaN        S  \n",
       "1      0          PC 17599  71.2833   C85        C  \n",
       "2      0  STON/O2. 3101282   7.9250   NaN        S  \n",
       "3      0            113803  53.1000  C123        S  \n",
       "4      0            373450   8.0500   NaN        S  "
      ]
     },
     "execution_count": 2,
     "metadata": {},
     "output_type": "execute_result"
    }
   ],
   "source": [
    "train_data = pd.read_csv(\"/kaggle/input/titanic/train.csv\")\n",
    "train_data.head()"
   ]
  },
  {
   "cell_type": "markdown",
   "id": "recovered-estate",
   "metadata": {
    "papermill": {
     "duration": 0.035513,
     "end_time": "2021-06-01T09:43:54.578097",
     "exception": false,
     "start_time": "2021-06-01T09:43:54.542584",
     "status": "completed"
    },
    "tags": []
   },
   "source": [
    "### Check if there's duplicate enteries"
   ]
  },
  {
   "cell_type": "code",
   "execution_count": 3,
   "id": "present-headset",
   "metadata": {
    "execution": {
     "iopub.execute_input": "2021-06-01T09:43:54.656276Z",
     "iopub.status.busy": "2021-06-01T09:43:54.655547Z",
     "iopub.status.idle": "2021-06-01T09:43:54.667283Z",
     "shell.execute_reply": "2021-06-01T09:43:54.666704Z",
     "shell.execute_reply.started": "2021-06-01T09:43:25.133936Z"
    },
    "papermill": {
     "duration": 0.05412,
     "end_time": "2021-06-01T09:43:54.667461",
     "exception": false,
     "start_time": "2021-06-01T09:43:54.613341",
     "status": "completed"
    },
    "tags": []
   },
   "outputs": [
    {
     "data": {
      "text/plain": [
       "0"
      ]
     },
     "execution_count": 3,
     "metadata": {},
     "output_type": "execute_result"
    }
   ],
   "source": [
    "sum(train_data.duplicated())"
   ]
  },
  {
   "cell_type": "code",
   "execution_count": 4,
   "id": "material-timothy",
   "metadata": {
    "execution": {
     "iopub.execute_input": "2021-06-01T09:43:54.746312Z",
     "iopub.status.busy": "2021-06-01T09:43:54.745358Z",
     "iopub.status.idle": "2021-06-01T09:43:54.773081Z",
     "shell.execute_reply": "2021-06-01T09:43:54.772376Z",
     "shell.execute_reply.started": "2021-06-01T09:43:25.151990Z"
    },
    "papermill": {
     "duration": 0.069662,
     "end_time": "2021-06-01T09:43:54.773255",
     "exception": false,
     "start_time": "2021-06-01T09:43:54.703593",
     "status": "completed"
    },
    "tags": []
   },
   "outputs": [
    {
     "data": {
      "text/html": [
       "<div>\n",
       "<style scoped>\n",
       "    .dataframe tbody tr th:only-of-type {\n",
       "        vertical-align: middle;\n",
       "    }\n",
       "\n",
       "    .dataframe tbody tr th {\n",
       "        vertical-align: top;\n",
       "    }\n",
       "\n",
       "    .dataframe thead th {\n",
       "        text-align: right;\n",
       "    }\n",
       "</style>\n",
       "<table border=\"1\" class=\"dataframe\">\n",
       "  <thead>\n",
       "    <tr style=\"text-align: right;\">\n",
       "      <th></th>\n",
       "      <th>PassengerId</th>\n",
       "      <th>Pclass</th>\n",
       "      <th>Name</th>\n",
       "      <th>Sex</th>\n",
       "      <th>Age</th>\n",
       "      <th>SibSp</th>\n",
       "      <th>Parch</th>\n",
       "      <th>Ticket</th>\n",
       "      <th>Fare</th>\n",
       "      <th>Cabin</th>\n",
       "      <th>Embarked</th>\n",
       "    </tr>\n",
       "  </thead>\n",
       "  <tbody>\n",
       "    <tr>\n",
       "      <th>0</th>\n",
       "      <td>892</td>\n",
       "      <td>3</td>\n",
       "      <td>Kelly, Mr. James</td>\n",
       "      <td>male</td>\n",
       "      <td>34.5</td>\n",
       "      <td>0</td>\n",
       "      <td>0</td>\n",
       "      <td>330911</td>\n",
       "      <td>7.8292</td>\n",
       "      <td>NaN</td>\n",
       "      <td>Q</td>\n",
       "    </tr>\n",
       "    <tr>\n",
       "      <th>1</th>\n",
       "      <td>893</td>\n",
       "      <td>3</td>\n",
       "      <td>Wilkes, Mrs. James (Ellen Needs)</td>\n",
       "      <td>female</td>\n",
       "      <td>47.0</td>\n",
       "      <td>1</td>\n",
       "      <td>0</td>\n",
       "      <td>363272</td>\n",
       "      <td>7.0000</td>\n",
       "      <td>NaN</td>\n",
       "      <td>S</td>\n",
       "    </tr>\n",
       "    <tr>\n",
       "      <th>2</th>\n",
       "      <td>894</td>\n",
       "      <td>2</td>\n",
       "      <td>Myles, Mr. Thomas Francis</td>\n",
       "      <td>male</td>\n",
       "      <td>62.0</td>\n",
       "      <td>0</td>\n",
       "      <td>0</td>\n",
       "      <td>240276</td>\n",
       "      <td>9.6875</td>\n",
       "      <td>NaN</td>\n",
       "      <td>Q</td>\n",
       "    </tr>\n",
       "    <tr>\n",
       "      <th>3</th>\n",
       "      <td>895</td>\n",
       "      <td>3</td>\n",
       "      <td>Wirz, Mr. Albert</td>\n",
       "      <td>male</td>\n",
       "      <td>27.0</td>\n",
       "      <td>0</td>\n",
       "      <td>0</td>\n",
       "      <td>315154</td>\n",
       "      <td>8.6625</td>\n",
       "      <td>NaN</td>\n",
       "      <td>S</td>\n",
       "    </tr>\n",
       "    <tr>\n",
       "      <th>4</th>\n",
       "      <td>896</td>\n",
       "      <td>3</td>\n",
       "      <td>Hirvonen, Mrs. Alexander (Helga E Lindqvist)</td>\n",
       "      <td>female</td>\n",
       "      <td>22.0</td>\n",
       "      <td>1</td>\n",
       "      <td>1</td>\n",
       "      <td>3101298</td>\n",
       "      <td>12.2875</td>\n",
       "      <td>NaN</td>\n",
       "      <td>S</td>\n",
       "    </tr>\n",
       "  </tbody>\n",
       "</table>\n",
       "</div>"
      ],
      "text/plain": [
       "   PassengerId  Pclass                                          Name     Sex  \\\n",
       "0          892       3                              Kelly, Mr. James    male   \n",
       "1          893       3              Wilkes, Mrs. James (Ellen Needs)  female   \n",
       "2          894       2                     Myles, Mr. Thomas Francis    male   \n",
       "3          895       3                              Wirz, Mr. Albert    male   \n",
       "4          896       3  Hirvonen, Mrs. Alexander (Helga E Lindqvist)  female   \n",
       "\n",
       "    Age  SibSp  Parch   Ticket     Fare Cabin Embarked  \n",
       "0  34.5      0      0   330911   7.8292   NaN        Q  \n",
       "1  47.0      1      0   363272   7.0000   NaN        S  \n",
       "2  62.0      0      0   240276   9.6875   NaN        Q  \n",
       "3  27.0      0      0   315154   8.6625   NaN        S  \n",
       "4  22.0      1      1  3101298  12.2875   NaN        S  "
      ]
     },
     "execution_count": 4,
     "metadata": {},
     "output_type": "execute_result"
    }
   ],
   "source": [
    "test_data = pd.read_csv(\"/kaggle/input/titanic/test.csv\")\n",
    "test_data.head()"
   ]
  },
  {
   "cell_type": "markdown",
   "id": "fitted-envelope",
   "metadata": {
    "papermill": {
     "duration": 0.037337,
     "end_time": "2021-06-01T09:43:54.848988",
     "exception": false,
     "start_time": "2021-06-01T09:43:54.811651",
     "status": "completed"
    },
    "tags": []
   },
   "source": [
    "## Clean Data"
   ]
  },
  {
   "cell_type": "code",
   "execution_count": 5,
   "id": "romantic-bolivia",
   "metadata": {
    "execution": {
     "iopub.execute_input": "2021-06-01T09:43:54.940421Z",
     "iopub.status.busy": "2021-06-01T09:43:54.931658Z",
     "iopub.status.idle": "2021-06-01T09:43:54.944923Z",
     "shell.execute_reply": "2021-06-01T09:43:54.944346Z",
     "shell.execute_reply.started": "2021-06-01T09:43:25.174653Z"
    },
    "papermill": {
     "duration": 0.058295,
     "end_time": "2021-06-01T09:43:54.945077",
     "exception": false,
     "start_time": "2021-06-01T09:43:54.886782",
     "status": "completed"
    },
    "tags": []
   },
   "outputs": [
    {
     "data": {
      "text/plain": [
       "<bound method NDFrame.head of      PassengerId  Survived  Pclass     Sex   Age Embarked\n",
       "0              1         0       3    male  22.0        S\n",
       "1              2         1       1  female  38.0        C\n",
       "2              3         1       3  female  26.0        S\n",
       "3              4         1       1  female  35.0        S\n",
       "4              5         0       3    male  35.0        S\n",
       "..           ...       ...     ...     ...   ...      ...\n",
       "886          887         0       2    male  27.0        S\n",
       "887          888         1       1  female  19.0        S\n",
       "888          889         0       3  female   NaN        S\n",
       "889          890         1       1    male  26.0        C\n",
       "890          891         0       3    male  32.0        Q\n",
       "\n",
       "[891 rows x 6 columns]>"
      ]
     },
     "execution_count": 5,
     "metadata": {},
     "output_type": "execute_result"
    }
   ],
   "source": [
    "train_data.drop(['SibSp','Parch','Fare','Cabin','Ticket', 'Name'], axis = 1, inplace = True)\n",
    "train_data.head"
   ]
  },
  {
   "cell_type": "code",
   "execution_count": 6,
   "id": "promising-arthritis",
   "metadata": {
    "execution": {
     "iopub.execute_input": "2021-06-01T09:43:55.029293Z",
     "iopub.status.busy": "2021-06-01T09:43:55.028528Z",
     "iopub.status.idle": "2021-06-01T09:43:55.052864Z",
     "shell.execute_reply": "2021-06-01T09:43:55.052333Z",
     "shell.execute_reply.started": "2021-06-01T09:43:25.195621Z"
    },
    "papermill": {
     "duration": 0.071386,
     "end_time": "2021-06-01T09:43:55.053047",
     "exception": false,
     "start_time": "2021-06-01T09:43:54.981661",
     "status": "completed"
    },
    "tags": []
   },
   "outputs": [
    {
     "data": {
      "text/html": [
       "<div>\n",
       "<style scoped>\n",
       "    .dataframe tbody tr th:only-of-type {\n",
       "        vertical-align: middle;\n",
       "    }\n",
       "\n",
       "    .dataframe tbody tr th {\n",
       "        vertical-align: top;\n",
       "    }\n",
       "\n",
       "    .dataframe thead th {\n",
       "        text-align: right;\n",
       "    }\n",
       "</style>\n",
       "<table border=\"1\" class=\"dataframe\">\n",
       "  <thead>\n",
       "    <tr style=\"text-align: right;\">\n",
       "      <th></th>\n",
       "      <th>PassengerId</th>\n",
       "      <th>Survived</th>\n",
       "      <th>Pclass</th>\n",
       "      <th>Age</th>\n",
       "    </tr>\n",
       "  </thead>\n",
       "  <tbody>\n",
       "    <tr>\n",
       "      <th>count</th>\n",
       "      <td>891.000000</td>\n",
       "      <td>891.000000</td>\n",
       "      <td>891.000000</td>\n",
       "      <td>714.000000</td>\n",
       "    </tr>\n",
       "    <tr>\n",
       "      <th>mean</th>\n",
       "      <td>446.000000</td>\n",
       "      <td>0.383838</td>\n",
       "      <td>2.308642</td>\n",
       "      <td>29.699118</td>\n",
       "    </tr>\n",
       "    <tr>\n",
       "      <th>std</th>\n",
       "      <td>257.353842</td>\n",
       "      <td>0.486592</td>\n",
       "      <td>0.836071</td>\n",
       "      <td>14.526497</td>\n",
       "    </tr>\n",
       "    <tr>\n",
       "      <th>min</th>\n",
       "      <td>1.000000</td>\n",
       "      <td>0.000000</td>\n",
       "      <td>1.000000</td>\n",
       "      <td>0.420000</td>\n",
       "    </tr>\n",
       "    <tr>\n",
       "      <th>25%</th>\n",
       "      <td>223.500000</td>\n",
       "      <td>0.000000</td>\n",
       "      <td>2.000000</td>\n",
       "      <td>20.125000</td>\n",
       "    </tr>\n",
       "    <tr>\n",
       "      <th>50%</th>\n",
       "      <td>446.000000</td>\n",
       "      <td>0.000000</td>\n",
       "      <td>3.000000</td>\n",
       "      <td>28.000000</td>\n",
       "    </tr>\n",
       "    <tr>\n",
       "      <th>75%</th>\n",
       "      <td>668.500000</td>\n",
       "      <td>1.000000</td>\n",
       "      <td>3.000000</td>\n",
       "      <td>38.000000</td>\n",
       "    </tr>\n",
       "    <tr>\n",
       "      <th>max</th>\n",
       "      <td>891.000000</td>\n",
       "      <td>1.000000</td>\n",
       "      <td>3.000000</td>\n",
       "      <td>80.000000</td>\n",
       "    </tr>\n",
       "  </tbody>\n",
       "</table>\n",
       "</div>"
      ],
      "text/plain": [
       "       PassengerId    Survived      Pclass         Age\n",
       "count   891.000000  891.000000  891.000000  714.000000\n",
       "mean    446.000000    0.383838    2.308642   29.699118\n",
       "std     257.353842    0.486592    0.836071   14.526497\n",
       "min       1.000000    0.000000    1.000000    0.420000\n",
       "25%     223.500000    0.000000    2.000000   20.125000\n",
       "50%     446.000000    0.000000    3.000000   28.000000\n",
       "75%     668.500000    1.000000    3.000000   38.000000\n",
       "max     891.000000    1.000000    3.000000   80.000000"
      ]
     },
     "execution_count": 6,
     "metadata": {},
     "output_type": "execute_result"
    }
   ],
   "source": [
    "train_data.describe()"
   ]
  },
  {
   "cell_type": "markdown",
   "id": "several-integrity",
   "metadata": {
    "papermill": {
     "duration": 0.03532,
     "end_time": "2021-06-01T09:43:55.125288",
     "exception": false,
     "start_time": "2021-06-01T09:43:55.089968",
     "status": "completed"
    },
    "tags": []
   },
   "source": [
    "## Explore patterns"
   ]
  },
  {
   "cell_type": "markdown",
   "id": "funky-ideal",
   "metadata": {
    "papermill": {
     "duration": 0.035106,
     "end_time": "2021-06-01T09:43:55.195877",
     "exception": false,
     "start_time": "2021-06-01T09:43:55.160771",
     "status": "completed"
    },
    "tags": []
   },
   "source": [
    "### Survival based on gender"
   ]
  },
  {
   "cell_type": "code",
   "execution_count": 7,
   "id": "stuffed-hardware",
   "metadata": {
    "execution": {
     "iopub.execute_input": "2021-06-01T09:43:55.297606Z",
     "iopub.status.busy": "2021-06-01T09:43:55.296871Z",
     "iopub.status.idle": "2021-06-01T09:43:55.429542Z",
     "shell.execute_reply": "2021-06-01T09:43:55.430173Z",
     "shell.execute_reply.started": "2021-06-01T09:43:25.227556Z"
    },
    "papermill": {
     "duration": 0.198212,
     "end_time": "2021-06-01T09:43:55.430407",
     "exception": false,
     "start_time": "2021-06-01T09:43:55.232195",
     "status": "completed"
    },
    "tags": []
   },
   "outputs": [
    {
     "data": {
      "image/png": "[encoded data removed]",
      "text/plain": [
       "<Figure size 432x288 with 1 Axes>"
      ]
     },
     "metadata": {
      "needs_background": "light"
     },
     "output_type": "display_data"
    }
   ],
   "source": [
    "sns.countplot(x='Sex', data=train_data);"
   ]
  },
  {
   "cell_type": "markdown",
   "id": "detected-recycling",
   "metadata": {
    "papermill": {
     "duration": 0.037011,
     "end_time": "2021-06-01T09:43:55.506207",
     "exception": false,
     "start_time": "2021-06-01T09:43:55.469196",
     "status": "completed"
    },
    "tags": []
   },
   "source": [
    "The number of males aboard is almost double the number of females."
   ]
  },
  {
   "cell_type": "code",
   "execution_count": 8,
   "id": "altered-demand",
   "metadata": {
    "execution": {
     "iopub.execute_input": "2021-06-01T09:43:55.589568Z",
     "iopub.status.busy": "2021-06-01T09:43:55.588831Z",
     "iopub.status.idle": "2021-06-01T09:43:55.592556Z",
     "shell.execute_reply": "2021-06-01T09:43:55.591907Z",
     "shell.execute_reply.started": "2021-06-01T09:43:25.353539Z"
    },
    "papermill": {
     "duration": 0.048893,
     "end_time": "2021-06-01T09:43:55.592706",
     "exception": false,
     "start_time": "2021-06-01T09:43:55.543813",
     "status": "completed"
    },
    "tags": []
   },
   "outputs": [
    {
     "name": "stdout",
     "output_type": "stream",
     "text": [
      "74.2% of women survived\n"
     ]
    }
   ],
   "source": [
    "women = train_data.loc[train_data.Sex == 'female'][\"Survived\"]\n",
    "rate_women = round(sum(women)/len(women)*100 , 2)\n",
    "\n",
    "print(\"{}% of women survived\".format(rate_women))"
   ]
  },
  {
   "cell_type": "code",
   "execution_count": 9,
   "id": "driving-ticket",
   "metadata": {
    "execution": {
     "iopub.execute_input": "2021-06-01T09:43:55.676699Z",
     "iopub.status.busy": "2021-06-01T09:43:55.675020Z",
     "iopub.status.idle": "2021-06-01T09:43:55.680902Z",
     "shell.execute_reply": "2021-06-01T09:43:55.680343Z",
     "shell.execute_reply.started": "2021-06-01T09:43:25.364452Z"
    },
    "papermill": {
     "duration": 0.05069,
     "end_time": "2021-06-01T09:43:55.681055",
     "exception": false,
     "start_time": "2021-06-01T09:43:55.630365",
     "status": "completed"
    },
    "tags": []
   },
   "outputs": [
    {
     "name": "stdout",
     "output_type": "stream",
     "text": [
      "18.89% of men survived\n"
     ]
    }
   ],
   "source": [
    "men = train_data.loc[train_data.Sex == 'male'][\"Survived\"]\n",
    "rate_men = round(sum(men)/len(men)*100, 2)\n",
    "\n",
    "print(\"{}% of men survived\".format(rate_men))"
   ]
  },
  {
   "cell_type": "code",
   "execution_count": 10,
   "id": "preliminary-serum",
   "metadata": {
    "execution": {
     "iopub.execute_input": "2021-06-01T09:43:55.768695Z",
     "iopub.status.busy": "2021-06-01T09:43:55.767846Z",
     "iopub.status.idle": "2021-06-01T09:43:56.102736Z",
     "shell.execute_reply": "2021-06-01T09:43:56.102150Z",
     "shell.execute_reply.started": "2021-06-01T09:43:25.379641Z"
    },
    "papermill": {
     "duration": 0.381462,
     "end_time": "2021-06-01T09:43:56.102900",
     "exception": false,
     "start_time": "2021-06-01T09:43:55.721438",
     "status": "completed"
    },
    "tags": []
   },
   "outputs": [
    {
     "name": "stderr",
     "output_type": "stream",
     "text": [
      "/opt/conda/lib/python3.7/site-packages/seaborn/categorical.py:3714: UserWarning: The `factorplot` function has been renamed to `catplot`. The original name will be removed in a future release. Please update your code. Note that the default `kind` in `factorplot` (`'point'`) has changed `'strip'` in `catplot`.\n",
      "  warnings.warn(msg)\n"
     ]
    },
    {
     "data": {
      "image/png": "[encoded data removed]",
      "text/plain": [
       "<Figure size 720x360 with 2 Axes>"
      ]
     },
     "metadata": {
      "needs_background": "light"
     },
     "output_type": "display_data"
    }
   ],
   "source": [
    "sns.factorplot(x='Survived', col='Sex', kind='count', data=train_data);"
   ]
  },
  {
   "cell_type": "markdown",
   "id": "loved-platinum",
   "metadata": {
    "papermill": {
     "duration": 0.038926,
     "end_time": "2021-06-01T09:43:56.181207",
     "exception": false,
     "start_time": "2021-06-01T09:43:56.142281",
     "status": "completed"
    },
    "tags": []
   },
   "source": [
    "### Conclusion\n",
    "Women have higher chances of survival"
   ]
  },
  {
   "cell_type": "markdown",
   "id": "fundamental-cambodia",
   "metadata": {
    "papermill": {
     "duration": 0.039813,
     "end_time": "2021-06-01T09:43:56.261819",
     "exception": false,
     "start_time": "2021-06-01T09:43:56.222006",
     "status": "completed"
    },
    "tags": []
   },
   "source": [
    "## Survival based on ticket class"
   ]
  },
  {
   "cell_type": "code",
   "execution_count": 11,
   "id": "democratic-passion",
   "metadata": {
    "execution": {
     "iopub.execute_input": "2021-06-01T09:43:56.349780Z",
     "iopub.status.busy": "2021-06-01T09:43:56.348662Z",
     "iopub.status.idle": "2021-06-01T09:43:56.472584Z",
     "shell.execute_reply": "2021-06-01T09:43:56.471995Z",
     "shell.execute_reply.started": "2021-06-01T09:43:25.724516Z"
    },
    "papermill": {
     "duration": 0.170315,
     "end_time": "2021-06-01T09:43:56.472754",
     "exception": false,
     "start_time": "2021-06-01T09:43:56.302439",
     "status": "completed"
    },
    "tags": []
   },
   "outputs": [
    {
     "data": {
      "image/png": "[encoded data removed]",
      "text/plain": [
       "<Figure size 432x288 with 1 Axes>"
      ]
     },
     "metadata": {
      "needs_background": "light"
     },
     "output_type": "display_data"
    }
   ],
   "source": [
    "sns.countplot(x='Pclass', data=train_data);"
   ]
  },
  {
   "cell_type": "code",
   "execution_count": 12,
   "id": "analyzed-apparatus",
   "metadata": {
    "execution": {
     "iopub.execute_input": "2021-06-01T09:43:56.560959Z",
     "iopub.status.busy": "2021-06-01T09:43:56.560181Z",
     "iopub.status.idle": "2021-06-01T09:43:56.583693Z",
     "shell.execute_reply": "2021-06-01T09:43:56.582940Z",
     "shell.execute_reply.started": "2021-06-01T09:43:25.849138Z"
    },
    "papermill": {
     "duration": 0.070558,
     "end_time": "2021-06-01T09:43:56.583854",
     "exception": false,
     "start_time": "2021-06-01T09:43:56.513296",
     "status": "completed"
    },
    "tags": []
   },
   "outputs": [
    {
     "name": "stdout",
     "output_type": "stream",
     "text": [
      "62.96% of the first class passengers survived\n"
     ]
    }
   ],
   "source": [
    "first_class = train_data.loc[train_data.Pclass == 1][\"Survived\"]\n",
    "rate_first = round(sum(first_class)/len(first_class)*100 , 2)\n",
    "\n",
    "print(\"{}% of the first class passengers survived\".format(rate_first))"
   ]
  },
  {
   "cell_type": "code",
   "execution_count": 13,
   "id": "educated-interval",
   "metadata": {
    "execution": {
     "iopub.execute_input": "2021-06-01T09:43:56.672274Z",
     "iopub.status.busy": "2021-06-01T09:43:56.671472Z",
     "iopub.status.idle": "2021-06-01T09:43:56.674491Z",
     "shell.execute_reply": "2021-06-01T09:43:56.675205Z",
     "shell.execute_reply.started": "2021-06-01T09:43:25.858600Z"
    },
    "papermill": {
     "duration": 0.05266,
     "end_time": "2021-06-01T09:43:56.675471",
     "exception": false,
     "start_time": "2021-06-01T09:43:56.622811",
     "status": "completed"
    },
    "tags": []
   },
   "outputs": [
    {
     "name": "stdout",
     "output_type": "stream",
     "text": [
      "47.28% of the second class passengers survived\n"
     ]
    }
   ],
   "source": [
    "sec_class = train_data.loc[train_data.Pclass == 2][\"Survived\"]\n",
    "rate_sec = round(sum(sec_class)/len(sec_class)*100 , 2)\n",
    "\n",
    "print(\"{}% of the second class passengers survived\".format(rate_sec))"
   ]
  },
  {
   "cell_type": "code",
   "execution_count": 14,
   "id": "certified-robert",
   "metadata": {
    "execution": {
     "iopub.execute_input": "2021-06-01T09:43:56.762882Z",
     "iopub.status.busy": "2021-06-01T09:43:56.762179Z",
     "iopub.status.idle": "2021-06-01T09:43:56.771016Z",
     "shell.execute_reply": "2021-06-01T09:43:56.770291Z",
     "shell.execute_reply.started": "2021-06-01T09:43:25.872217Z"
    },
    "papermill": {
     "duration": 0.053578,
     "end_time": "2021-06-01T09:43:56.771207",
     "exception": false,
     "start_time": "2021-06-01T09:43:56.717629",
     "status": "completed"
    },
    "tags": []
   },
   "outputs": [
    {
     "name": "stdout",
     "output_type": "stream",
     "text": [
      "24.24% of the third class passengers survived\n"
     ]
    }
   ],
   "source": [
    "third_class = train_data.loc[train_data.Pclass == 3][\"Survived\"]\n",
    "rate_third = round(sum(third_class)/len(third_class)*100 , 2)\n",
    "\n",
    "print(\"{}% of the third class passengers survived\".format(rate_third))"
   ]
  },
  {
   "cell_type": "code",
   "execution_count": 15,
   "id": "israeli-delhi",
   "metadata": {
    "execution": {
     "iopub.execute_input": "2021-06-01T09:43:56.863284Z",
     "iopub.status.busy": "2021-06-01T09:43:56.862181Z",
     "iopub.status.idle": "2021-06-01T09:43:57.402923Z",
     "shell.execute_reply": "2021-06-01T09:43:57.402180Z",
     "shell.execute_reply.started": "2021-06-01T09:43:25.886188Z"
    },
    "papermill": {
     "duration": 0.589758,
     "end_time": "2021-06-01T09:43:57.403080",
     "exception": false,
     "start_time": "2021-06-01T09:43:56.813322",
     "status": "completed"
    },
    "tags": []
   },
   "outputs": [
    {
     "name": "stderr",
     "output_type": "stream",
     "text": [
      "/opt/conda/lib/python3.7/site-packages/seaborn/categorical.py:3714: UserWarning: The `factorplot` function has been renamed to `catplot`. The original name will be removed in a future release. Please update your code. Note that the default `kind` in `factorplot` (`'point'`) has changed `'strip'` in `catplot`.\n",
      "  warnings.warn(msg)\n"
     ]
    },
    {
     "data": {
      "image/png": "[encoded data removed]",
      "text/plain": [
       "<Figure size 1080x360 with 3 Axes>"
      ]
     },
     "metadata": {
      "needs_background": "light"
     },
     "output_type": "display_data"
    }
   ],
   "source": [
    "sns.factorplot(x='Survived', col='Pclass', kind='count', data=train_data);"
   ]
  },
  {
   "cell_type": "markdown",
   "id": "guided-relevance",
   "metadata": {
    "papermill": {
     "duration": 0.040239,
     "end_time": "2021-06-01T09:43:57.484218",
     "exception": false,
     "start_time": "2021-06-01T09:43:57.443979",
     "status": "completed"
    },
    "tags": []
   },
   "source": [
    "### Conclusion\n",
    "First class passengers had better chances of survival, followed by second class passenger, then third class passengers"
   ]
  },
  {
   "cell_type": "markdown",
   "id": "important-nature",
   "metadata": {
    "papermill": {
     "duration": 0.040174,
     "end_time": "2021-06-01T09:43:57.564950",
     "exception": false,
     "start_time": "2021-06-01T09:43:57.524776",
     "status": "completed"
    },
    "tags": []
   },
   "source": [
    "### Survival based on embarked station"
   ]
  },
  {
   "cell_type": "code",
   "execution_count": 16,
   "id": "simple-check",
   "metadata": {
    "execution": {
     "iopub.execute_input": "2021-06-01T09:43:57.677483Z",
     "iopub.status.busy": "2021-06-01T09:43:57.656174Z",
     "iopub.status.idle": "2021-06-01T09:43:57.785035Z",
     "shell.execute_reply": "2021-06-01T09:43:57.784466Z",
     "shell.execute_reply.started": "2021-06-01T09:43:26.397384Z"
    },
    "papermill": {
     "duration": 0.179554,
     "end_time": "2021-06-01T09:43:57.785223",
     "exception": false,
     "start_time": "2021-06-01T09:43:57.605669",
     "status": "completed"
    },
    "tags": []
   },
   "outputs": [
    {
     "data": {
      "image/png": "[encoded data removed]",
      "text/plain": [
       "<Figure size 432x288 with 1 Axes>"
      ]
     },
     "metadata": {
      "needs_background": "light"
     },
     "output_type": "display_data"
    }
   ],
   "source": [
    "sns.countplot(x='Embarked', data=train_data);"
   ]
  },
  {
   "cell_type": "code",
   "execution_count": 17,
   "id": "clean-insulin",
   "metadata": {
    "execution": {
     "iopub.execute_input": "2021-06-01T09:43:57.878189Z",
     "iopub.status.busy": "2021-06-01T09:43:57.877258Z",
     "iopub.status.idle": "2021-06-01T09:43:57.881056Z",
     "shell.execute_reply": "2021-06-01T09:43:57.880345Z",
     "shell.execute_reply.started": "2021-06-01T09:43:26.517859Z"
    },
    "papermill": {
     "duration": 0.053954,
     "end_time": "2021-06-01T09:43:57.881233",
     "exception": false,
     "start_time": "2021-06-01T09:43:57.827279",
     "status": "completed"
    },
    "tags": []
   },
   "outputs": [
    {
     "name": "stdout",
     "output_type": "stream",
     "text": [
      "55.36% of the passengers embarked from Cherbourg survived\n"
     ]
    }
   ],
   "source": [
    "Cherbourg = train_data.loc[train_data.Embarked == 'C'][\"Survived\"]\n",
    "rate_C = round(sum(Cherbourg)/len(Cherbourg)*100 , 2)\n",
    "\n",
    "print(\"{}% of the passengers embarked from Cherbourg survived\".format(rate_C))"
   ]
  },
  {
   "cell_type": "code",
   "execution_count": 18,
   "id": "technological-match",
   "metadata": {
    "execution": {
     "iopub.execute_input": "2021-06-01T09:43:57.973964Z",
     "iopub.status.busy": "2021-06-01T09:43:57.973050Z",
     "iopub.status.idle": "2021-06-01T09:43:57.976703Z",
     "shell.execute_reply": "2021-06-01T09:43:57.976040Z",
     "shell.execute_reply.started": "2021-06-01T09:43:26.525545Z"
    },
    "papermill": {
     "duration": 0.054024,
     "end_time": "2021-06-01T09:43:57.976866",
     "exception": false,
     "start_time": "2021-06-01T09:43:57.922842",
     "status": "completed"
    },
    "tags": []
   },
   "outputs": [
    {
     "name": "stdout",
     "output_type": "stream",
     "text": [
      "38.96% of the passengers embarked from Cherbourg survived\n"
     ]
    }
   ],
   "source": [
    "Queenstown = train_data.loc[train_data.Embarked == 'Q'][\"Survived\"]\n",
    "rate_Q = round(sum(Queenstown)/len(Queenstown)*100 , 2)\n",
    "\n",
    "print(\"{}% of the passengers embarked from Cherbourg survived\".format(rate_Q))"
   ]
  },
  {
   "cell_type": "code",
   "execution_count": 19,
   "id": "respiratory-antique",
   "metadata": {
    "execution": {
     "iopub.execute_input": "2021-06-01T09:43:58.070038Z",
     "iopub.status.busy": "2021-06-01T09:43:58.068062Z",
     "iopub.status.idle": "2021-06-01T09:43:58.075515Z",
     "shell.execute_reply": "2021-06-01T09:43:58.074908Z",
     "shell.execute_reply.started": "2021-06-01T09:43:26.542342Z"
    },
    "papermill": {
     "duration": 0.056387,
     "end_time": "2021-06-01T09:43:58.075670",
     "exception": false,
     "start_time": "2021-06-01T09:43:58.019283",
     "status": "completed"
    },
    "tags": []
   },
   "outputs": [
    {
     "name": "stdout",
     "output_type": "stream",
     "text": [
      "33.7% of the passengers embarked from Cherbourg survived\n"
     ]
    }
   ],
   "source": [
    "Southampton = train_data.loc[train_data.Embarked == 'S'][\"Survived\"]\n",
    "rate_S = round(sum(Southampton)/len(Southampton)*100 , 2)\n",
    "\n",
    "print(\"{}% of the passengers embarked from Cherbourg survived\".format(rate_S))"
   ]
  },
  {
   "cell_type": "code",
   "execution_count": 20,
   "id": "revolutionary-blocking",
   "metadata": {
    "execution": {
     "iopub.execute_input": "2021-06-01T09:43:58.379400Z",
     "iopub.status.busy": "2021-06-01T09:43:58.363297Z",
     "iopub.status.idle": "2021-06-01T09:43:58.888985Z",
     "shell.execute_reply": "2021-06-01T09:43:58.888326Z",
     "shell.execute_reply.started": "2021-06-01T09:43:26.554455Z"
    },
    "papermill": {
     "duration": 0.770004,
     "end_time": "2021-06-01T09:43:58.889166",
     "exception": false,
     "start_time": "2021-06-01T09:43:58.119162",
     "status": "completed"
    },
    "tags": []
   },
   "outputs": [
    {
     "name": "stderr",
     "output_type": "stream",
     "text": [
      "/opt/conda/lib/python3.7/site-packages/seaborn/categorical.py:3714: UserWarning: The `factorplot` function has been renamed to `catplot`. The original name will be removed in a future release. Please update your code. Note that the default `kind` in `factorplot` (`'point'`) has changed `'strip'` in `catplot`.\n",
      "  warnings.warn(msg)\n"
     ]
    },
    {
     "data": {
      "image/png": "[encoded data removed]",
      "text/plain": [
       "<Figure size 1080x360 with 3 Axes>"
      ]
     },
     "metadata": {
      "needs_background": "light"
     },
     "output_type": "display_data"
    }
   ],
   "source": [
    "sns.factorplot(x='Survived', col='Embarked', kind='count', data=train_data);"
   ]
  },
  {
   "cell_type": "markdown",
   "id": "certain-horizontal",
   "metadata": {
    "papermill": {
     "duration": 0.047852,
     "end_time": "2021-06-01T09:43:58.988342",
     "exception": false,
     "start_time": "2021-06-01T09:43:58.940490",
     "status": "completed"
    },
    "tags": []
   },
   "source": [
    "### Conclusion\n",
    "Passengers embarked from Cherbourg had better survival rates, followed by Southampton, then Queenstown"
   ]
  },
  {
   "cell_type": "markdown",
   "id": "olive-amber",
   "metadata": {
    "papermill": {
     "duration": 0.043094,
     "end_time": "2021-06-01T09:43:59.075250",
     "exception": false,
     "start_time": "2021-06-01T09:43:59.032156",
     "status": "completed"
    },
    "tags": []
   },
   "source": [
    "### Survival based on age group\n",
    "Consider 4 age groups:\n",
    "* 0-18: Children\n",
    "* 18-35: Young Adults\n",
    "* 35-50: Middle Age\n",
    "* 50-80: Elders"
   ]
  },
  {
   "cell_type": "markdown",
   "id": "opened-affiliate",
   "metadata": {
    "papermill": {
     "duration": 0.043214,
     "end_time": "2021-06-01T09:43:59.161942",
     "exception": false,
     "start_time": "2021-06-01T09:43:59.118728",
     "status": "completed"
    },
    "tags": []
   },
   "source": [
    "Before analyzing the age, we must drop the NaN values<br>\n",
    "To keep the results as accurate as possible, no imputing was used."
   ]
  },
  {
   "cell_type": "code",
   "execution_count": 21,
   "id": "thousand-wallet",
   "metadata": {
    "execution": {
     "iopub.execute_input": "2021-06-01T09:43:59.260591Z",
     "iopub.status.busy": "2021-06-01T09:43:59.259043Z",
     "iopub.status.idle": "2021-06-01T09:43:59.265574Z",
     "shell.execute_reply": "2021-06-01T09:43:59.264901Z",
     "shell.execute_reply.started": "2021-06-01T09:43:27.057846Z"
    },
    "papermill": {
     "duration": 0.05899,
     "end_time": "2021-06-01T09:43:59.265730",
     "exception": false,
     "start_time": "2021-06-01T09:43:59.206740",
     "status": "completed"
    },
    "tags": []
   },
   "outputs": [
    {
     "data": {
      "text/plain": [
       "(712, 6)"
      ]
     },
     "execution_count": 21,
     "metadata": {},
     "output_type": "execute_result"
    }
   ],
   "source": [
    "train_data.dropna(axis=0, inplace=True)\n",
    "train_data.shape"
   ]
  },
  {
   "cell_type": "code",
   "execution_count": 22,
   "id": "stone-spencer",
   "metadata": {
    "execution": {
     "iopub.execute_input": "2021-06-01T09:43:59.360371Z",
     "iopub.status.busy": "2021-06-01T09:43:59.359319Z",
     "iopub.status.idle": "2021-06-01T09:43:59.551781Z",
     "shell.execute_reply": "2021-06-01T09:43:59.552664Z",
     "shell.execute_reply.started": "2021-06-01T09:43:27.071966Z"
    },
    "papermill": {
     "duration": 0.243638,
     "end_time": "2021-06-01T09:43:59.552945",
     "exception": false,
     "start_time": "2021-06-01T09:43:59.309307",
     "status": "completed"
    },
    "tags": []
   },
   "outputs": [
    {
     "name": "stderr",
     "output_type": "stream",
     "text": [
      "/opt/conda/lib/python3.7/site-packages/seaborn/distributions.py:2557: FutureWarning: `distplot` is a deprecated function and will be removed in a future version. Please adapt your code to use either `displot` (a figure-level function with similar flexibility) or `histplot` (an axes-level function for histograms).\n",
      "  warnings.warn(msg, FutureWarning)\n"
     ]
    },
    {
     "data": {
      "image/png": "[encoded data removed]",
      "text/plain": [
       "<Figure size 432x288 with 1 Axes>"
      ]
     },
     "metadata": {
      "needs_background": "light"
     },
     "output_type": "display_data"
    }
   ],
   "source": [
    "sns.distplot(train_data.Age, kde=False);"
   ]
  },
  {
   "cell_type": "markdown",
   "id": "adjacent-jewelry",
   "metadata": {
    "papermill": {
     "duration": 0.044579,
     "end_time": "2021-06-01T09:43:59.642896",
     "exception": false,
     "start_time": "2021-06-01T09:43:59.598317",
     "status": "completed"
    },
    "tags": []
   },
   "source": [
    "From the figure above we can see that the passenger count: Young Adults > Middle Age > Children > Elders"
   ]
  },
  {
   "cell_type": "code",
   "execution_count": 23,
   "id": "heavy-hardware",
   "metadata": {
    "execution": {
     "iopub.execute_input": "2021-06-01T09:43:59.742889Z",
     "iopub.status.busy": "2021-06-01T09:43:59.742090Z",
     "iopub.status.idle": "2021-06-01T09:43:59.745802Z",
     "shell.execute_reply": "2021-06-01T09:43:59.745250Z",
     "shell.execute_reply.started": "2021-06-01T09:43:27.259068Z"
    },
    "papermill": {
     "duration": 0.057953,
     "end_time": "2021-06-01T09:43:59.745959",
     "exception": false,
     "start_time": "2021-06-01T09:43:59.688006",
     "status": "completed"
    },
    "tags": []
   },
   "outputs": [
    {
     "name": "stdout",
     "output_type": "stream",
     "text": [
      "53.98% of children survived\n"
     ]
    }
   ],
   "source": [
    "child = train_data.loc[(train_data['Age'] > 0) & (train_data['Age'] < 18)][\"Survived\"]\n",
    "rate_child = round(sum(child)/len(child)*100 , 2)\n",
    "\n",
    "print(\"{}% of children survived\".format(rate_child))"
   ]
  },
  {
   "cell_type": "code",
   "execution_count": 24,
   "id": "based-russian",
   "metadata": {
    "execution": {
     "iopub.execute_input": "2021-06-01T09:43:59.848768Z",
     "iopub.status.busy": "2021-06-01T09:43:59.847830Z",
     "iopub.status.idle": "2021-06-01T09:43:59.852152Z",
     "shell.execute_reply": "2021-06-01T09:43:59.851471Z",
     "shell.execute_reply.started": "2021-06-01T09:43:27.272287Z"
    },
    "papermill": {
     "duration": 0.059544,
     "end_time": "2021-06-01T09:43:59.852314",
     "exception": false,
     "start_time": "2021-06-01T09:43:59.792770",
     "status": "completed"
    },
    "tags": []
   },
   "outputs": [
    {
     "name": "stdout",
     "output_type": "stream",
     "text": [
      "36.89% of young adults survived\n"
     ]
    }
   ],
   "source": [
    "adult = train_data.loc[(train_data['Age'] >= 18) & (train_data['Age'] < 35)][\"Survived\"]\n",
    "rate_adult = round(sum(adult)/len(adult)*100 , 2)\n",
    "\n",
    "print(\"{}% of young adults survived\".format(rate_adult))"
   ]
  },
  {
   "cell_type": "code",
   "execution_count": 25,
   "id": "black-feeling",
   "metadata": {
    "execution": {
     "iopub.execute_input": "2021-06-01T09:43:59.953094Z",
     "iopub.status.busy": "2021-06-01T09:43:59.952267Z",
     "iopub.status.idle": "2021-06-01T09:43:59.956239Z",
     "shell.execute_reply": "2021-06-01T09:43:59.955688Z",
     "shell.execute_reply.started": "2021-06-01T09:43:27.285089Z"
    },
    "papermill": {
     "duration": 0.058344,
     "end_time": "2021-06-01T09:43:59.956399",
     "exception": false,
     "start_time": "2021-06-01T09:43:59.898055",
     "status": "completed"
    },
    "tags": []
   },
   "outputs": [
    {
     "name": "stdout",
     "output_type": "stream",
     "text": [
      "41.25% of middle aged people survived\n"
     ]
    }
   ],
   "source": [
    "mid = train_data.loc[(train_data['Age'] >= 35) & (train_data['Age'] < 50)][\"Survived\"]\n",
    "rate_mid = round(sum(mid)/len(mid)*100 , 2)\n",
    "\n",
    "print(\"{}% of middle aged people survived\".format(rate_mid))"
   ]
  },
  {
   "cell_type": "code",
   "execution_count": 26,
   "id": "assigned-grove",
   "metadata": {
    "execution": {
     "iopub.execute_input": "2021-06-01T09:44:00.055490Z",
     "iopub.status.busy": "2021-06-01T09:44:00.054752Z",
     "iopub.status.idle": "2021-06-01T09:44:00.061934Z",
     "shell.execute_reply": "2021-06-01T09:44:00.061344Z",
     "shell.execute_reply.started": "2021-06-01T09:43:27.300355Z"
    },
    "papermill": {
     "duration": 0.059855,
     "end_time": "2021-06-01T09:44:00.062105",
     "exception": false,
     "start_time": "2021-06-01T09:44:00.002250",
     "status": "completed"
    },
    "tags": []
   },
   "outputs": [
    {
     "name": "stdout",
     "output_type": "stream",
     "text": [
      "35.62% of elders survived\n"
     ]
    }
   ],
   "source": [
    "old = train_data.loc[train_data['Age'] >=50][\"Survived\"]\n",
    "rate_old = round(sum(old)/len(old)*100 , 2)\n",
    "\n",
    "print(\"{}% of elders survived\".format(rate_old))"
   ]
  },
  {
   "cell_type": "code",
   "execution_count": 27,
   "id": "golden-habitat",
   "metadata": {
    "execution": {
     "iopub.execute_input": "2021-06-01T09:44:00.162784Z",
     "iopub.status.busy": "2021-06-01T09:44:00.162058Z",
     "iopub.status.idle": "2021-06-01T09:44:00.298908Z",
     "shell.execute_reply": "2021-06-01T09:44:00.298280Z",
     "shell.execute_reply.started": "2021-06-01T09:43:27.310868Z"
    },
    "papermill": {
     "duration": 0.190918,
     "end_time": "2021-06-01T09:44:00.299063",
     "exception": false,
     "start_time": "2021-06-01T09:44:00.108145",
     "status": "completed"
    },
    "tags": []
   },
   "outputs": [
    {
     "data": {
      "image/png": "[encoded data removed]",
      "text/plain": [
       "<Figure size 432x288 with 1 Axes>"
      ]
     },
     "metadata": {
      "needs_background": "light"
     },
     "output_type": "display_data"
    }
   ],
   "source": [
    "sns.stripplot(x='Survived', y='Age', data=train_data, alpha=0.5, jitter=True);"
   ]
  },
  {
   "cell_type": "markdown",
   "id": "prompt-chosen",
   "metadata": {
    "papermill": {
     "duration": 0.046623,
     "end_time": "2021-06-01T09:44:00.393031",
     "exception": false,
     "start_time": "2021-06-01T09:44:00.346408",
     "status": "completed"
    },
    "tags": []
   },
   "source": [
    "### Conclusion\n",
    "Children seem to have had the best luck in surviving, followed by middle agers. Young adults, and elders had the worse survival rates"
   ]
  },
  {
   "cell_type": "markdown",
   "id": "afraid-failure",
   "metadata": {
    "papermill": {
     "duration": 0.04621,
     "end_time": "2021-06-01T09:44:00.487524",
     "exception": false,
     "start_time": "2021-06-01T09:44:00.441314",
     "status": "completed"
    },
    "tags": []
   },
   "source": [
    "## Final Thoughts\n",
    "The best survival chances seems to be:\n",
    "* woman\n",
    "* aged 0-18\n",
    "* first class\n",
    "* embarked from Cherbourg"
   ]
  },
  {
   "cell_type": "markdown",
   "id": "corporate-trial",
   "metadata": {
    "papermill": {
     "duration": 0.046609,
     "end_time": "2021-06-01T09:44:00.581327",
     "exception": false,
     "start_time": "2021-06-01T09:44:00.534718",
     "status": "completed"
    },
    "tags": []
   },
   "source": [
    "### Dealing with the test dataset"
   ]
  },
  {
   "cell_type": "code",
   "execution_count": 28,
   "id": "pregnant-confusion",
   "metadata": {
    "execution": {
     "iopub.execute_input": "2021-06-01T09:44:00.694829Z",
     "iopub.status.busy": "2021-06-01T09:44:00.692367Z",
     "iopub.status.idle": "2021-06-01T09:44:00.699036Z",
     "shell.execute_reply": "2021-06-01T09:44:00.698370Z",
     "shell.execute_reply.started": "2021-06-01T09:43:27.456441Z"
    },
    "papermill": {
     "duration": 0.07074,
     "end_time": "2021-06-01T09:44:00.699212",
     "exception": false,
     "start_time": "2021-06-01T09:44:00.628472",
     "status": "completed"
    },
    "tags": []
   },
   "outputs": [
    {
     "name": "stdout",
     "output_type": "stream",
     "text": [
      "<class 'pandas.core.frame.DataFrame'>\n",
      "RangeIndex: 418 entries, 0 to 417\n",
      "Data columns (total 11 columns):\n",
      " #   Column       Non-Null Count  Dtype  \n",
      "---  ------       --------------  -----  \n",
      " 0   PassengerId  418 non-null    int64  \n",
      " 1   Pclass       418 non-null    int64  \n",
      " 2   Name         418 non-null    object \n",
      " 3   Sex          418 non-null    object \n",
      " 4   Age          332 non-null    float64\n",
      " 5   SibSp        418 non-null    int64  \n",
      " 6   Parch        418 non-null    int64  \n",
      " 7   Ticket       418 non-null    object \n",
      " 8   Fare         417 non-null    float64\n",
      " 9   Cabin        91 non-null     object \n",
      " 10  Embarked     418 non-null    object \n",
      "dtypes: float64(2), int64(4), object(5)\n",
      "memory usage: 36.0+ KB\n"
     ]
    }
   ],
   "source": [
    "test_data.info()"
   ]
  },
  {
   "cell_type": "code",
   "execution_count": 29,
   "id": "fourth-treasurer",
   "metadata": {
    "execution": {
     "iopub.execute_input": "2021-06-01T09:44:00.803609Z",
     "iopub.status.busy": "2021-06-01T09:44:00.802902Z",
     "iopub.status.idle": "2021-06-01T09:44:00.805738Z",
     "shell.execute_reply": "2021-06-01T09:44:00.806189Z",
     "shell.execute_reply.started": "2021-06-01T09:43:27.474429Z"
    },
    "papermill": {
     "duration": 0.059838,
     "end_time": "2021-06-01T09:44:00.806381",
     "exception": false,
     "start_time": "2021-06-01T09:44:00.746543",
     "status": "completed"
    },
    "tags": []
   },
   "outputs": [],
   "source": [
    "mean = test_data['Age'].mean()\n",
    "test_data['Age'].fillna(mean, inplace = True)"
   ]
  },
  {
   "cell_type": "code",
   "execution_count": 30,
   "id": "buried-shanghai",
   "metadata": {
    "execution": {
     "iopub.execute_input": "2021-06-01T09:44:00.916590Z",
     "iopub.status.busy": "2021-06-01T09:44:00.908312Z",
     "iopub.status.idle": "2021-06-01T09:44:00.922994Z",
     "shell.execute_reply": "2021-06-01T09:44:00.922020Z",
     "shell.execute_reply.started": "2021-06-01T09:43:27.485904Z"
    },
    "papermill": {
     "duration": 0.069366,
     "end_time": "2021-06-01T09:44:00.923219",
     "exception": false,
     "start_time": "2021-06-01T09:44:00.853853",
     "status": "completed"
    },
    "tags": []
   },
   "outputs": [
    {
     "name": "stdout",
     "output_type": "stream",
     "text": [
      "<class 'pandas.core.frame.DataFrame'>\n",
      "RangeIndex: 418 entries, 0 to 417\n",
      "Data columns (total 11 columns):\n",
      " #   Column       Non-Null Count  Dtype  \n",
      "---  ------       --------------  -----  \n",
      " 0   PassengerId  418 non-null    int64  \n",
      " 1   Pclass       418 non-null    int64  \n",
      " 2   Name         418 non-null    object \n",
      " 3   Sex          418 non-null    object \n",
      " 4   Age          418 non-null    float64\n",
      " 5   SibSp        418 non-null    int64  \n",
      " 6   Parch        418 non-null    int64  \n",
      " 7   Ticket       418 non-null    object \n",
      " 8   Fare         417 non-null    float64\n",
      " 9   Cabin        91 non-null     object \n",
      " 10  Embarked     418 non-null    object \n",
      "dtypes: float64(2), int64(4), object(5)\n",
      "memory usage: 36.0+ KB\n"
     ]
    }
   ],
   "source": [
    "test_data.info()"
   ]
  },
  {
   "cell_type": "code",
   "execution_count": 31,
   "id": "forward-partner",
   "metadata": {
    "execution": {
     "iopub.execute_input": "2021-06-01T09:44:01.028963Z",
     "iopub.status.busy": "2021-06-01T09:44:01.028199Z",
     "iopub.status.idle": "2021-06-01T09:44:01.676357Z",
     "shell.execute_reply": "2021-06-01T09:44:01.675647Z",
     "shell.execute_reply.started": "2021-06-01T09:43:27.508956Z"
    },
    "papermill": {
     "duration": 0.703799,
     "end_time": "2021-06-01T09:44:01.676521",
     "exception": false,
     "start_time": "2021-06-01T09:44:00.972722",
     "status": "completed"
    },
    "tags": []
   },
   "outputs": [
    {
     "name": "stdout",
     "output_type": "stream",
     "text": [
      "Your submission was successfully saved!\n"
     ]
    }
   ],
   "source": [
    "from sklearn.ensemble import RandomForestClassifier\n",
    "\n",
    "y = train_data[\"Survived\"]\n",
    "\n",
    "features = [\"Age\", \"Sex\", \"Embarked\", \"Pclass\"]\n",
    "X = pd.get_dummies(train_data[features])\n",
    "X_test = pd.get_dummies(test_data[features])\n",
    "\n",
    "model = RandomForestClassifier(n_estimators=100, max_depth=5, random_state=1)\n",
    "model.fit(X, y)\n",
    "predictions = model.predict(X_test)\n",
    "\n",
    "output = pd.DataFrame({'PassengerId': test_data.PassengerId, 'Survived': predictions})\n",
    "output.to_csv('my_submission.csv', index=False)\n",
    "print(\"Your submission was successfully saved!\")"
   ]
  }
 ],
 "metadata": {
  "kernelspec": {
   "display_name": "Python 3",
   "language": "python",
   "name": "python3"
  },
  "language_info": {
   "codemirror_mode": {
    "name": "ipython",
    "version": 3
   },
   "file_extension": ".py",
   "mimetype": "text/x-python",
   "name": "python",
   "nbconvert_exporter": "python",
   "pygments_lexer": "ipython3",
   "version": "3.7.10"
  },
  "papermill": {
   "default_parameters": {},
   "duration": 18.901914,
   "end_time": "2021-06-01T09:44:03.779052",
   "environment_variables": {},
   "exception": null,
   "input_path": "__notebook__.ipynb",
   "output_path": "__notebook__.ipynb",
   "parameters": {},
   "start_time": "2021-06-01T09:43:44.877138",
   "version": "2.3.3"
  }
 },
 "nbformat": 4,
 "nbformat_minor": 5
}
